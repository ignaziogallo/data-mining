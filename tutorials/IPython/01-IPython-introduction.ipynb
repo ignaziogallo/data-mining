{
 "cells": [
  {
   "cell_type": "markdown",
   "metadata": {
    "slideshow": {
     "slide_type": "slide"
    }
   },
   "source": [
    "# IPython: Beyond Normal Python"
   ]
  },
  {
   "cell_type": "markdown",
   "metadata": {
    "slideshow": {
     "slide_type": "fragment"
    }
   },
   "source": [
    "``IPython`` (short for **Interactive Python**) \n",
    "* was started in 2001 by Fernando Perez as an **enhanced Python interpreter**, and \n",
    "* has since grown into a project aiming to provide, in Perez's words, \"``Tools for the entire life cycle of research computing``.\"\n",
    "* If ``Python`` is the **engine of** our **data science** task,   \n",
    "you might think of ``IPython`` as  the **interactive control panel**.\n"
   ]
  },
  {
   "cell_type": "markdown",
   "metadata": {
    "slideshow": {
     "slide_type": "subslide"
    }
   },
   "source": [
    "* IPython also provides a number of useful **syntactic additions** to the language; we'll cover the most useful of these additions here.\n",
    "* IPython is closely tied with the [Jupyter project](http://jupyter.org), which provides a ``browser-based notebook`` that is useful for **development**, **collaboration**, **sharing**, and even **publication** of ``data science results``.\n",
    "* The IPython notebook is actually a special case of the broader Jupyter notebook structure, which encompasses notebooks for **Julia**, **R**, and other programming languages.\n"
   ]
  },
  {
   "cell_type": "markdown",
   "metadata": {
    "slideshow": {
     "slide_type": "fragment"
    }
   },
   "source": [
    "\n",
    "<span style=\"color:red\">IPython is about using Python effectively for interactive scientific and data-intensive computing.</span>\n"
   ]
  },
  {
   "cell_type": "markdown",
   "metadata": {
    "slideshow": {
     "slide_type": "slide"
    }
   },
   "source": [
    "## Shell or Notebook?\n",
    "\n",
    "There are two primary means of using IPython: \n",
    "- the IPython **shell** and \n",
    "- the IPython **notebook**.\n",
    "\n",
    "The bulk of the material in this notebook is relevant to both, and the examples will switch between them depending on what is most convenient.\n"
   ]
  },
  {
   "cell_type": "markdown",
   "metadata": {
    "slideshow": {
     "slide_type": "slide"
    }
   },
   "source": [
    "### Launching the IPython Shell\n",
    "\n",
    "These notebooks, are **not** designed to be **absorbed passively**.\n",
    "\n",
    "I recommend that as you read through it, you follow along and experiment with the tools and syntax we cover.\n",
    "* Start by launching the IPython interpreter by typing **``ipython``** on the command-line; \n",
    "* alternatively, if you've installed a distribution like Anaconda there may be a launcher specific to your system.\n",
    "\n",
    "Once you do this, you should see a prompt like the following:\n",
    "```\n",
    "IPython 4.0.1 -- An enhanced Interactive Python.\n",
    "?         -> Introduction and overview of IPython's features.\n",
    "%quickref -> Quick reference.\n",
    "help      -> Python's own help system.\n",
    "object?   -> Details about 'object', use 'object??' for extra details.\n",
    "In [1]:\n",
    "```"
   ]
  },
  {
   "cell_type": "markdown",
   "metadata": {
    "slideshow": {
     "slide_type": "slide"
    }
   },
   "source": [
    "### Launching the Jupyter Notebook\n",
    "\n",
    "* The **Jupyter notebook** is a **browser-based graphical interface to the IPython shell**, and builds on it a rich set of dynamic display capabilities.\n",
    "* As well as executing Python/IPython statements, the **notebook allows** the user to include \n",
    "  * **formatted text**, \n",
    "  * **static** and **dynamic visualizations**, \n",
    "  * **mathematical equations**, \n",
    "  * JavaScript widgets, and much more...\n",
    "* Furthermore, these documents can be **saved** in a way that lets other people open them and execute the code on their own systems.\n",
    "* Though the IPython notebook is **viewed** and **edited** through your web browser window, it must connect to a <span style=\"color:blue\">running Python process</span> in order to execute code.\n",
    "* This process can be **started** by running the following command in your system shell:\n",
    "```\n",
    "$ jupyter notebook\n",
    "```\n"
   ]
  },
  {
   "cell_type": "markdown",
   "metadata": {
    "slideshow": {
     "slide_type": "subslide"
    }
   },
   "source": [
    "This command will launch a **local web server** that will be visible to your browser.\n",
    "\n",
    "It immediately spits out a log showing what it is doing; that **log** will look something like this:\n",
    "\n",
    "```\n",
    "$ jupyter notebook\n",
    "[NotebookApp] Serving notebooks from local directory: /Users/jakevdp/PythonDataScienceHandbook\n",
    "[NotebookApp] 0 active kernels \n",
    "[NotebookApp] The IPython Notebook is running at: http://localhost:8888/\n",
    "[NotebookApp] Use Control-C to stop this server and shut down all kernels (twice to skip confirmation).\n",
    "```\n",
    "\n",
    "Upon issuing the command, your default browser should automatically open and navigate to the listed local URL;\n",
    "the exact address will depend on your system.\n",
    "If the **browser does not open automatically**, you can open a window and manually open this address (*http://localhost:8888/* in this example)."
   ]
  },
  {
   "cell_type": "markdown",
   "metadata": {
    "slideshow": {
     "slide_type": "slide"
    }
   },
   "source": [
    "# Jupyter Notebook\n",
    "\n",
    "An Jupyter Notebook consists of a number of \"cells,\" stacked on the page from top to bottom. \n",
    "* Cells can have **text** or **code** in them. \n",
    "* You can change a **cell's type** using the \"Cell\" menu at the top of the page; \n",
    "* go to `Cell > Cell Type` and select either `Code` for Python code or `Markdown` for text. (You can also change this for the current cell using the drop-down menu in the toolbar.)\n",
    "<img src=\"figures/blank-notebook-ui.png\" width=\"70%\">\n"
    ![](figures/blank-notebook-ui.png)
   ]
  },
  {
   "cell_type": "markdown",
   "metadata": {
    "slideshow": {
     "slide_type": "slide"
    }
   },
   "source": [
    "## Text cells\n",
    "\n",
    "* Make a new cell, change its type to `Markdown`, type some stuff and press `Ctrl-Enter`. \n",
    "* Jupyter Notebook will \"**render**\" the text and display it on the page in rendered format. \n",
    "* You can hit `Enter` or click in the cell to edit its contents again. \n",
    "* Text in `Markdown` cells is rendered according to a set of conventions called Markdown. \n",
    "* <span style=\"color:blue\">Markdown is a simple language for marking up text with basic text formatting information</span> (such as bold, italics, hyperlinks, tables, etc.).  "
   ]
  },
  {
   "cell_type": "markdown",
   "metadata": {
    "slideshow": {
     "slide_type": "slide"
    }
   },
   "source": [
    "## Practice\n",
    "* Follow [this tutorial](http://markdowntutorial.com/)."
   ]
  },
  {
   "cell_type": "markdown",
   "metadata": {
    "slideshow": {
     "slide_type": "slide"
    }
   },
   "source": [
    "\n",
    "## Code cells\n",
    "\n",
    "You can also press `Alt-Enter` to render the current cell and create a new cell. <br>\n",
    "New cells will by default be `Code` cells. Try it now!"
   ]
  },
  {
   "cell_type": "code",
   "execution_count": 2,
   "metadata": {
    "slideshow": {
     "slide_type": "fragment"
    }
   },
   "outputs": [
    {
     "name": "stdout",
     "output_type": "stream",
     "text": [
      "This is a code cell.\n",
      "---\n",
      "Any Python code you type in this cell will be run when you press the 'Run' button,\n",
      "or when you press Ctrl-Enter.\n",
      "\n",
      "If the code evaluates to something, or if it produces output, that output will be\n",
      "shown beneath the cell after you run it.\n"
     ]
    }
   ],
   "source": [
    "print(\"This is a code cell.\")\n",
    "print(\"---\")\n",
    "print(\"Any Python code you type in this cell will be run when you press the 'Run' button,\")\n",
    "print(\"or when you press Ctrl-Enter.\")\n",
    "print(\"\")\n",
    "print(\"If the code evaluates to something, or if it produces output, that output will be\")\n",
    "print(\"shown beneath the cell after you run it.\")"
   ]
  },
  {
   "cell_type": "code",
   "execution_count": 3,
   "metadata": {
    "slideshow": {
     "slide_type": "subslide"
    }
   },
   "outputs": [
    {
     "name": "stdout",
     "output_type": "stream",
     "text": [
      "If your Python code generates an error, the error will be displayed in addition\n",
      "to any output already produced.\n"
     ]
    },
    {
     "ename": "ZeroDivisionError",
     "evalue": "division by zero",
     "output_type": "error",
     "traceback": [
      "\u001b[0;31m---------------------------------------------------------------------------\u001b[0m",
      "\u001b[0;31mZeroDivisionError\u001b[0m                         Traceback (most recent call last)",
      "\u001b[0;32m<ipython-input-3-1ebad54fe81d>\u001b[0m in \u001b[0;36m<module>\u001b[0;34m\u001b[0m\n\u001b[1;32m      2\u001b[0m \u001b[0mprint\u001b[0m\u001b[0;34m(\u001b[0m\u001b[0;34m\"to any output already produced.\"\u001b[0m\u001b[0;34m)\u001b[0m\u001b[0;34m\u001b[0m\u001b[0m\n\u001b[1;32m      3\u001b[0m \u001b[0;34m\u001b[0m\u001b[0m\n\u001b[0;32m----> 4\u001b[0;31m \u001b[0;36m1\u001b[0m \u001b[0;34m/\u001b[0m \u001b[0;36m0\u001b[0m\u001b[0;34m\u001b[0m\u001b[0m\n\u001b[0m",
      "\u001b[0;31mZeroDivisionError\u001b[0m: division by zero"
     ]
    }
   ],
   "source": [
    "print(\"If your Python code generates an error, the error will be displayed in addition\")\n",
    "print(\"to any output already produced.\")\n",
    "\n",
    "1 / 0"
   ]
  },
  {
   "cell_type": "markdown",
   "metadata": {
    "slideshow": {
     "slide_type": "subslide"
    }
   },
   "source": [
    "Any variables you define or modules you import in ``one code cell will be available in subsequent code cells``.  \n",
    "Start with this:"
   ]
  },
  {
   "cell_type": "code",
   "execution_count": 6,
   "metadata": {
    "slideshow": {
     "slide_type": "fragment"
    }
   },
   "outputs": [],
   "source": [
    "import random\n",
    "stuff = [\"cheddar\", \"daguerrotype\", \"elephant\", \"flea market\"]"
   ]
  },
  {
   "cell_type": "markdown",
   "metadata": {
    "slideshow": {
     "slide_type": "fragment"
    }
   },
   "source": [
    "... and in subsequent cells you can do this:"
   ]
  },
  {
   "cell_type": "code",
   "execution_count": 15,
   "metadata": {
    "slideshow": {
     "slide_type": "fragment"
    }
   },
   "outputs": [
    {
     "name": "stdout",
     "output_type": "stream",
     "text": [
      "flea market\n"
     ]
    }
   ],
   "source": [
    "print(random.choice(stuff))"
   ]
  },
  {
   "cell_type": "markdown",
   "metadata": {
    "slideshow": {
     "slide_type": "slide"
    }
   },
   "source": [
    "## Keyboard shortcuts\n",
    "\n",
    "As mentioned above, \n",
    "* `Ctrl-Enter` **runs the current cell**; \n",
    "* `Alt-Enter` **runs** the current cell **and then creates** a new cell. \n",
    "* `Enter` will start **editing** whichever cell is currently selected. * To quit editing a cell, hit `Esc`. \n",
    "\n",
    "If the cursor isn't currently active in any cell (i.e., after you've hit `Esc`), a number of other keyboard shortcuts are available to you:\n",
    "\n",
    "* `m` converts the selected cell to a Markdown cell\n",
    "* `b` inserts a new cell below the selected one\n",
    "* `x` \"cuts\" the selected cell; \n",
    "* `v` pastes a previously cut cell below the selected cell\n",
    "* `h` brings up a help screen with many more shortcuts.\n"
   ]
  },
  {
   "cell_type": "markdown",
   "metadata": {
    "slideshow": {
     "slide_type": "slide"
    }
   },
   "source": [
    "## Saving your work\n",
    "\n",
    "* Hit `Ctrl-S` at any time to save your notebook. \n",
    "* Jupyter Notebook also **automatically saves** occasionally. \n",
    "* Make sure to give your notebook a descriptive **title** by clicking on \"``Untitled0``\" at the top of the page and replacing the text accordingly. \n",
    "\n",
    "* You can \"download\" your notebook in various formats via `File > Download as`. \n",
    "  * You can download your notebook as a static HTML file (for, e.g., uploading to a web site), \n",
    "  * as a `.ipynb` file, which you can share with other people who have Jupyter Notebook or make available online through, e.g., [nbviewer](http://nbviewer.ipython.org/).\n"
   ]
  }
 ],
 "metadata": {
  "celltoolbar": "Slideshow",
  "kernelspec": {
   "display_name": "Python 3",
   "language": "python",
   "name": "python3"
  },
  "language_info": {
   "codemirror_mode": {
    "name": "ipython",
    "version": 3
   },
   "file_extension": ".py",
   "mimetype": "text/x-python",
   "name": "python",
   "nbconvert_exporter": "python",
   "pygments_lexer": "ipython3",
   "version": "3.5.2"
  }
 },
 "nbformat": 4,
 "nbformat_minor": 1
}
