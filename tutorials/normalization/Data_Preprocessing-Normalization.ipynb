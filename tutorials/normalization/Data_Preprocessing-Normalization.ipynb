{
 "cells": [
  {
   "cell_type": "markdown",
   "metadata": {},
   "source": [
    "[![Open In Colab](https://colab.research.google.com/assets/colab-badge.svg)](https://colab.research.google.com/github/ignaziogallo/data-mining/blob/aa20-21/tutorials/tutorials/normalization/Data_Preprocessing-Normalization.ipynb)"
   ]
  },
  {
   "cell_type": "markdown",
   "metadata": {},
   "source": [
    "# Data Preprocessing - Normalization\n",
    "* Data Normalization involves adjusting values measured on different scales to a common scale. \n",
    "* When dealing with dataframes, data normalization permits to adjust values referred to different columns to a common scale. \n",
    "* This operation is strongly recommended when the columns of a dataframe are considered as input features of a machine learning algorithm, because it permits to give **all the features** the **same weight**.\n",
    "\n",
    "* Normalization applies only to columns containing numeric values. \n",
    "\n",
    "In the remainder of the tutorial, we apply five different methods to single columns.  \n",
    "However, if you wanted to use each column of the dataset as input features of a machine learning algorithm, you should apply the same normalization method to all the columns. \n",
    "\n",
    "In this tutorial, we use the `pandas` library to perform normalization. As an alternative, you could use the [preprocessing](https://scikit-learn.org/stable/modules/classes.html#module-sklearn.preprocessing) methods of the `scikit-learn` libray. \n"
   ]
  },
  {
   "cell_type": "markdown",
   "metadata": {},
   "source": [
    "## Data Import\n",
    "As example dataset, in this tutorial we consider the dataset provided by the Italian Protezione Civile, related to the number of COVID-19 cases registered since the beginning of the COVID-19 pandemic. The dataset is updated daily and can be downloaded from [this link](https://raw.githubusercontent.com/pcm-dpc/COVID-19/master/dati-regioni/dpc-covid19-ita-regioni.csv).\n",
    "\n",
    "* First of all, we need to import the Python `pandas` library and read the dataset through the `read_csv()` function. \n",
    "* Then we can drop all the columns with `NaN` values. This is done through `dropna()` function. "
   ]
  },
  {
   "cell_type": "code",
   "execution_count": 42,
   "metadata": {
    "scrolled": true
   },
   "outputs": [],
   "source": [
    "import pandas as pd\n",
    "df = pd.read_csv('https://raw.githubusercontent.com/pcm-dpc/COVID-19/master/dati-regioni/dpc-covid19-ita-regioni.csv')"
   ]
  },
  {
   "cell_type": "code",
   "execution_count": 43,
   "metadata": {},
   "outputs": [
    {
     "name": "stdout",
     "output_type": "stream",
     "text": [
      "<class 'pandas.core.frame.DataFrame'>\n",
      "RangeIndex: 8400 entries, 0 to 8399\n",
      "Data columns (total 30 columns):\n",
      "data                                      8400 non-null object\n",
      "stato                                     8400 non-null object\n",
      "codice_regione                            8400 non-null int64\n",
      "denominazione_regione                     8400 non-null object\n",
      "lat                                       8400 non-null float64\n",
      "long                                      8400 non-null float64\n",
      "ricoverati_con_sintomi                    8400 non-null int64\n",
      "terapia_intensiva                         8400 non-null int64\n",
      "totale_ospedalizzati                      8400 non-null int64\n",
      "isolamento_domiciliare                    8400 non-null int64\n",
      "totale_positivi                           8400 non-null int64\n",
      "variazione_totale_positivi                8400 non-null int64\n",
      "nuovi_positivi                            8400 non-null int64\n",
      "dimessi_guariti                           8400 non-null int64\n",
      "deceduti                                  8400 non-null int64\n",
      "casi_da_sospetto_diagnostico              3402 non-null float64\n",
      "casi_da_screening                         3402 non-null float64\n",
      "totale_casi                               8400 non-null int64\n",
      "tamponi                                   8400 non-null int64\n",
      "casi_testati                              7245 non-null float64\n",
      "note                                      930 non-null object\n",
      "ingressi_terapia_intensiva                2457 non-null float64\n",
      "note_test                                 131 non-null object\n",
      "note_casi                                 243 non-null object\n",
      "totale_positivi_test_molecolare           1554 non-null float64\n",
      "totale_positivi_test_antigenico_rapido    1554 non-null float64\n",
      "tamponi_test_molecolare                   1554 non-null float64\n",
      "tamponi_test_antigenico_rapido            1554 non-null float64\n",
      "codice_nuts_1                             1554 non-null object\n",
      "codice_nuts_2                             1554 non-null object\n",
      "dtypes: float64(10), int64(12), object(8)\n",
      "memory usage: 1.9+ MB\n"
     ]
    }
   ],
   "source": [
    "df.info()"
   ]
  },
  {
   "cell_type": "code",
   "execution_count": 44,
   "metadata": {
    "scrolled": true
   },
   "outputs": [
    {
     "data": {
      "text/html": [
       "<div>\n",
       "<style scoped>\n",
       "    .dataframe tbody tr th:only-of-type {\n",
       "        vertical-align: middle;\n",
       "    }\n",
       "\n",
       "    .dataframe tbody tr th {\n",
       "        vertical-align: top;\n",
       "    }\n",
       "\n",
       "    .dataframe thead th {\n",
       "        text-align: right;\n",
       "    }\n",
       "</style>\n",
       "<table border=\"1\" class=\"dataframe\">\n",
       "  <thead>\n",
       "    <tr style=\"text-align: right;\">\n",
       "      <th></th>\n",
       "      <th>data</th>\n",
       "      <th>stato</th>\n",
       "      <th>codice_regione</th>\n",
       "      <th>denominazione_regione</th>\n",
       "      <th>lat</th>\n",
       "      <th>long</th>\n",
       "      <th>ricoverati_con_sintomi</th>\n",
       "      <th>terapia_intensiva</th>\n",
       "      <th>totale_ospedalizzati</th>\n",
       "      <th>isolamento_domiciliare</th>\n",
       "      <th>totale_positivi</th>\n",
       "      <th>variazione_totale_positivi</th>\n",
       "      <th>nuovi_positivi</th>\n",
       "      <th>dimessi_guariti</th>\n",
       "      <th>deceduti</th>\n",
       "      <th>totale_casi</th>\n",
       "      <th>tamponi</th>\n",
       "    </tr>\n",
       "  </thead>\n",
       "  <tbody>\n",
       "    <tr>\n",
       "      <th>0</th>\n",
       "      <td>2020-02-24T18:00:00</td>\n",
       "      <td>ITA</td>\n",
       "      <td>13</td>\n",
       "      <td>Abruzzo</td>\n",
       "      <td>42.351222</td>\n",
       "      <td>13.398438</td>\n",
       "      <td>0</td>\n",
       "      <td>0</td>\n",
       "      <td>0</td>\n",
       "      <td>0</td>\n",
       "      <td>0</td>\n",
       "      <td>0</td>\n",
       "      <td>0</td>\n",
       "      <td>0</td>\n",
       "      <td>0</td>\n",
       "      <td>0</td>\n",
       "      <td>5</td>\n",
       "    </tr>\n",
       "    <tr>\n",
       "      <th>1</th>\n",
       "      <td>2020-02-24T18:00:00</td>\n",
       "      <td>ITA</td>\n",
       "      <td>17</td>\n",
       "      <td>Basilicata</td>\n",
       "      <td>40.639471</td>\n",
       "      <td>15.805148</td>\n",
       "      <td>0</td>\n",
       "      <td>0</td>\n",
       "      <td>0</td>\n",
       "      <td>0</td>\n",
       "      <td>0</td>\n",
       "      <td>0</td>\n",
       "      <td>0</td>\n",
       "      <td>0</td>\n",
       "      <td>0</td>\n",
       "      <td>0</td>\n",
       "      <td>0</td>\n",
       "    </tr>\n",
       "    <tr>\n",
       "      <th>2</th>\n",
       "      <td>2020-02-24T18:00:00</td>\n",
       "      <td>ITA</td>\n",
       "      <td>18</td>\n",
       "      <td>Calabria</td>\n",
       "      <td>38.905976</td>\n",
       "      <td>16.594402</td>\n",
       "      <td>0</td>\n",
       "      <td>0</td>\n",
       "      <td>0</td>\n",
       "      <td>0</td>\n",
       "      <td>0</td>\n",
       "      <td>0</td>\n",
       "      <td>0</td>\n",
       "      <td>0</td>\n",
       "      <td>0</td>\n",
       "      <td>0</td>\n",
       "      <td>1</td>\n",
       "    </tr>\n",
       "    <tr>\n",
       "      <th>3</th>\n",
       "      <td>2020-02-24T18:00:00</td>\n",
       "      <td>ITA</td>\n",
       "      <td>15</td>\n",
       "      <td>Campania</td>\n",
       "      <td>40.839566</td>\n",
       "      <td>14.250850</td>\n",
       "      <td>0</td>\n",
       "      <td>0</td>\n",
       "      <td>0</td>\n",
       "      <td>0</td>\n",
       "      <td>0</td>\n",
       "      <td>0</td>\n",
       "      <td>0</td>\n",
       "      <td>0</td>\n",
       "      <td>0</td>\n",
       "      <td>0</td>\n",
       "      <td>10</td>\n",
       "    </tr>\n",
       "    <tr>\n",
       "      <th>4</th>\n",
       "      <td>2020-02-24T18:00:00</td>\n",
       "      <td>ITA</td>\n",
       "      <td>8</td>\n",
       "      <td>Emilia-Romagna</td>\n",
       "      <td>44.494367</td>\n",
       "      <td>11.341721</td>\n",
       "      <td>10</td>\n",
       "      <td>2</td>\n",
       "      <td>12</td>\n",
       "      <td>6</td>\n",
       "      <td>18</td>\n",
       "      <td>0</td>\n",
       "      <td>18</td>\n",
       "      <td>0</td>\n",
       "      <td>0</td>\n",
       "      <td>18</td>\n",
       "      <td>148</td>\n",
       "    </tr>\n",
       "    <tr>\n",
       "      <th>5</th>\n",
       "      <td>2020-02-24T18:00:00</td>\n",
       "      <td>ITA</td>\n",
       "      <td>6</td>\n",
       "      <td>Friuli Venezia Giulia</td>\n",
       "      <td>45.649435</td>\n",
       "      <td>13.768136</td>\n",
       "      <td>0</td>\n",
       "      <td>0</td>\n",
       "      <td>0</td>\n",
       "      <td>0</td>\n",
       "      <td>0</td>\n",
       "      <td>0</td>\n",
       "      <td>0</td>\n",
       "      <td>0</td>\n",
       "      <td>0</td>\n",
       "      <td>0</td>\n",
       "      <td>58</td>\n",
       "    </tr>\n",
       "    <tr>\n",
       "      <th>6</th>\n",
       "      <td>2020-02-24T18:00:00</td>\n",
       "      <td>ITA</td>\n",
       "      <td>12</td>\n",
       "      <td>Lazio</td>\n",
       "      <td>41.892770</td>\n",
       "      <td>12.483667</td>\n",
       "      <td>1</td>\n",
       "      <td>1</td>\n",
       "      <td>2</td>\n",
       "      <td>0</td>\n",
       "      <td>2</td>\n",
       "      <td>0</td>\n",
       "      <td>2</td>\n",
       "      <td>1</td>\n",
       "      <td>0</td>\n",
       "      <td>3</td>\n",
       "      <td>124</td>\n",
       "    </tr>\n",
       "    <tr>\n",
       "      <th>7</th>\n",
       "      <td>2020-02-24T18:00:00</td>\n",
       "      <td>ITA</td>\n",
       "      <td>7</td>\n",
       "      <td>Liguria</td>\n",
       "      <td>44.411493</td>\n",
       "      <td>8.932699</td>\n",
       "      <td>0</td>\n",
       "      <td>0</td>\n",
       "      <td>0</td>\n",
       "      <td>0</td>\n",
       "      <td>0</td>\n",
       "      <td>0</td>\n",
       "      <td>0</td>\n",
       "      <td>0</td>\n",
       "      <td>0</td>\n",
       "      <td>0</td>\n",
       "      <td>1</td>\n",
       "    </tr>\n",
       "    <tr>\n",
       "      <th>8</th>\n",
       "      <td>2020-02-24T18:00:00</td>\n",
       "      <td>ITA</td>\n",
       "      <td>3</td>\n",
       "      <td>Lombardia</td>\n",
       "      <td>45.466794</td>\n",
       "      <td>9.190347</td>\n",
       "      <td>76</td>\n",
       "      <td>19</td>\n",
       "      <td>95</td>\n",
       "      <td>71</td>\n",
       "      <td>166</td>\n",
       "      <td>0</td>\n",
       "      <td>166</td>\n",
       "      <td>0</td>\n",
       "      <td>6</td>\n",
       "      <td>172</td>\n",
       "      <td>1463</td>\n",
       "    </tr>\n",
       "    <tr>\n",
       "      <th>9</th>\n",
       "      <td>2020-02-24T18:00:00</td>\n",
       "      <td>ITA</td>\n",
       "      <td>11</td>\n",
       "      <td>Marche</td>\n",
       "      <td>43.616760</td>\n",
       "      <td>13.518875</td>\n",
       "      <td>0</td>\n",
       "      <td>0</td>\n",
       "      <td>0</td>\n",
       "      <td>0</td>\n",
       "      <td>0</td>\n",
       "      <td>0</td>\n",
       "      <td>0</td>\n",
       "      <td>0</td>\n",
       "      <td>0</td>\n",
       "      <td>0</td>\n",
       "      <td>16</td>\n",
       "    </tr>\n",
       "  </tbody>\n",
       "</table>\n",
       "</div>"
      ],
      "text/plain": [
       "                  data stato  codice_regione  denominazione_regione  \\\n",
       "0  2020-02-24T18:00:00   ITA              13                Abruzzo   \n",
       "1  2020-02-24T18:00:00   ITA              17             Basilicata   \n",
       "2  2020-02-24T18:00:00   ITA              18               Calabria   \n",
       "3  2020-02-24T18:00:00   ITA              15               Campania   \n",
       "4  2020-02-24T18:00:00   ITA               8         Emilia-Romagna   \n",
       "5  2020-02-24T18:00:00   ITA               6  Friuli Venezia Giulia   \n",
       "6  2020-02-24T18:00:00   ITA              12                  Lazio   \n",
       "7  2020-02-24T18:00:00   ITA               7                Liguria   \n",
       "8  2020-02-24T18:00:00   ITA               3              Lombardia   \n",
       "9  2020-02-24T18:00:00   ITA              11                 Marche   \n",
       "\n",
       "         lat       long  ricoverati_con_sintomi  terapia_intensiva  \\\n",
       "0  42.351222  13.398438                       0                  0   \n",
       "1  40.639471  15.805148                       0                  0   \n",
       "2  38.905976  16.594402                       0                  0   \n",
       "3  40.839566  14.250850                       0                  0   \n",
       "4  44.494367  11.341721                      10                  2   \n",
       "5  45.649435  13.768136                       0                  0   \n",
       "6  41.892770  12.483667                       1                  1   \n",
       "7  44.411493   8.932699                       0                  0   \n",
       "8  45.466794   9.190347                      76                 19   \n",
       "9  43.616760  13.518875                       0                  0   \n",
       "\n",
       "   totale_ospedalizzati  isolamento_domiciliare  totale_positivi  \\\n",
       "0                     0                       0                0   \n",
       "1                     0                       0                0   \n",
       "2                     0                       0                0   \n",
       "3                     0                       0                0   \n",
       "4                    12                       6               18   \n",
       "5                     0                       0                0   \n",
       "6                     2                       0                2   \n",
       "7                     0                       0                0   \n",
       "8                    95                      71              166   \n",
       "9                     0                       0                0   \n",
       "\n",
       "   variazione_totale_positivi  nuovi_positivi  dimessi_guariti  deceduti  \\\n",
       "0                           0               0                0         0   \n",
       "1                           0               0                0         0   \n",
       "2                           0               0                0         0   \n",
       "3                           0               0                0         0   \n",
       "4                           0              18                0         0   \n",
       "5                           0               0                0         0   \n",
       "6                           0               2                1         0   \n",
       "7                           0               0                0         0   \n",
       "8                           0             166                0         6   \n",
       "9                           0               0                0         0   \n",
       "\n",
       "   totale_casi  tamponi  \n",
       "0            0        5  \n",
       "1            0        0  \n",
       "2            0        1  \n",
       "3            0       10  \n",
       "4           18      148  \n",
       "5            0       58  \n",
       "6            3      124  \n",
       "7            0        1  \n",
       "8          172     1463  \n",
       "9            0       16  "
      ]
     },
     "execution_count": 44,
     "metadata": {},
     "output_type": "execute_result"
    }
   ],
   "source": [
    "df.dropna(axis=1,inplace=True)\n",
    "df.head(10)"
   ]
  },
  {
   "cell_type": "markdown",
   "metadata": {},
   "source": [
    "## Single Feature Scaling\n",
    "Single Feature Scaling converts every value of a column into a number between 0 and 1. \n",
    "* The new value is calculated as the current value divided by the `max value` of the column. \n",
    "$$x_{new} = \\frac{x} {\\max_i{x_i}}$$\n",
    "\n",
    "For example, if we consider the column `tamponi`, we can apply the single feature scaling by applying to the column the function `max()`, whic calculates the maximum value of the column:"
   ]
  },
  {
   "cell_type": "code",
   "execution_count": 45,
   "metadata": {},
   "outputs": [
    {
     "data": {
      "text/plain": [
       "<matplotlib.axes._subplots.AxesSubplot at 0x7f2869f88668>"
      ]
     },
     "execution_count": 45,
     "metadata": {},
     "output_type": "execute_result"
    },
    {
     "data": {
      "image/png": "[encoded data removed]",
      "text/plain": [
       "<Figure size 432x288 with 1 Axes>"
      ]
     },
     "metadata": {
      "needs_background": "light"
     },
     "output_type": "display_data"
    }
   ],
   "source": [
    "df2=df[['tamponi']].copy()\n",
    "df2['tamponi'].plot.area()"
   ]
  },
  {
   "cell_type": "code",
   "execution_count": 46,
   "metadata": {},
   "outputs": [],
   "source": [
    "df2['tamponi'] = df2['tamponi']/df2['tamponi'].max()"
   ]
  },
  {
   "cell_type": "code",
   "execution_count": 47,
   "metadata": {},
   "outputs": [
    {
     "data": {
      "text/plain": [
       "<matplotlib.axes._subplots.AxesSubplot at 0x7f2869f57ef0>"
      ]
     },
     "execution_count": 47,
     "metadata": {},
     "output_type": "execute_result"
    },
    {
     "data": {
      "image/png": "[encoded data removed]",
      "text/plain": [
       "<Figure size 432x288 with 1 Axes>"
      ]
     },
     "metadata": {
      "needs_background": "light"
     },
     "output_type": "display_data"
    }
   ],
   "source": [
    "df2['tamponi'].plot.area()"
   ]
  },
  {
   "cell_type": "markdown",
   "metadata": {},
   "source": [
    "## Compare features\n",
    "\n",
    "Normalization helps us to better compare the features of a dataset."
   ]
  },
  {
   "cell_type": "code",
   "execution_count": 48,
   "metadata": {},
   "outputs": [
    {
     "data": {
      "image/png": "[encoded data removed]",
      "text/plain": [
       "<Figure size 432x288 with 1 Axes>"
      ]
     },
     "metadata": {
      "needs_background": "light"
     },
     "output_type": "display_data"
    }
   ],
   "source": [
    "import matplotlib.pyplot as plt\n",
    "\n",
    "df2=df[['totale_casi','deceduti']].copy()\n",
    "df2.plot(kind='area', stacked=False)\n",
    "plt.show(block=True);"
   ]
  },
  {
   "cell_type": "code",
   "execution_count": 49,
   "metadata": {},
   "outputs": [],
   "source": [
    "df2['totale_casi'] = df2['totale_casi']/df2['totale_casi'].max()\n",
    "df2['deceduti'] = df2['deceduti']/df2['deceduti'].max()"
   ]
  },
  {
   "cell_type": "code",
   "execution_count": 50,
   "metadata": {
    "scrolled": true
   },
   "outputs": [
    {
     "data": {
      "image/png": "[encoded data removed]",
      "text/plain": [
       "<Figure size 432x288 with 1 Axes>"
      ]
     },
     "metadata": {
      "needs_background": "light"
     },
     "output_type": "display_data"
    }
   ],
   "source": [
    "df2.plot(kind='area', stacked=False)\n",
    "plt.show(block=True);"
   ]
  },
  {
   "cell_type": "code",
   "execution_count": 51,
   "metadata": {},
   "outputs": [
    {
     "data": {
      "text/plain": [
       "1.0"
      ]
     },
     "execution_count": 51,
     "metadata": {},
     "output_type": "execute_result"
    }
   ],
   "source": [
    "df2['totale_casi'].max()"
   ]
  },
  {
   "cell_type": "markdown",
   "metadata": {},
   "source": [
    "## Min Max\n",
    "Similarly to Single Feature Scaling, Min Max converts every value of a column into a number between 0 and 1. \n",
    "* The new value is calculated as the difference between the current value and the min value, divided by the range of the column values\n",
    "$$x_{new} = \\frac{x - \\min_i{x_i}} {\\max_i{x_i}- \\min_i{x_i}}$$\n",
    "\n",
    "For example, we can apply the min max method to the column `totale_casi`."
   ]
  },
  {
   "cell_type": "code",
   "execution_count": 52,
   "metadata": {},
   "outputs": [
    {
     "data": {
      "text/plain": [
       "<matplotlib.axes._subplots.AxesSubplot at 0x7f2869ec2908>"
      ]
     },
     "execution_count": 52,
     "metadata": {},
     "output_type": "execute_result"
    },
    {
     "data": {
      "image/png": "[encoded data removed]",
      "text/plain": [
       "<Figure size 432x288 with 1 Axes>"
      ]
     },
     "metadata": {
      "needs_background": "light"
     },
     "output_type": "display_data"
    }
   ],
   "source": [
    "df2=df[['totale_casi']].copy()\n",
    "df2['totale_casi'].plot.area(colormap=\"spring\")"
   ]
  },
  {
   "cell_type": "code",
   "execution_count": 53,
   "metadata": {},
   "outputs": [],
   "source": [
    "df2['totale_casi'] = (df2['totale_casi'] - df2['totale_casi'].min())/(df2['totale_casi'].max() - df2['totale_casi'].min())"
   ]
  },
  {
   "cell_type": "code",
   "execution_count": 54,
   "metadata": {},
   "outputs": [
    {
     "data": {
      "text/plain": [
       "<matplotlib.axes._subplots.AxesSubplot at 0x7f2869b40ba8>"
      ]
     },
     "execution_count": 54,
     "metadata": {},
     "output_type": "execute_result"
    },
    {
     "data": {
      "image/png": "[encoded data removed]",
      "text/plain": [
       "<Figure size 432x288 with 1 Axes>"
      ]
     },
     "metadata": {
      "needs_background": "light"
     },
     "output_type": "display_data"
    }
   ],
   "source": [
    "df2['totale_casi'].plot.area(colormap=\"spring\")"
   ]
  },
  {
   "cell_type": "markdown",
   "metadata": {},
   "source": [
    "## z-score\n",
    "Z-Score converts every value of a column into a number around 0.  \n",
    "Typical values obtained by a z-score transformation range from -3 and 3. \n",
    "* The new value is calculated as the difference between the current value and the average value, divided by the standard deviation. \n",
    "$$x_{new} = \\frac{x - \\text{mean}(x)} {\\text{std}(x)}$$ \n",
    "$$\\text{mean}(x) = \\frac{1}{N}\\sum_{i=1}^N{x_i}$$\n",
    "$$\\text{std}(x) = \\sqrt{\\sum_{i=1}^N{(x_i-\\text{mean}(x))^2}}$$\n",
    "\n",
    "The average value of a column can be obtained through the `mean()` function, while the standard deviation through the `std()` function. For example, we can calculate the z-score of the column `deceduti`."
   ]
  },
  {
   "cell_type": "code",
   "execution_count": 55,
   "metadata": {},
   "outputs": [
    {
     "data": {
      "text/plain": [
       "<matplotlib.axes._subplots.AxesSubplot at 0x7f2869af9358>"
      ]
     },
     "execution_count": 55,
     "metadata": {},
     "output_type": "execute_result"
    },
    {
     "data": {
      "image/png": "[encoded data removed]",
      "text/plain": [
       "<Figure size 432x288 with 1 Axes>"
      ]
     },
     "metadata": {
      "needs_background": "light"
     },
     "output_type": "display_data"
    }
   ],
   "source": [
    "df2=df[['deceduti']].copy()\n",
    "df2['deceduti'].plot.line(colormap=\"summer\")"
   ]
  },
  {
   "cell_type": "code",
   "execution_count": 56,
   "metadata": {},
   "outputs": [],
   "source": [
    "df2['deceduti'] = (df2['deceduti']-df2['deceduti'].mean())/df2['deceduti'].std()"
   ]
  },
  {
   "cell_type": "code",
   "execution_count": 57,
   "metadata": {},
   "outputs": [
    {
     "data": {
      "text/plain": [
       "<matplotlib.axes._subplots.AxesSubplot at 0x7f2869abd828>"
      ]
     },
     "execution_count": 57,
     "metadata": {},
     "output_type": "execute_result"
    },
    {
     "data": {
      "image/png": "[encoded data removed]",
      "text/plain": [
       "<Figure size 432x288 with 1 Axes>"
      ]
     },
     "metadata": {
      "needs_background": "light"
     },
     "output_type": "display_data"
    }
   ],
   "source": [
    "df2['deceduti'].plot.line(colormap=\"summer\")"
   ]
  },
  {
   "cell_type": "markdown",
   "metadata": {},
   "source": [
    "Now we can calculate the minimum and maximum value obtained by the z-score transformation:"
   ]
  },
  {
   "cell_type": "code",
   "execution_count": 58,
   "metadata": {},
   "outputs": [
    {
     "data": {
      "text/plain": [
       "-0.5085441585795114"
      ]
     },
     "execution_count": 58,
     "metadata": {},
     "output_type": "execute_result"
    }
   ],
   "source": [
    "df2['deceduti'].min()"
   ]
  },
  {
   "cell_type": "code",
   "execution_count": 59,
   "metadata": {},
   "outputs": [
    {
     "data": {
      "text/plain": [
       "6.463125196783334"
      ]
     },
     "execution_count": 59,
     "metadata": {},
     "output_type": "execute_result"
    }
   ],
   "source": [
    "df2['deceduti'].max()"
   ]
  },
  {
   "cell_type": "markdown",
   "metadata": {},
   "source": [
    "## Log Scaling\n",
    "Log Scaling involves the conversion of a column to the logarithmic scale. \n",
    "$$x_{new} = \\log{x}$$ \n",
    "\n",
    "If we want to use the natural logarithm, we can use the `log()` function of the `numpy` library.  \n",
    "For example, we can apply log scaling to the column `dimessi_guariti`. We must deal with `log(0)` because it does not exist. We use the `lambda` operator to select the single rows of the column."
   ]
  },
  {
   "cell_type": "code",
   "execution_count": 60,
   "metadata": {
    "scrolled": true
   },
   "outputs": [
    {
     "data": {
      "text/plain": [
       "<matplotlib.axes._subplots.AxesSubplot at 0x7f2869a76e10>"
      ]
     },
     "execution_count": 60,
     "metadata": {},
     "output_type": "execute_result"
    },
    {
     "data": {
      "image/png": "[encoded data removed]",
      "text/plain": [
       "<Figure size 432x288 with 1 Axes>"
      ]
     },
     "metadata": {
      "needs_background": "light"
     },
     "output_type": "display_data"
    }
   ],
   "source": [
    "df2=df[['dimessi_guariti']].copy()\n",
    "df2['dimessi_guariti'].plot.area(colormap=\"autumn\")"
   ]
  },
  {
   "cell_type": "code",
   "execution_count": 61,
   "metadata": {
    "scrolled": false
   },
   "outputs": [],
   "source": [
    "import numpy as np\n",
    "\n",
    "df2['dimessi_guariti'] = df2['dimessi_guariti'].apply(lambda x: np.log(x) if x != 0 else 0)"
   ]
  },
  {
   "cell_type": "code",
   "execution_count": 62,
   "metadata": {
    "scrolled": true
   },
   "outputs": [
    {
     "data": {
      "text/plain": [
       "<matplotlib.axes._subplots.AxesSubplot at 0x7f2869a3eac8>"
      ]
     },
     "execution_count": 62,
     "metadata": {},
     "output_type": "execute_result"
    },
    {
     "data": {
      "image/png": "[encoded data removed]",
      "text/plain": [
       "<Figure size 432x288 with 1 Axes>"
      ]
     },
     "metadata": {
      "needs_background": "light"
     },
     "output_type": "display_data"
    }
   ],
   "source": [
    "df2['dimessi_guariti'].plot.area(colormap=\"autumn\")"
   ]
  },
  {
   "cell_type": "markdown",
   "metadata": {},
   "source": [
    "## Clipping\n",
    "Clipping involves the capping of all values **below or above a certain value**.  \n",
    "Clipping is useful when a column contains some **outliers**. \n",
    "\n",
    "We can set a maximum `vmax` and a minimum value `vmin` and set all outliers greater than the maximum value to `vmax` and all the outliers lower than the minimum value to `vmin`.  \n",
    "For example, we can consider the column `ricoverati_con_sintomi` and we can set `vmax = 10000` and `vmin = 10`."
   ]
  },
  {
   "cell_type": "code",
   "execution_count": 63,
   "metadata": {},
   "outputs": [
    {
     "data": {
      "text/plain": [
       "<matplotlib.axes._subplots.AxesSubplot at 0x7f2869a3ee80>"
      ]
     },
     "execution_count": 63,
     "metadata": {},
     "output_type": "execute_result"
    },
    {
     "data": {
      "image/png": "[encoded data removed]",
      "text/plain": [
       "<Figure size 432x288 with 1 Axes>"
      ]
     },
     "metadata": {
      "needs_background": "light"
     },
     "output_type": "display_data"
    }
   ],
   "source": [
    "df2=df[['ricoverati_con_sintomi']].copy()\n",
    "df2['ricoverati_con_sintomi'].plot(colormap=\"cool\")"
   ]
  },
  {
   "cell_type": "code",
   "execution_count": 64,
   "metadata": {},
   "outputs": [],
   "source": [
    "vmax = 10000\n",
    "vmin = 300\n",
    "\n",
    "df2['ricoverati_con_sintomi'] = df2['ricoverati_con_sintomi'].apply(lambda x: vmax if x > vmax else vmin if x < vmin else x)"
   ]
  },
  {
   "cell_type": "code",
   "execution_count": 65,
   "metadata": {},
   "outputs": [
    {
     "data": {
      "text/plain": [
       "<matplotlib.axes._subplots.AxesSubplot at 0x7f28699b85f8>"
      ]
     },
     "execution_count": 65,
     "metadata": {},
     "output_type": "execute_result"
    },
    {
     "data": {
      "image/png": "[encoded data removed]",
      "text/plain": [
       "<Figure size 432x288 with 1 Axes>"
      ]
     },
     "metadata": {
      "needs_background": "light"
     },
     "output_type": "display_data"
    }
   ],
   "source": [
    "df2['ricoverati_con_sintomi'].plot(colormap=\"cool\")"
   ]
  },
  {
   "cell_type": "markdown",
   "metadata": {},
   "source": [
    "## References\n",
    "\n",
    "* [Data Preprocessing - Normalization](https://github.com/alod83/data-science/blob/master/Preprocessing/Normalization/Data%20Preprocessing%20-%20Normalization.ipynb)"
   ]
  }
 ],
 "metadata": {
  "kernelspec": {
   "display_name": "Python 3",
   "language": "python",
   "name": "python3"
  },
  "language_info": {
   "codemirror_mode": {
    "name": "ipython",
    "version": 3
   },
   "file_extension": ".py",
   "mimetype": "text/x-python",
   "name": "python",
   "nbconvert_exporter": "python",
   "pygments_lexer": "ipython3",
   "version": "3.5.2"
  }
 },
 "nbformat": 4,
 "nbformat_minor": 4
}
