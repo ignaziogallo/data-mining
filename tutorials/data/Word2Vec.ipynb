{
 "cells": [
  {
   "cell_type": "markdown",
   "metadata": {
    "slideshow": {
     "slide_type": "skip"
    }
   },
   "source": [
    "[![Open In Colab](https://colab.research.google.com/assets/colab-badge.svg)](https://colab.research.google.com/github/ignaziogallo/data-mining/blob/aa20-21/tutorials/data/Word2Vec.ipynb)"
   ]
  },
  {
   "cell_type": "markdown",
   "metadata": {
    "slideshow": {
     "slide_type": "skip"
    }
   },
   "source": [
    "http://kavita-ganesan.com/gensim-word2vec-tutorial-starter-code  \n",
    "https://mc.ai/word2vec-for-phrases%E2%80%8A-%E2%80%8Alearning-embeddings-for-more-than-one-word/  \n",
    "https://becominghuman.ai/how-does-word2vecs-skip-gram-work-f92e0525def4"
   ]
  },
  {
   "cell_type": "markdown",
   "metadata": {
    "slideshow": {
     "slide_type": "slide"
    }
   },
   "source": [
    "# Word Embedding\n",
    "\n",
    "* Are **methods to represent words in a numerical way**.\n",
    "* Example: **one-hot encoding** to map each word to a one-hot vector.\n",
    "<img src=\"figures/one-hot-word-embedding-vectors.png\" width=\"60%\">"
   ]
  },
  {
   "cell_type": "markdown",
   "metadata": {
    "slideshow": {
     "slide_type": "slide"
    }
   },
   "source": [
    "# Idea behind Word2Vec\n",
    "* The idea behind Word2Vec is pretty  \n",
    "  `the meaning of a word can be inferred by the company it keeps`. \n",
    "* This is analogous to the saying,  \n",
    "  “`show me your friends, and I’ll tell who you are`”. "
   ]
  },
  {
   "cell_type": "markdown",
   "metadata": {
    "slideshow": {
     "slide_type": "fragment"
    }
   },
   "source": [
    "* If we have two words that have **very similar neighbors**,   \n",
    "  then these words are probably quite **similar in meaning** or are at least highly related."
   ]
  },
  {
   "cell_type": "markdown",
   "metadata": {
    "slideshow": {
     "slide_type": "slide"
    }
   },
   "source": [
    "**Example** \n",
    "\n",
    "* the words `shocked`,`appalled` and `astonished` are typically used in a similar context. \n",
    "\n",
    "Viceversa\n",
    "* the word “`play`” has a different meaning in the sentences  \n",
    "  * “`The boy loves to play outside`”\n",
    "  * “`The play was fantastic`”."
   ]
  },
  {
   "cell_type": "markdown",
   "metadata": {
    "slideshow": {
     "slide_type": "slide"
    }
   },
   "source": [
    "**Learning word from its context**\n",
    "\n",
    "* `Word2Vec` starts from **large unsupervised corpus** \n",
    "  * **for each word** in the corpus, we try to **predict it** by its **given context** (CBOW), or \n",
    "  * trying to **predict the context given** a specific **word** (Skip-Gram)"
   ]
  },
  {
   "cell_type": "markdown",
   "metadata": {
    "slideshow": {
     "slide_type": "slide"
    }
   },
   "source": [
    "<img src=\"figures/w2v-models.png\" width=\"60%\">"
   ]
  },
  {
   "cell_type": "markdown",
   "metadata": {
    "slideshow": {
     "slide_type": "slide"
    }
   },
   "source": [
    "**Neural network structure**\n",
    "\n",
    "Word2vec is a neural network structure **to generate word embedding** by training the model on a supervised classification problem. \n",
    "\n",
    "* Introduced by **Mikolov** et al.,2013 in the paper *Efficient Estimation of Word Representations in Vector Space*  \n",
    "* used to measure syntactic and **semantic similarities** between words."
   ]
  },
  {
   "cell_type": "markdown",
   "metadata": {
    "slideshow": {
     "slide_type": "slide"
    }
   },
   "source": [
    "**Word2Vec with Continuous Bag of Words (CBOW) Learning technique**\n",
    "\n",
    "<img src=\"figures/Architecture-of-Word2Vec-with-CBOW-technique.png\" width=\"40%\">"
   ]
  },
  {
   "cell_type": "markdown",
   "metadata": {
    "slideshow": {
     "slide_type": "slide"
    }
   },
   "source": [
    "**Word2vec SKIP-GRAM architecture**\n",
    "\n",
    "Given a word $w(t)$, the model **predicts the words** that precede and proceed it in a **window** of 4 words, \n",
    "$w(t-2)$, $w(t-1)$, $w(t+1)$, $w(t+2)$ \n",
    "<img src=\"figures/WORD2VEC-SKIP-GRAM.png\" width=\"70%\">"
   ]
  },
  {
   "cell_type": "markdown",
   "metadata": {
    "slideshow": {
     "slide_type": "slide"
    }
   },
   "source": [
    "**Training SKIP-GRAM**\n",
    "\n",
    "<img src=\"figures/skip-gram-training.png\" width=\"70%\">"
   ]
  },
  {
   "cell_type": "markdown",
   "metadata": {
    "slideshow": {
     "slide_type": "slide"
    }
   },
   "source": [
    "### The Neural model for Skip-Gram\n",
    "* [Use this](https://medium.com/deeper-learning/glossary-of-deep-learning-word-embedding-f90c3cec34ca) to understand better how to turn each input word into a vector using an embedding algorithm\n",
    "* *Xin Rong* has created a [visual demo](https://ronxin.github.io/wevi/) that shows how word embeddings are trained\n",
    "<img src=\"figures/skip-gram-neural-model.png\" width=\"70%\">"
   ]
  },
  {
   "cell_type": "markdown",
   "metadata": {
    "slideshow": {
     "slide_type": "slide"
    }
   },
   "source": [
    "**Emdedding matrix after Word2Vec training**\n",
    "\n",
    "* Each **word** will be represented by a **d-dimension continuous vector**, \n",
    "* The **meaning of each word** will be captured by its **relation to other words**. \n",
    "\n",
    "**The reason**\n",
    "* in training time, `if two target words share the some context, intuitively the weight of the network for this two target words will be close to each other`. "
   ]
  },
  {
   "cell_type": "markdown",
   "metadata": {
    "slideshow": {
     "slide_type": "slide"
    }
   },
   "source": [
    "**Similarity tasks**\n",
    "\n",
    "Looking the vector as a whole, one can perform many similarity tasks.   \n",
    "For example, \n",
    "* we get that $$V(“King”)-V(“Man”)+V(“Woman) ~= V(“Queen”)$$ and $$V(“Paris”)-V(“France)+V(“Spain”) ~= V(“Madrid”)$$. \n",
    "* We can perform similarity measures, like **cosine-similarity between the vectors** and get that   \n",
    "  “`president`” will be close to “`Obame`”, “`Trump`”, “`CEO`”, “`Chairman`”, etc."
   ]
  },
  {
   "cell_type": "markdown",
   "metadata": {
    "slideshow": {
     "slide_type": "slide"
    }
   },
   "source": [
    "# Word2Vec in Gensim \n",
    "\n",
    "**Performance** is really a combination of two things, \n",
    "1. your **input data** \n",
    "2. your **parameter** settings. \n",
    "\n",
    "**Note** that the training algorithms in this package were ported from the [original Word2Vec implementation by Google](https://arxiv.org/pdf/1301.3781.pdf) and extended with additional functionality."
   ]
  },
  {
   "cell_type": "markdown",
   "metadata": {
    "slideshow": {
     "slide_type": "slide"
    }
   },
   "source": [
    "### Imports and logging\n",
    "\n",
    "First, we start with our imports and get logging established:"
   ]
  },
  {
   "cell_type": "code",
   "execution_count": 22,
   "metadata": {
    "slideshow": {
     "slide_type": "fragment"
    }
   },
   "outputs": [],
   "source": [
    "# imports needed and set up logging\n",
    "import gzip\n",
    "import gensim \n",
    "import logging\n",
    "\n",
    "logging.basicConfig(format='%(asctime)s : %(levelname)s : %(message)s', level=logging.INFO)\n"
   ]
  },
  {
   "cell_type": "markdown",
   "metadata": {
    "slideshow": {
     "slide_type": "slide"
    }
   },
   "source": [
    "### Dataset \n",
    "**The secret** to getting Word2Vec really working for you is to **have lots and lots of text data**. \n",
    "* We are going to use data from the [OpinRank](http://kavita-ganesan.com/entity-ranking-data/) dataset. \n",
    "* This dataset has full user **reviews of cars and hotels**. "
   ]
  },
  {
   "cell_type": "markdown",
   "metadata": {},
   "source": [
    "**Download** dataset from https://github.com/kavgan/nlp-in-practice/blob/master/word2vec/reviews_data.txt.gz (86 MB)"
   ]
  },
  {
   "cell_type": "code",
   "execution_count": 4,
   "metadata": {},
   "outputs": [],
   "source": [
    "#!wget https://github.com/kavgan/nlp-in-practice/raw/master/word2vec/reviews_data.txt.gz --output-file=data/reviews_data.txt.gz"
   ]
  },
  {
   "cell_type": "code",
   "execution_count": 23,
   "metadata": {
    "slideshow": {
     "slide_type": "slide"
    }
   },
   "outputs": [
    {
     "name": "stdout",
     "output_type": "stream",
     "text": [
      "b\"Oct 12 2009 \\tNice trendy hotel location not too bad.\\tI stayed in this hotel for one night. As this is a fairly new place some of the taxi drivers did not know where it was and/or did not want to drive there. Once I have eventually arrived at the hotel, I was very pleasantly surprised with the decor of the lobby/ground floor area. It was very stylish and modern. I found the reception's staff geeting me with 'Aloha' a bit out of place, but I guess they are briefed to say that to keep up the coroporate image.As I have a Starwood Preferred Guest member, I was given a small gift upon-check in. It was only a couple of fridge magnets in a gift box, but nevertheless a nice gesture.My room was nice and roomy, there are tea and coffee facilities in each room and you get two complimentary bottles of water plus some toiletries by 'bliss'.The location is not great. It is at the last metro stop and you then need to take a taxi, but if you are not planning on going to see the historic sites in Beijing, then you will be ok.I chose to have some breakfast in the hotel, which was really tasty and there was a good selection of dishes. There are a couple of computers to use in the communal area, as well as a pool table. There is also a small swimming pool and a gym area.I would definitely stay in this hotel again, but only if I did not plan to travel to central Beijing, as it can take a long time. The location is ok if you plan to do a lot of shopping, as there is a big shopping centre just few minutes away from the hotel and there are plenty of eating options around, including restaurants that serve a dog meat!\\t\\r\\n\"\n"
     ]
    }
   ],
   "source": [
    "data_file=\"data/reviews_data.txt.gz\"\n",
    "# let's take a closer look at this data below by printing the first line.\n",
    "with gzip.open (data_file, 'rb') as f:\n",
    "    for i,line in enumerate (f):\n",
    "        print(line)\n",
    "        break\n"
   ]
  },
  {
   "cell_type": "markdown",
   "metadata": {
    "slideshow": {
     "slide_type": "slide"
    }
   },
   "source": [
    "### Read files into a list\n",
    "We can read it into a list so that we can pass this on to the Word2Vec model. \n",
    "\n",
    "**Notice** \n",
    "* we are directly reading the compressed file. \n",
    "* We are doing a basic **pre-processing** of the reviews using `gensim.utils.simple_preprocess (line)`.   \n",
    "  * such as **tokenization**, **lowercasing**, etc.. and \n",
    "  * returns back a **list of tokens** (words)."
   ]
  },
  {
   "cell_type": "code",
   "execution_count": 7,
   "metadata": {
    "slideshow": {
     "slide_type": "slide"
    }
   },
   "outputs": [
    {
     "name": "stderr",
     "output_type": "stream",
     "text": [
      "2021-03-14 13:56:06,650 : INFO : reading file data/reviews_data.txt.gz...this may take a while\n",
      "2021-03-14 13:56:06,652 : INFO : read 0 reviews\n",
      "2021-03-14 13:56:08,524 : INFO : read 10000 reviews\n",
      "2021-03-14 13:56:10,409 : INFO : read 20000 reviews\n",
      "2021-03-14 13:56:12,584 : INFO : read 30000 reviews\n",
      "2021-03-14 13:56:14,736 : INFO : read 40000 reviews\n",
      "2021-03-14 13:56:16,997 : INFO : read 50000 reviews\n",
      "2021-03-14 13:56:19,172 : INFO : read 60000 reviews\n",
      "2021-03-14 13:56:21,016 : INFO : read 70000 reviews\n",
      "2021-03-14 13:56:22,709 : INFO : read 80000 reviews\n",
      "2021-03-14 13:56:24,489 : INFO : read 90000 reviews\n",
      "2021-03-14 13:56:26,215 : INFO : read 100000 reviews\n",
      "2021-03-14 13:56:27,909 : INFO : read 110000 reviews\n",
      "2021-03-14 13:56:29,625 : INFO : read 120000 reviews\n",
      "2021-03-14 13:56:31,778 : INFO : read 130000 reviews\n",
      "2021-03-14 13:56:33,662 : INFO : read 140000 reviews\n",
      "2021-03-14 13:56:35,423 : INFO : read 150000 reviews\n",
      "2021-03-14 13:56:37,212 : INFO : read 160000 reviews\n",
      "2021-03-14 13:56:38,948 : INFO : read 170000 reviews\n",
      "2021-03-14 13:56:40,798 : INFO : read 180000 reviews\n",
      "2021-03-14 13:56:42,586 : INFO : read 190000 reviews\n",
      "2021-03-14 13:56:44,549 : INFO : read 200000 reviews\n",
      "2021-03-14 13:56:46,402 : INFO : read 210000 reviews\n",
      "2021-03-14 13:56:48,893 : INFO : read 220000 reviews\n",
      "2021-03-14 13:56:50,614 : INFO : read 230000 reviews\n",
      "2021-03-14 13:56:52,409 : INFO : read 240000 reviews\n",
      "2021-03-14 13:56:54,194 : INFO : read 250000 reviews\n",
      "2021-03-14 13:56:55,154 : INFO : Done reading data file\n"
     ]
    }
   ],
   "source": [
    "\n",
    "def read_input(input_file):\n",
    "    \"\"\"This method reads the input file which is in gzip format\"\"\"\n",
    "    \n",
    "    logging.info(\"reading file {0}...this may take a while\".format(input_file))\n",
    "    \n",
    "    with gzip.open (input_file, 'rb') as f:\n",
    "        for i, line in enumerate (f): \n",
    "\n",
    "            if (i%10000==0):\n",
    "                logging.info (\"read {0} reviews\".format (i))\n",
    "            # do some pre-processing and return a list of words for each review text\n",
    "            yield gensim.utils.simple_preprocess (line)\n",
    "\n",
    "# read the tokenized reviews into a list\n",
    "# each review item becomes a serries of words\n",
    "# so this becomes a list of lists\n",
    "documents = list (read_input (data_file))\n",
    "logging.info (\"Done reading data file\")    "
   ]
  },
  {
   "cell_type": "markdown",
   "metadata": {
    "slideshow": {
     "slide_type": "slide"
    }
   },
   "source": [
    "## Training the Word2Vec model\n",
    "\n",
    "* Just instantiate Word2Vec and pass the reviews that we read in the previous step (the `documents`). \n",
    "* Word2Vec uses all these tokens to internally **create a vocabulary**.\n",
    "* call `train(...)` to start training the Word2Vec model. (takes about 10 minutes)\n",
    "* we are **not** going to **use the neural network** after training. \n",
    "* **The goal** is to learn the weights of the hidden layer, i.e. the **word vectors** that we’re trying to learn. "
   ]
  },
  {
   "cell_type": "code",
   "execution_count": 8,
   "metadata": {
    "slideshow": {
     "slide_type": "slide"
    }
   },
   "outputs": [
    {
     "name": "stderr",
     "output_type": "stream",
     "text": [
      "2021-03-14 13:58:15,277 : WARNING : consider setting layer size to a multiple of 4 for greater performance\n",
      "2021-03-14 13:58:15,286 : INFO : collecting all words and their counts\n",
      "2021-03-14 13:58:15,287 : INFO : PROGRESS: at sentence #0, processed 0 words, keeping 0 word types\n",
      "2021-03-14 13:58:15,571 : INFO : PROGRESS: at sentence #10000, processed 1655714 words, keeping 25777 word types\n",
      "2021-03-14 13:58:15,839 : INFO : PROGRESS: at sentence #20000, processed 3317863 words, keeping 35016 word types\n",
      "2021-03-14 13:58:16,159 : INFO : PROGRESS: at sentence #30000, processed 5264072 words, keeping 47518 word types\n",
      "2021-03-14 13:58:16,478 : INFO : PROGRESS: at sentence #40000, processed 7081746 words, keeping 56675 word types\n",
      "2021-03-14 13:58:16,812 : INFO : PROGRESS: at sentence #50000, processed 9089491 words, keeping 63744 word types\n",
      "2021-03-14 13:58:17,133 : INFO : PROGRESS: at sentence #60000, processed 11013723 words, keeping 76780 word types\n",
      "2021-03-14 13:58:17,407 : INFO : PROGRESS: at sentence #70000, processed 12637525 words, keeping 83193 word types\n",
      "2021-03-14 13:58:17,666 : INFO : PROGRESS: at sentence #80000, processed 14099751 words, keeping 88453 word types\n",
      "2021-03-14 13:58:17,931 : INFO : PROGRESS: at sentence #90000, processed 15662149 words, keeping 93351 word types\n",
      "2021-03-14 13:58:18,188 : INFO : PROGRESS: at sentence #100000, processed 17164487 words, keeping 97880 word types\n",
      "2021-03-14 13:58:18,443 : INFO : PROGRESS: at sentence #110000, processed 18652292 words, keeping 102126 word types\n",
      "2021-03-14 13:58:18,697 : INFO : PROGRESS: at sentence #120000, processed 20152529 words, keeping 105917 word types\n",
      "2021-03-14 13:58:18,955 : INFO : PROGRESS: at sentence #130000, processed 21684330 words, keeping 110098 word types\n",
      "2021-03-14 13:58:19,229 : INFO : PROGRESS: at sentence #140000, processed 23330206 words, keeping 114102 word types\n",
      "2021-03-14 13:58:19,486 : INFO : PROGRESS: at sentence #150000, processed 24838754 words, keeping 118168 word types\n",
      "2021-03-14 13:58:19,749 : INFO : PROGRESS: at sentence #160000, processed 26390910 words, keeping 118664 word types\n",
      "2021-03-14 13:58:20,011 : INFO : PROGRESS: at sentence #170000, processed 27913916 words, keeping 123349 word types\n",
      "2021-03-14 13:58:20,282 : INFO : PROGRESS: at sentence #180000, processed 29535612 words, keeping 126741 word types\n",
      "2021-03-14 13:58:20,549 : INFO : PROGRESS: at sentence #190000, processed 31096459 words, keeping 129840 word types\n",
      "2021-03-14 13:58:20,836 : INFO : PROGRESS: at sentence #200000, processed 32805271 words, keeping 133248 word types\n",
      "2021-03-14 13:58:21,106 : INFO : PROGRESS: at sentence #210000, processed 34434198 words, keeping 136357 word types\n",
      "2021-03-14 13:58:21,383 : INFO : PROGRESS: at sentence #220000, processed 36083482 words, keeping 139411 word types\n",
      "2021-03-14 13:58:21,634 : INFO : PROGRESS: at sentence #230000, processed 37571762 words, keeping 142392 word types\n",
      "2021-03-14 13:58:21,898 : INFO : PROGRESS: at sentence #240000, processed 39138190 words, keeping 145225 word types\n",
      "2021-03-14 13:58:22,160 : INFO : PROGRESS: at sentence #250000, processed 40695049 words, keeping 147959 word types\n",
      "2021-03-14 13:58:22,322 : INFO : collected 150052 word types from a corpus of 41519355 raw words and 255404 sentences\n",
      "2021-03-14 13:58:22,322 : INFO : Loading a fresh vocabulary\n",
      "2021-03-14 13:58:23,240 : INFO : effective_min_count=2 retains 70538 unique words (47% of original 150052, drops 79514)\n",
      "2021-03-14 13:58:23,240 : INFO : effective_min_count=2 leaves 41439841 word corpus (99% of original 41519355, drops 79514)\n",
      "2021-03-14 13:58:23,471 : INFO : deleting the raw counts dictionary of 150052 items\n",
      "2021-03-14 13:58:23,478 : INFO : sample=0.001 downsamples 55 most-common words\n",
      "2021-03-14 13:58:23,479 : INFO : downsampling leaves estimated 30349257 word corpus (73.2% of prior 41439841)\n",
      "2021-03-14 13:58:23,759 : INFO : estimated required memory for 70538 words and 150 dimensions: 119914600 bytes\n",
      "2021-03-14 13:58:23,760 : INFO : resetting layer weights\n",
      "2021-03-14 13:58:38,400 : INFO : training model with 10 workers on 70538 vocabulary and 150 features, using sg=0 hs=0 sample=0.001 negative=5 window=10\n",
      "2021-03-14 13:58:39,420 : INFO : EPOCH 1 - PROGRESS: at 2.35% examples, 739490 words/s, in_qsize 19, out_qsize 0\n",
      "2021-03-14 13:58:40,429 : INFO : EPOCH 1 - PROGRESS: at 5.21% examples, 798863 words/s, in_qsize 19, out_qsize 0\n",
      "2021-03-14 13:58:41,433 : INFO : EPOCH 1 - PROGRESS: at 7.85% examples, 804642 words/s, in_qsize 19, out_qsize 0\n",
      "2021-03-14 13:58:42,458 : INFO : EPOCH 1 - PROGRESS: at 10.14% examples, 799640 words/s, in_qsize 18, out_qsize 1\n",
      "2021-03-14 13:58:43,464 : INFO : EPOCH 1 - PROGRESS: at 12.26% examples, 799714 words/s, in_qsize 19, out_qsize 0\n",
      "2021-03-14 13:58:44,467 : INFO : EPOCH 1 - PROGRESS: at 14.65% examples, 800414 words/s, in_qsize 19, out_qsize 0\n",
      "2021-03-14 13:58:45,471 : INFO : EPOCH 1 - PROGRESS: at 17.00% examples, 803095 words/s, in_qsize 19, out_qsize 0\n",
      "2021-03-14 13:58:46,481 : INFO : EPOCH 1 - PROGRESS: at 19.13% examples, 801443 words/s, in_qsize 19, out_qsize 0\n",
      "2021-03-14 13:58:47,492 : INFO : EPOCH 1 - PROGRESS: at 21.47% examples, 801207 words/s, in_qsize 19, out_qsize 0\n",
      "2021-03-14 13:58:48,493 : INFO : EPOCH 1 - PROGRESS: at 23.50% examples, 799373 words/s, in_qsize 19, out_qsize 0\n",
      "2021-03-14 13:58:49,503 : INFO : EPOCH 1 - PROGRESS: at 26.03% examples, 799941 words/s, in_qsize 19, out_qsize 0\n",
      "2021-03-14 13:58:50,504 : INFO : EPOCH 1 - PROGRESS: at 29.02% examples, 800050 words/s, in_qsize 20, out_qsize 2\n",
      "2021-03-14 13:58:51,560 : INFO : EPOCH 1 - PROGRESS: at 32.00% examples, 798316 words/s, in_qsize 18, out_qsize 1\n",
      "2021-03-14 13:58:52,590 : INFO : EPOCH 1 - PROGRESS: at 34.48% examples, 791758 words/s, in_qsize 17, out_qsize 2\n",
      "2021-03-14 13:58:53,600 : INFO : EPOCH 1 - PROGRESS: at 37.24% examples, 791841 words/s, in_qsize 20, out_qsize 0\n",
      "2021-03-14 13:58:54,626 : INFO : EPOCH 1 - PROGRESS: at 39.67% examples, 783926 words/s, in_qsize 19, out_qsize 0\n",
      "2021-03-14 13:58:55,633 : INFO : EPOCH 1 - PROGRESS: at 42.23% examples, 777747 words/s, in_qsize 19, out_qsize 0\n",
      "2021-03-14 13:58:56,633 : INFO : EPOCH 1 - PROGRESS: at 44.38% examples, 767544 words/s, in_qsize 19, out_qsize 0\n",
      "2021-03-14 13:58:57,637 : INFO : EPOCH 1 - PROGRESS: at 46.66% examples, 761186 words/s, in_qsize 19, out_qsize 0\n",
      "2021-03-14 13:58:58,649 : INFO : EPOCH 1 - PROGRESS: at 49.34% examples, 760833 words/s, in_qsize 17, out_qsize 2\n",
      "2021-03-14 13:58:59,671 : INFO : EPOCH 1 - PROGRESS: at 52.08% examples, 762864 words/s, in_qsize 20, out_qsize 0\n",
      "2021-03-14 13:59:00,661 : INFO : EPOCH 1 - PROGRESS: at 54.65% examples, 764253 words/s, in_qsize 19, out_qsize 0\n",
      "2021-03-14 13:59:01,681 : INFO : EPOCH 1 - PROGRESS: at 57.60% examples, 766134 words/s, in_qsize 19, out_qsize 0\n",
      "2021-03-14 13:59:02,707 : INFO : EPOCH 1 - PROGRESS: at 60.17% examples, 764743 words/s, in_qsize 16, out_qsize 3\n",
      "2021-03-14 13:59:03,716 : INFO : EPOCH 1 - PROGRESS: at 62.89% examples, 765442 words/s, in_qsize 19, out_qsize 0\n",
      "2021-03-14 13:59:04,729 : INFO : EPOCH 1 - PROGRESS: at 65.89% examples, 767991 words/s, in_qsize 19, out_qsize 0\n",
      "2021-03-14 13:59:05,730 : INFO : EPOCH 1 - PROGRESS: at 68.61% examples, 769259 words/s, in_qsize 19, out_qsize 0\n",
      "2021-03-14 13:59:06,732 : INFO : EPOCH 1 - PROGRESS: at 71.20% examples, 770552 words/s, in_qsize 17, out_qsize 2\n",
      "2021-03-14 13:59:07,742 : INFO : EPOCH 1 - PROGRESS: at 74.13% examples, 772266 words/s, in_qsize 17, out_qsize 2\n",
      "2021-03-14 13:59:08,742 : INFO : EPOCH 1 - PROGRESS: at 76.72% examples, 774106 words/s, in_qsize 19, out_qsize 0\n",
      "2021-03-14 13:59:09,746 : INFO : EPOCH 1 - PROGRESS: at 79.30% examples, 774779 words/s, in_qsize 18, out_qsize 1\n",
      "2021-03-14 13:59:10,753 : INFO : EPOCH 1 - PROGRESS: at 81.92% examples, 775587 words/s, in_qsize 19, out_qsize 0\n",
      "2021-03-14 13:59:11,756 : INFO : EPOCH 1 - PROGRESS: at 84.45% examples, 775564 words/s, in_qsize 19, out_qsize 0\n",
      "2021-03-14 13:59:12,784 : INFO : EPOCH 1 - PROGRESS: at 87.28% examples, 776433 words/s, in_qsize 18, out_qsize 1\n",
      "2021-03-14 13:59:13,800 : INFO : EPOCH 1 - PROGRESS: at 90.14% examples, 776789 words/s, in_qsize 19, out_qsize 0\n",
      "2021-03-14 13:59:14,807 : INFO : EPOCH 1 - PROGRESS: at 92.42% examples, 773173 words/s, in_qsize 16, out_qsize 3\n"
     ]
    },
    {
     "name": "stderr",
     "output_type": "stream",
     "text": [
      "2021-03-14 13:59:15,899 : INFO : EPOCH 1 - PROGRESS: at 94.62% examples, 768178 words/s, in_qsize 16, out_qsize 3\n",
      "2021-03-14 13:59:16,900 : INFO : EPOCH 1 - PROGRESS: at 97.26% examples, 768039 words/s, in_qsize 20, out_qsize 0\n",
      "2021-03-14 13:59:17,846 : INFO : worker thread finished; awaiting finish of 9 more threads\n",
      "2021-03-14 13:59:17,866 : INFO : worker thread finished; awaiting finish of 8 more threads\n",
      "2021-03-14 13:59:17,874 : INFO : worker thread finished; awaiting finish of 7 more threads\n",
      "2021-03-14 13:59:17,880 : INFO : worker thread finished; awaiting finish of 6 more threads\n",
      "2021-03-14 13:59:17,892 : INFO : worker thread finished; awaiting finish of 5 more threads\n",
      "2021-03-14 13:59:17,896 : INFO : worker thread finished; awaiting finish of 4 more threads\n",
      "2021-03-14 13:59:17,897 : INFO : worker thread finished; awaiting finish of 3 more threads\n",
      "2021-03-14 13:59:17,900 : INFO : EPOCH 1 - PROGRESS: at 99.96% examples, 768211 words/s, in_qsize 2, out_qsize 1\n",
      "2021-03-14 13:59:17,901 : INFO : worker thread finished; awaiting finish of 2 more threads\n",
      "2021-03-14 13:59:17,904 : INFO : worker thread finished; awaiting finish of 1 more threads\n",
      "2021-03-14 13:59:17,931 : INFO : worker thread finished; awaiting finish of 0 more threads\n",
      "2021-03-14 13:59:17,933 : INFO : EPOCH - 1 : training on 41519355 raw words (30347743 effective words) took 39.5s, 767953 effective words/s\n",
      "2021-03-14 13:59:18,956 : INFO : EPOCH 2 - PROGRESS: at 2.41% examples, 757703 words/s, in_qsize 19, out_qsize 0\n",
      "2021-03-14 13:59:19,957 : INFO : EPOCH 2 - PROGRESS: at 4.70% examples, 721982 words/s, in_qsize 17, out_qsize 2\n",
      "2021-03-14 13:59:20,962 : INFO : EPOCH 2 - PROGRESS: at 6.79% examples, 693286 words/s, in_qsize 19, out_qsize 0\n",
      "2021-03-14 13:59:21,975 : INFO : EPOCH 2 - PROGRESS: at 9.01% examples, 697633 words/s, in_qsize 19, out_qsize 0\n",
      "2021-03-14 13:59:22,980 : INFO : EPOCH 2 - PROGRESS: at 10.94% examples, 701031 words/s, in_qsize 19, out_qsize 0\n",
      "2021-03-14 13:59:23,980 : INFO : EPOCH 2 - PROGRESS: at 12.93% examples, 707501 words/s, in_qsize 19, out_qsize 0\n",
      "2021-03-14 13:59:25,009 : INFO : EPOCH 2 - PROGRESS: at 15.30% examples, 717655 words/s, in_qsize 19, out_qsize 4\n",
      "2021-03-14 13:59:26,043 : INFO : EPOCH 2 - PROGRESS: at 17.65% examples, 731155 words/s, in_qsize 20, out_qsize 1\n",
      "2021-03-14 13:59:27,045 : INFO : EPOCH 2 - PROGRESS: at 19.89% examples, 743667 words/s, in_qsize 19, out_qsize 0\n",
      "2021-03-14 13:59:28,049 : INFO : EPOCH 2 - PROGRESS: at 22.20% examples, 746919 words/s, in_qsize 18, out_qsize 1\n",
      "2021-03-14 13:59:29,055 : INFO : EPOCH 2 - PROGRESS: at 24.32% examples, 753740 words/s, in_qsize 19, out_qsize 0\n",
      "2021-03-14 13:59:30,057 : INFO : EPOCH 2 - PROGRESS: at 26.65% examples, 745540 words/s, in_qsize 18, out_qsize 1\n",
      "2021-03-14 13:59:31,058 : INFO : EPOCH 2 - PROGRESS: at 29.23% examples, 742629 words/s, in_qsize 20, out_qsize 0\n",
      "2021-03-14 13:59:32,069 : INFO : EPOCH 2 - PROGRESS: at 32.14% examples, 746098 words/s, in_qsize 19, out_qsize 0\n",
      "2021-03-14 13:59:33,073 : INFO : EPOCH 2 - PROGRESS: at 34.71% examples, 746751 words/s, in_qsize 19, out_qsize 0\n",
      "2021-03-14 13:59:34,106 : INFO : EPOCH 2 - PROGRESS: at 37.30% examples, 744990 words/s, in_qsize 20, out_qsize 2\n",
      "2021-03-14 13:59:35,130 : INFO : EPOCH 2 - PROGRESS: at 40.26% examples, 748390 words/s, in_qsize 20, out_qsize 2\n",
      "2021-03-14 13:59:36,131 : INFO : EPOCH 2 - PROGRESS: at 43.07% examples, 749970 words/s, in_qsize 19, out_qsize 0\n",
      "2021-03-14 13:59:37,137 : INFO : EPOCH 2 - PROGRESS: at 45.98% examples, 751683 words/s, in_qsize 18, out_qsize 1\n",
      "2021-03-14 13:59:38,144 : INFO : EPOCH 2 - PROGRESS: at 48.80% examples, 754831 words/s, in_qsize 19, out_qsize 0\n",
      "2021-03-14 13:59:39,158 : INFO : EPOCH 2 - PROGRESS: at 51.44% examples, 755033 words/s, in_qsize 20, out_qsize 1\n",
      "2021-03-14 13:59:40,158 : INFO : EPOCH 2 - PROGRESS: at 53.81% examples, 754055 words/s, in_qsize 19, out_qsize 0\n",
      "2021-03-14 13:59:41,171 : INFO : EPOCH 2 - PROGRESS: at 56.54% examples, 754504 words/s, in_qsize 19, out_qsize 0\n",
      "2021-03-14 13:59:42,175 : INFO : EPOCH 2 - PROGRESS: at 58.85% examples, 750946 words/s, in_qsize 19, out_qsize 0\n",
      "2021-03-14 13:59:43,212 : INFO : EPOCH 2 - PROGRESS: at 61.68% examples, 752875 words/s, in_qsize 19, out_qsize 0\n",
      "2021-03-14 13:59:44,234 : INFO : EPOCH 2 - PROGRESS: at 64.36% examples, 750848 words/s, in_qsize 19, out_qsize 8\n",
      "2021-03-14 13:59:45,244 : INFO : EPOCH 2 - PROGRESS: at 66.94% examples, 751896 words/s, in_qsize 20, out_qsize 1\n",
      "2021-03-14 13:59:46,257 : INFO : EPOCH 2 - PROGRESS: at 69.32% examples, 749920 words/s, in_qsize 19, out_qsize 4\n",
      "2021-03-14 13:59:47,286 : INFO : EPOCH 2 - PROGRESS: at 71.98% examples, 751901 words/s, in_qsize 19, out_qsize 0\n",
      "2021-03-14 13:59:48,296 : INFO : EPOCH 2 - PROGRESS: at 74.84% examples, 753465 words/s, in_qsize 18, out_qsize 1\n",
      "2021-03-14 13:59:49,316 : INFO : EPOCH 2 - PROGRESS: at 77.35% examples, 754883 words/s, in_qsize 19, out_qsize 0\n",
      "2021-03-14 13:59:50,335 : INFO : EPOCH 2 - PROGRESS: at 79.92% examples, 755840 words/s, in_qsize 18, out_qsize 1\n",
      "2021-03-14 13:59:51,358 : INFO : EPOCH 2 - PROGRESS: at 82.64% examples, 757041 words/s, in_qsize 18, out_qsize 1\n",
      "2021-03-14 13:59:52,364 : INFO : EPOCH 2 - PROGRESS: at 85.15% examples, 757865 words/s, in_qsize 19, out_qsize 0\n",
      "2021-03-14 13:59:53,372 : INFO : EPOCH 2 - PROGRESS: at 88.10% examples, 759685 words/s, in_qsize 19, out_qsize 0\n",
      "2021-03-14 13:59:54,374 : INFO : EPOCH 2 - PROGRESS: at 90.85% examples, 760230 words/s, in_qsize 17, out_qsize 2\n",
      "2021-03-14 13:59:55,380 : INFO : EPOCH 2 - PROGRESS: at 93.74% examples, 762533 words/s, in_qsize 19, out_qsize 0\n",
      "2021-03-14 13:59:56,386 : INFO : EPOCH 2 - PROGRESS: at 96.09% examples, 760252 words/s, in_qsize 16, out_qsize 3\n",
      "2021-03-14 13:59:57,389 : INFO : EPOCH 2 - PROGRESS: at 98.37% examples, 757881 words/s, in_qsize 18, out_qsize 1\n",
      "2021-03-14 13:59:57,874 : INFO : worker thread finished; awaiting finish of 9 more threads\n",
      "2021-03-14 13:59:57,901 : INFO : worker thread finished; awaiting finish of 8 more threads\n",
      "2021-03-14 13:59:57,904 : INFO : worker thread finished; awaiting finish of 7 more threads\n",
      "2021-03-14 13:59:57,921 : INFO : worker thread finished; awaiting finish of 6 more threads\n",
      "2021-03-14 13:59:57,928 : INFO : worker thread finished; awaiting finish of 5 more threads\n",
      "2021-03-14 13:59:57,946 : INFO : worker thread finished; awaiting finish of 4 more threads\n",
      "2021-03-14 13:59:57,950 : INFO : worker thread finished; awaiting finish of 3 more threads\n",
      "2021-03-14 13:59:57,956 : INFO : worker thread finished; awaiting finish of 2 more threads\n",
      "2021-03-14 13:59:57,960 : INFO : worker thread finished; awaiting finish of 1 more threads\n",
      "2021-03-14 13:59:57,963 : INFO : worker thread finished; awaiting finish of 0 more threads\n",
      "2021-03-14 13:59:57,964 : INFO : EPOCH - 2 : training on 41519355 raw words (30350870 effective words) took 40.0s, 758451 effective words/s\n",
      "2021-03-14 13:59:59,005 : INFO : EPOCH 3 - PROGRESS: at 1.95% examples, 599221 words/s, in_qsize 18, out_qsize 4\n",
      "2021-03-14 14:00:00,017 : INFO : EPOCH 3 - PROGRESS: at 4.24% examples, 638626 words/s, in_qsize 18, out_qsize 1\n",
      "2021-03-14 14:00:01,020 : INFO : EPOCH 3 - PROGRESS: at 6.71% examples, 678595 words/s, in_qsize 19, out_qsize 0\n",
      "2021-03-14 14:00:02,052 : INFO : EPOCH 3 - PROGRESS: at 8.67% examples, 656726 words/s, in_qsize 18, out_qsize 1\n",
      "2021-03-14 14:00:03,069 : INFO : EPOCH 3 - PROGRESS: at 10.40% examples, 652616 words/s, in_qsize 18, out_qsize 2\n",
      "2021-03-14 14:00:04,081 : INFO : EPOCH 3 - PROGRESS: at 12.15% examples, 653813 words/s, in_qsize 19, out_qsize 0\n",
      "2021-03-14 14:00:05,089 : INFO : EPOCH 3 - PROGRESS: at 14.43% examples, 671374 words/s, in_qsize 18, out_qsize 1\n",
      "2021-03-14 14:00:06,097 : INFO : EPOCH 3 - PROGRESS: at 16.80% examples, 688342 words/s, in_qsize 17, out_qsize 2\n",
      "2021-03-14 14:00:07,111 : INFO : EPOCH 3 - PROGRESS: at 19.04% examples, 703986 words/s, in_qsize 18, out_qsize 1\n",
      "2021-03-14 14:00:08,119 : INFO : EPOCH 3 - PROGRESS: at 20.99% examples, 710457 words/s, in_qsize 19, out_qsize 0\n",
      "2021-03-14 14:00:09,126 : INFO : EPOCH 3 - PROGRESS: at 23.39% examples, 718292 words/s, in_qsize 19, out_qsize 0\n",
      "2021-03-14 14:00:10,130 : INFO : EPOCH 3 - PROGRESS: at 25.85% examples, 725322 words/s, in_qsize 19, out_qsize 0\n"
     ]
    },
    {
     "name": "stderr",
     "output_type": "stream",
     "text": [
      "2021-03-14 14:00:11,140 : INFO : EPOCH 3 - PROGRESS: at 28.55% examples, 725095 words/s, in_qsize 20, out_qsize 2\n",
      "2021-03-14 14:00:12,142 : INFO : EPOCH 3 - PROGRESS: at 31.47% examples, 730301 words/s, in_qsize 19, out_qsize 0\n",
      "2021-03-14 14:00:13,169 : INFO : EPOCH 3 - PROGRESS: at 34.12% examples, 732256 words/s, in_qsize 19, out_qsize 0\n",
      "2021-03-14 14:00:14,170 : INFO : EPOCH 3 - PROGRESS: at 36.81% examples, 734232 words/s, in_qsize 16, out_qsize 3\n",
      "2021-03-14 14:00:15,174 : INFO : EPOCH 3 - PROGRESS: at 39.51% examples, 735809 words/s, in_qsize 19, out_qsize 0\n",
      "2021-03-14 14:00:16,189 : INFO : EPOCH 3 - PROGRESS: at 42.12% examples, 733130 words/s, in_qsize 18, out_qsize 1\n",
      "2021-03-14 14:00:17,191 : INFO : EPOCH 3 - PROGRESS: at 44.81% examples, 733569 words/s, in_qsize 18, out_qsize 1\n",
      "2021-03-14 14:00:18,214 : INFO : EPOCH 3 - PROGRESS: at 47.45% examples, 734622 words/s, in_qsize 19, out_qsize 0\n",
      "2021-03-14 14:00:19,235 : INFO : EPOCH 3 - PROGRESS: at 50.06% examples, 733915 words/s, in_qsize 20, out_qsize 1\n",
      "2021-03-14 14:00:20,241 : INFO : EPOCH 3 - PROGRESS: at 52.65% examples, 735603 words/s, in_qsize 19, out_qsize 0\n",
      "2021-03-14 14:00:21,244 : INFO : EPOCH 3 - PROGRESS: at 55.47% examples, 739600 words/s, in_qsize 19, out_qsize 0\n",
      "2021-03-14 14:00:22,261 : INFO : EPOCH 3 - PROGRESS: at 57.97% examples, 738652 words/s, in_qsize 19, out_qsize 0\n",
      "2021-03-14 14:00:23,283 : INFO : EPOCH 3 - PROGRESS: at 60.87% examples, 741767 words/s, in_qsize 19, out_qsize 0\n",
      "2021-03-14 14:00:24,301 : INFO : EPOCH 3 - PROGRESS: at 63.67% examples, 743005 words/s, in_qsize 16, out_qsize 3\n",
      "2021-03-14 14:00:25,312 : INFO : EPOCH 3 - PROGRESS: at 66.49% examples, 745711 words/s, in_qsize 20, out_qsize 0\n",
      "2021-03-14 14:00:26,315 : INFO : EPOCH 3 - PROGRESS: at 68.92% examples, 744444 words/s, in_qsize 19, out_qsize 0\n",
      "2021-03-14 14:00:27,344 : INFO : EPOCH 3 - PROGRESS: at 70.91% examples, 739923 words/s, in_qsize 18, out_qsize 1\n",
      "2021-03-14 14:00:28,351 : INFO : EPOCH 3 - PROGRESS: at 73.55% examples, 740098 words/s, in_qsize 18, out_qsize 1\n",
      "2021-03-14 14:00:29,351 : INFO : EPOCH 3 - PROGRESS: at 75.60% examples, 736731 words/s, in_qsize 19, out_qsize 0\n",
      "2021-03-14 14:00:30,389 : INFO : EPOCH 3 - PROGRESS: at 77.96% examples, 736616 words/s, in_qsize 19, out_qsize 0\n",
      "2021-03-14 14:00:31,423 : INFO : EPOCH 3 - PROGRESS: at 80.71% examples, 739035 words/s, in_qsize 17, out_qsize 2\n",
      "2021-03-14 14:00:32,426 : INFO : EPOCH 3 - PROGRESS: at 83.43% examples, 740957 words/s, in_qsize 19, out_qsize 0\n",
      "2021-03-14 14:00:33,434 : INFO : EPOCH 3 - PROGRESS: at 85.89% examples, 741560 words/s, in_qsize 18, out_qsize 1\n",
      "2021-03-14 14:00:34,438 : INFO : EPOCH 3 - PROGRESS: at 88.68% examples, 742306 words/s, in_qsize 18, out_qsize 1\n",
      "2021-03-14 14:00:35,465 : INFO : EPOCH 3 - PROGRESS: at 91.48% examples, 743381 words/s, in_qsize 19, out_qsize 0\n",
      "2021-03-14 14:00:36,465 : INFO : EPOCH 3 - PROGRESS: at 94.07% examples, 743921 words/s, in_qsize 19, out_qsize 0\n",
      "2021-03-14 14:00:37,483 : INFO : EPOCH 3 - PROGRESS: at 96.81% examples, 745040 words/s, in_qsize 18, out_qsize 1\n",
      "2021-03-14 14:00:38,485 : INFO : EPOCH 3 - PROGRESS: at 99.62% examples, 746539 words/s, in_qsize 15, out_qsize 0\n",
      "2021-03-14 14:00:38,564 : INFO : worker thread finished; awaiting finish of 9 more threads\n",
      "2021-03-14 14:00:38,576 : INFO : worker thread finished; awaiting finish of 8 more threads\n",
      "2021-03-14 14:00:38,577 : INFO : worker thread finished; awaiting finish of 7 more threads\n",
      "2021-03-14 14:00:38,578 : INFO : worker thread finished; awaiting finish of 6 more threads\n",
      "2021-03-14 14:00:38,579 : INFO : worker thread finished; awaiting finish of 5 more threads\n",
      "2021-03-14 14:00:38,592 : INFO : worker thread finished; awaiting finish of 4 more threads\n",
      "2021-03-14 14:00:38,602 : INFO : worker thread finished; awaiting finish of 3 more threads\n",
      "2021-03-14 14:00:38,603 : INFO : worker thread finished; awaiting finish of 2 more threads\n",
      "2021-03-14 14:00:38,606 : INFO : worker thread finished; awaiting finish of 1 more threads\n",
      "2021-03-14 14:00:38,608 : INFO : worker thread finished; awaiting finish of 0 more threads\n",
      "2021-03-14 14:00:38,609 : INFO : EPOCH - 3 : training on 41519355 raw words (30349348 effective words) took 40.6s, 746829 effective words/s\n",
      "2021-03-14 14:00:39,629 : INFO : EPOCH 4 - PROGRESS: at 2.42% examples, 754215 words/s, in_qsize 17, out_qsize 2\n",
      "2021-03-14 14:00:40,650 : INFO : EPOCH 4 - PROGRESS: at 5.12% examples, 776936 words/s, in_qsize 20, out_qsize 3\n",
      "2021-03-14 14:00:41,681 : INFO : EPOCH 4 - PROGRESS: at 7.83% examples, 789957 words/s, in_qsize 20, out_qsize 0\n",
      "2021-03-14 14:00:42,694 : INFO : EPOCH 4 - PROGRESS: at 10.15% examples, 794345 words/s, in_qsize 19, out_qsize 0\n",
      "2021-03-14 14:00:43,704 : INFO : EPOCH 4 - PROGRESS: at 12.03% examples, 775222 words/s, in_qsize 19, out_qsize 0\n",
      "2021-03-14 14:00:44,709 : INFO : EPOCH 4 - PROGRESS: at 14.18% examples, 768925 words/s, in_qsize 19, out_qsize 0\n",
      "2021-03-14 14:00:45,713 : INFO : EPOCH 4 - PROGRESS: at 16.29% examples, 762840 words/s, in_qsize 17, out_qsize 2\n",
      "2021-03-14 14:00:46,741 : INFO : EPOCH 4 - PROGRESS: at 18.49% examples, 765626 words/s, in_qsize 15, out_qsize 4\n",
      "2021-03-14 14:00:47,759 : INFO : EPOCH 4 - PROGRESS: at 20.57% examples, 769660 words/s, in_qsize 17, out_qsize 2\n",
      "2021-03-14 14:00:48,795 : INFO : EPOCH 4 - PROGRESS: at 22.96% examples, 769461 words/s, in_qsize 19, out_qsize 0\n",
      "2021-03-14 14:00:49,809 : INFO : EPOCH 4 - PROGRESS: at 25.14% examples, 770427 words/s, in_qsize 18, out_qsize 1\n",
      "2021-03-14 14:00:50,812 : INFO : EPOCH 4 - PROGRESS: at 28.19% examples, 774001 words/s, in_qsize 19, out_qsize 0\n",
      "2021-03-14 14:00:51,818 : INFO : EPOCH 4 - PROGRESS: at 31.11% examples, 776785 words/s, in_qsize 19, out_qsize 0\n",
      "2021-03-14 14:00:52,823 : INFO : EPOCH 4 - PROGRESS: at 33.84% examples, 777606 words/s, in_qsize 19, out_qsize 0\n",
      "2021-03-14 14:00:53,832 : INFO : EPOCH 4 - PROGRESS: at 36.72% examples, 779700 words/s, in_qsize 19, out_qsize 0\n",
      "2021-03-14 14:00:54,845 : INFO : EPOCH 4 - PROGRESS: at 39.56% examples, 780739 words/s, in_qsize 17, out_qsize 2\n",
      "2021-03-14 14:00:55,855 : INFO : EPOCH 4 - PROGRESS: at 42.61% examples, 783483 words/s, in_qsize 20, out_qsize 0\n",
      "2021-03-14 14:00:56,871 : INFO : EPOCH 4 - PROGRESS: at 45.70% examples, 785667 words/s, in_qsize 18, out_qsize 1\n",
      "2021-03-14 14:00:57,889 : INFO : EPOCH 4 - PROGRESS: at 48.47% examples, 786427 words/s, in_qsize 18, out_qsize 1\n",
      "2021-03-14 14:00:58,905 : INFO : EPOCH 4 - PROGRESS: at 51.24% examples, 786433 words/s, in_qsize 19, out_qsize 0\n",
      "2021-03-14 14:00:59,927 : INFO : EPOCH 4 - PROGRESS: at 53.59% examples, 783148 words/s, in_qsize 19, out_qsize 0\n",
      "2021-03-14 14:01:00,927 : INFO : EPOCH 4 - PROGRESS: at 56.27% examples, 781744 words/s, in_qsize 19, out_qsize 0\n",
      "2021-03-14 14:01:01,945 : INFO : EPOCH 4 - PROGRESS: at 58.68% examples, 777657 words/s, in_qsize 18, out_qsize 1\n",
      "2021-03-14 14:01:02,951 : INFO : EPOCH 4 - PROGRESS: at 61.26% examples, 776211 words/s, in_qsize 19, out_qsize 0\n",
      "2021-03-14 14:01:03,968 : INFO : EPOCH 4 - PROGRESS: at 63.81% examples, 772992 words/s, in_qsize 19, out_qsize 0\n",
      "2021-03-14 14:01:04,971 : INFO : EPOCH 4 - PROGRESS: at 66.31% examples, 771398 words/s, in_qsize 19, out_qsize 0\n",
      "2021-03-14 14:01:05,999 : INFO : EPOCH 4 - PROGRESS: at 68.96% examples, 771002 words/s, in_qsize 19, out_qsize 0\n",
      "2021-03-14 14:01:07,004 : INFO : EPOCH 4 - PROGRESS: at 71.59% examples, 772375 words/s, in_qsize 19, out_qsize 0\n",
      "2021-03-14 14:01:08,017 : INFO : EPOCH 4 - PROGRESS: at 74.28% examples, 771979 words/s, in_qsize 19, out_qsize 0\n",
      "2021-03-14 14:01:09,036 : INFO : EPOCH 4 - PROGRESS: at 76.74% examples, 771921 words/s, in_qsize 14, out_qsize 5\n",
      "2021-03-14 14:01:10,041 : INFO : EPOCH 4 - PROGRESS: at 79.34% examples, 772874 words/s, in_qsize 19, out_qsize 0\n",
      "2021-03-14 14:01:11,042 : INFO : EPOCH 4 - PROGRESS: at 81.95% examples, 773686 words/s, in_qsize 18, out_qsize 0\n",
      "2021-03-14 14:01:12,051 : INFO : EPOCH 4 - PROGRESS: at 84.37% examples, 772505 words/s, in_qsize 14, out_qsize 5\n",
      "2021-03-14 14:01:13,053 : INFO : EPOCH 4 - PROGRESS: at 87.06% examples, 773003 words/s, in_qsize 19, out_qsize 0\n",
      "2021-03-14 14:01:14,061 : INFO : EPOCH 4 - PROGRESS: at 89.89% examples, 773428 words/s, in_qsize 17, out_qsize 2\n"
     ]
    },
    {
     "name": "stderr",
     "output_type": "stream",
     "text": [
      "2021-03-14 14:01:15,066 : INFO : EPOCH 4 - PROGRESS: at 92.52% examples, 772906 words/s, in_qsize 20, out_qsize 2\n",
      "2021-03-14 14:01:16,078 : INFO : EPOCH 4 - PROGRESS: at 95.24% examples, 773235 words/s, in_qsize 19, out_qsize 0\n",
      "2021-03-14 14:01:17,082 : INFO : EPOCH 4 - PROGRESS: at 97.89% examples, 773263 words/s, in_qsize 19, out_qsize 0\n",
      "2021-03-14 14:01:17,756 : INFO : worker thread finished; awaiting finish of 9 more threads\n",
      "2021-03-14 14:01:17,769 : INFO : worker thread finished; awaiting finish of 8 more threads\n",
      "2021-03-14 14:01:17,784 : INFO : worker thread finished; awaiting finish of 7 more threads\n",
      "2021-03-14 14:01:17,789 : INFO : worker thread finished; awaiting finish of 6 more threads\n",
      "2021-03-14 14:01:17,805 : INFO : worker thread finished; awaiting finish of 5 more threads\n",
      "2021-03-14 14:01:17,824 : INFO : worker thread finished; awaiting finish of 4 more threads\n",
      "2021-03-14 14:01:17,827 : INFO : worker thread finished; awaiting finish of 3 more threads\n",
      "2021-03-14 14:01:17,829 : INFO : worker thread finished; awaiting finish of 2 more threads\n",
      "2021-03-14 14:01:17,832 : INFO : worker thread finished; awaiting finish of 1 more threads\n",
      "2021-03-14 14:01:17,836 : INFO : worker thread finished; awaiting finish of 0 more threads\n",
      "2021-03-14 14:01:17,837 : INFO : EPOCH - 4 : training on 41519355 raw words (30348650 effective words) took 39.2s, 773749 effective words/s\n",
      "2021-03-14 14:01:18,856 : INFO : EPOCH 5 - PROGRESS: at 2.34% examples, 734073 words/s, in_qsize 18, out_qsize 1\n",
      "2021-03-14 14:01:19,877 : INFO : EPOCH 5 - PROGRESS: at 4.98% examples, 756313 words/s, in_qsize 19, out_qsize 0\n",
      "2021-03-14 14:01:20,883 : INFO : EPOCH 5 - PROGRESS: at 7.43% examples, 754158 words/s, in_qsize 18, out_qsize 1\n",
      "2021-03-14 14:01:21,912 : INFO : EPOCH 5 - PROGRESS: at 9.80% examples, 762887 words/s, in_qsize 20, out_qsize 1\n",
      "2021-03-14 14:01:22,932 : INFO : EPOCH 5 - PROGRESS: at 11.92% examples, 766899 words/s, in_qsize 20, out_qsize 0\n",
      "2021-03-14 14:01:23,952 : INFO : EPOCH 5 - PROGRESS: at 14.17% examples, 767330 words/s, in_qsize 20, out_qsize 3\n",
      "2021-03-14 14:01:24,954 : INFO : EPOCH 5 - PROGRESS: at 16.49% examples, 771820 words/s, in_qsize 19, out_qsize 2\n",
      "2021-03-14 14:01:25,976 : INFO : EPOCH 5 - PROGRESS: at 18.63% examples, 771427 words/s, in_qsize 19, out_qsize 0\n",
      "2021-03-14 14:01:26,984 : INFO : EPOCH 5 - PROGRESS: at 20.69% examples, 775712 words/s, in_qsize 17, out_qsize 2\n",
      "2021-03-14 14:01:28,001 : INFO : EPOCH 5 - PROGRESS: at 23.05% examples, 775726 words/s, in_qsize 19, out_qsize 0\n",
      "2021-03-14 14:01:29,019 : INFO : EPOCH 5 - PROGRESS: at 25.38% examples, 777758 words/s, in_qsize 20, out_qsize 0\n",
      "2021-03-14 14:01:30,020 : INFO : EPOCH 5 - PROGRESS: at 28.20% examples, 775519 words/s, in_qsize 19, out_qsize 0\n",
      "2021-03-14 14:01:31,039 : INFO : EPOCH 5 - PROGRESS: at 30.51% examples, 765918 words/s, in_qsize 19, out_qsize 0\n",
      "2021-03-14 14:01:32,043 : INFO : EPOCH 5 - PROGRESS: at 32.83% examples, 755923 words/s, in_qsize 19, out_qsize 0\n",
      "2021-03-14 14:01:33,044 : INFO : EPOCH 5 - PROGRESS: at 35.53% examples, 758944 words/s, in_qsize 19, out_qsize 0\n",
      "2021-03-14 14:01:34,045 : INFO : EPOCH 5 - PROGRESS: at 38.26% examples, 759519 words/s, in_qsize 20, out_qsize 0\n",
      "2021-03-14 14:01:35,055 : INFO : EPOCH 5 - PROGRESS: at 41.27% examples, 763172 words/s, in_qsize 19, out_qsize 0\n",
      "2021-03-14 14:01:36,085 : INFO : EPOCH 5 - PROGRESS: at 44.14% examples, 763533 words/s, in_qsize 17, out_qsize 2\n",
      "2021-03-14 14:01:37,108 : INFO : EPOCH 5 - PROGRESS: at 47.05% examples, 765585 words/s, in_qsize 19, out_qsize 0\n",
      "2021-03-14 14:01:38,126 : INFO : EPOCH 5 - PROGRESS: at 49.91% examples, 767640 words/s, in_qsize 19, out_qsize 0\n",
      "2021-03-14 14:01:39,139 : INFO : EPOCH 5 - PROGRESS: at 52.44% examples, 766221 words/s, in_qsize 19, out_qsize 1\n",
      "2021-03-14 14:01:40,147 : INFO : EPOCH 5 - PROGRESS: at 54.84% examples, 764960 words/s, in_qsize 19, out_qsize 0\n",
      "2021-03-14 14:01:41,151 : INFO : EPOCH 5 - PROGRESS: at 57.58% examples, 764556 words/s, in_qsize 19, out_qsize 0\n",
      "2021-03-14 14:01:42,159 : INFO : EPOCH 5 - PROGRESS: at 60.09% examples, 763186 words/s, in_qsize 15, out_qsize 4\n",
      "2021-03-14 14:01:43,172 : INFO : EPOCH 5 - PROGRESS: at 62.90% examples, 764674 words/s, in_qsize 17, out_qsize 2\n",
      "2021-03-14 14:01:44,186 : INFO : EPOCH 5 - PROGRESS: at 65.81% examples, 766387 words/s, in_qsize 19, out_qsize 0\n",
      "2021-03-14 14:01:45,206 : INFO : EPOCH 5 - PROGRESS: at 68.52% examples, 767211 words/s, in_qsize 19, out_qsize 0\n",
      "2021-03-14 14:01:46,213 : INFO : EPOCH 5 - PROGRESS: at 71.13% examples, 768655 words/s, in_qsize 19, out_qsize 0\n",
      "2021-03-14 14:01:47,214 : INFO : EPOCH 5 - PROGRESS: at 74.04% examples, 770147 words/s, in_qsize 19, out_qsize 0\n",
      "2021-03-14 14:01:48,228 : INFO : EPOCH 5 - PROGRESS: at 76.40% examples, 769562 words/s, in_qsize 19, out_qsize 0\n",
      "2021-03-14 14:01:49,245 : INFO : EPOCH 5 - PROGRESS: at 78.78% examples, 768240 words/s, in_qsize 19, out_qsize 0\n",
      "2021-03-14 14:01:50,249 : INFO : EPOCH 5 - PROGRESS: at 81.05% examples, 766220 words/s, in_qsize 19, out_qsize 0\n",
      "2021-03-14 14:01:51,268 : INFO : EPOCH 5 - PROGRESS: at 83.78% examples, 767212 words/s, in_qsize 19, out_qsize 0\n",
      "2021-03-14 14:01:52,268 : INFO : EPOCH 5 - PROGRESS: at 86.30% examples, 767221 words/s, in_qsize 19, out_qsize 0\n",
      "2021-03-14 14:01:53,272 : INFO : EPOCH 5 - PROGRESS: at 89.08% examples, 767314 words/s, in_qsize 19, out_qsize 0\n",
      "2021-03-14 14:01:54,273 : INFO : EPOCH 5 - PROGRESS: at 91.78% examples, 767441 words/s, in_qsize 19, out_qsize 0\n",
      "2021-03-14 14:01:55,293 : INFO : EPOCH 5 - PROGRESS: at 94.43% examples, 767347 words/s, in_qsize 19, out_qsize 0\n",
      "2021-03-14 14:01:56,333 : INFO : EPOCH 5 - PROGRESS: at 97.13% examples, 767018 words/s, in_qsize 16, out_qsize 3\n",
      "2021-03-14 14:01:57,252 : INFO : worker thread finished; awaiting finish of 9 more threads\n",
      "2021-03-14 14:01:57,269 : INFO : worker thread finished; awaiting finish of 8 more threads\n",
      "2021-03-14 14:01:57,278 : INFO : worker thread finished; awaiting finish of 7 more threads\n",
      "2021-03-14 14:01:57,298 : INFO : worker thread finished; awaiting finish of 6 more threads\n",
      "2021-03-14 14:01:57,304 : INFO : worker thread finished; awaiting finish of 5 more threads\n",
      "2021-03-14 14:01:57,309 : INFO : worker thread finished; awaiting finish of 4 more threads\n",
      "2021-03-14 14:01:57,313 : INFO : worker thread finished; awaiting finish of 3 more threads\n",
      "2021-03-14 14:01:57,315 : INFO : worker thread finished; awaiting finish of 2 more threads\n",
      "2021-03-14 14:01:57,320 : INFO : worker thread finished; awaiting finish of 1 more threads\n",
      "2021-03-14 14:01:57,326 : INFO : worker thread finished; awaiting finish of 0 more threads\n",
      "2021-03-14 14:01:57,327 : INFO : EPOCH - 5 : training on 41519355 raw words (30348290 effective words) took 39.5s, 768624 effective words/s\n",
      "2021-03-14 14:01:57,328 : INFO : training on a 207596775 raw words (151744901 effective words) took 198.9s, 762816 effective words/s\n",
      "2021-03-14 14:01:57,329 : WARNING : Effective 'alpha' higher than previous training cycles\n",
      "2021-03-14 14:01:57,329 : INFO : training model with 10 workers on 70538 vocabulary and 150 features, using sg=0 hs=0 sample=0.001 negative=5 window=10\n",
      "2021-03-14 14:01:58,351 : INFO : EPOCH 1 - PROGRESS: at 2.39% examples, 745037 words/s, in_qsize 19, out_qsize 0\n",
      "2021-03-14 14:01:59,354 : INFO : EPOCH 1 - PROGRESS: at 5.00% examples, 761587 words/s, in_qsize 19, out_qsize 0\n",
      "2021-03-14 14:02:00,403 : INFO : EPOCH 1 - PROGRESS: at 7.38% examples, 742100 words/s, in_qsize 15, out_qsize 4\n",
      "2021-03-14 14:02:01,405 : INFO : EPOCH 1 - PROGRESS: at 9.62% examples, 741303 words/s, in_qsize 19, out_qsize 0\n",
      "2021-03-14 14:02:02,412 : INFO : EPOCH 1 - PROGRESS: at 11.65% examples, 748867 words/s, in_qsize 20, out_qsize 1\n",
      "2021-03-14 14:02:03,419 : INFO : EPOCH 1 - PROGRESS: at 13.82% examples, 750035 words/s, in_qsize 19, out_qsize 0\n",
      "2021-03-14 14:02:04,426 : INFO : EPOCH 1 - PROGRESS: at 16.14% examples, 755576 words/s, in_qsize 18, out_qsize 1\n",
      "2021-03-14 14:02:05,427 : INFO : EPOCH 1 - PROGRESS: at 18.28% examples, 759943 words/s, in_qsize 18, out_qsize 1\n",
      "2021-03-14 14:02:06,434 : INFO : EPOCH 1 - PROGRESS: at 20.30% examples, 761552 words/s, in_qsize 19, out_qsize 0\n",
      "2021-03-14 14:02:07,436 : INFO : EPOCH 1 - PROGRESS: at 22.55% examples, 760575 words/s, in_qsize 19, out_qsize 0\n"
     ]
    },
    {
     "name": "stderr",
     "output_type": "stream",
     "text": [
      "2021-03-14 14:02:08,436 : INFO : EPOCH 1 - PROGRESS: at 24.45% examples, 758774 words/s, in_qsize 19, out_qsize 0\n",
      "2021-03-14 14:02:09,437 : INFO : EPOCH 1 - PROGRESS: at 27.29% examples, 760468 words/s, in_qsize 19, out_qsize 0\n",
      "2021-03-14 14:02:10,440 : INFO : EPOCH 1 - PROGRESS: at 29.99% examples, 759973 words/s, in_qsize 19, out_qsize 0\n",
      "2021-03-14 14:02:11,458 : INFO : EPOCH 1 - PROGRESS: at 33.01% examples, 763425 words/s, in_qsize 20, out_qsize 1\n",
      "2021-03-14 14:02:12,465 : INFO : EPOCH 1 - PROGRESS: at 35.74% examples, 766144 words/s, in_qsize 19, out_qsize 0\n",
      "2021-03-14 14:02:13,472 : INFO : EPOCH 1 - PROGRESS: at 38.57% examples, 767792 words/s, in_qsize 19, out_qsize 0\n",
      "2021-03-14 14:02:14,478 : INFO : EPOCH 1 - PROGRESS: at 41.65% examples, 771555 words/s, in_qsize 18, out_qsize 1\n",
      "2021-03-14 14:02:15,483 : INFO : EPOCH 1 - PROGRESS: at 44.65% examples, 774488 words/s, in_qsize 19, out_qsize 0\n",
      "2021-03-14 14:02:16,487 : INFO : EPOCH 1 - PROGRESS: at 47.36% examples, 775215 words/s, in_qsize 19, out_qsize 0\n",
      "2021-03-14 14:02:17,489 : INFO : EPOCH 1 - PROGRESS: at 50.23% examples, 776709 words/s, in_qsize 19, out_qsize 0\n",
      "2021-03-14 14:02:18,510 : INFO : EPOCH 1 - PROGRESS: at 52.85% examples, 776952 words/s, in_qsize 17, out_qsize 2\n",
      "2021-03-14 14:02:19,510 : INFO : EPOCH 1 - PROGRESS: at 55.70% examples, 779046 words/s, in_qsize 19, out_qsize 0\n",
      "2021-03-14 14:02:20,511 : INFO : EPOCH 1 - PROGRESS: at 58.51% examples, 780933 words/s, in_qsize 19, out_qsize 0\n",
      "2021-03-14 14:02:21,520 : INFO : EPOCH 1 - PROGRESS: at 61.27% examples, 781058 words/s, in_qsize 20, out_qsize 5\n",
      "2021-03-14 14:02:22,522 : INFO : EPOCH 1 - PROGRESS: at 64.18% examples, 781767 words/s, in_qsize 19, out_qsize 0\n",
      "2021-03-14 14:02:23,527 : INFO : EPOCH 1 - PROGRESS: at 66.81% examples, 782149 words/s, in_qsize 19, out_qsize 0\n",
      "2021-03-14 14:02:24,533 : INFO : EPOCH 1 - PROGRESS: at 69.61% examples, 783910 words/s, in_qsize 19, out_qsize 0\n",
      "2021-03-14 14:02:25,536 : INFO : EPOCH 1 - PROGRESS: at 72.34% examples, 785691 words/s, in_qsize 19, out_qsize 0\n",
      "2021-03-14 14:02:26,543 : INFO : EPOCH 1 - PROGRESS: at 75.11% examples, 785936 words/s, in_qsize 19, out_qsize 0\n",
      "2021-03-14 14:02:27,581 : INFO : EPOCH 1 - PROGRESS: at 77.69% examples, 786558 words/s, in_qsize 19, out_qsize 0\n",
      "2021-03-14 14:02:28,587 : INFO : EPOCH 1 - PROGRESS: at 80.36% examples, 787308 words/s, in_qsize 20, out_qsize 1\n",
      "2021-03-14 14:02:29,602 : INFO : EPOCH 1 - PROGRESS: at 82.93% examples, 786430 words/s, in_qsize 18, out_qsize 8\n",
      "2021-03-14 14:02:30,624 : INFO : EPOCH 1 - PROGRESS: at 85.59% examples, 787537 words/s, in_qsize 19, out_qsize 0\n",
      "2021-03-14 14:02:31,634 : INFO : EPOCH 1 - PROGRESS: at 88.58% examples, 788316 words/s, in_qsize 20, out_qsize 0\n",
      "2021-03-14 14:02:32,639 : INFO : EPOCH 1 - PROGRESS: at 91.47% examples, 789431 words/s, in_qsize 19, out_qsize 0\n",
      "2021-03-14 14:02:33,639 : INFO : EPOCH 1 - PROGRESS: at 94.21% examples, 789742 words/s, in_qsize 19, out_qsize 0\n",
      "2021-03-14 14:02:34,654 : INFO : EPOCH 1 - PROGRESS: at 96.94% examples, 789721 words/s, in_qsize 19, out_qsize 0\n",
      "2021-03-14 14:02:35,643 : INFO : worker thread finished; awaiting finish of 9 more threads\n",
      "2021-03-14 14:02:35,656 : INFO : EPOCH 1 - PROGRESS: at 99.80% examples, 790499 words/s, in_qsize 8, out_qsize 1\n",
      "2021-03-14 14:02:35,665 : INFO : worker thread finished; awaiting finish of 8 more threads\n",
      "2021-03-14 14:02:35,666 : INFO : worker thread finished; awaiting finish of 7 more threads\n",
      "2021-03-14 14:02:35,667 : INFO : worker thread finished; awaiting finish of 6 more threads\n",
      "2021-03-14 14:02:35,676 : INFO : worker thread finished; awaiting finish of 5 more threads\n",
      "2021-03-14 14:02:35,678 : INFO : worker thread finished; awaiting finish of 4 more threads\n",
      "2021-03-14 14:02:35,682 : INFO : worker thread finished; awaiting finish of 3 more threads\n",
      "2021-03-14 14:02:35,691 : INFO : worker thread finished; awaiting finish of 2 more threads\n",
      "2021-03-14 14:02:35,694 : INFO : worker thread finished; awaiting finish of 1 more threads\n",
      "2021-03-14 14:02:35,697 : INFO : worker thread finished; awaiting finish of 0 more threads\n",
      "2021-03-14 14:02:35,698 : INFO : EPOCH - 1 : training on 41519355 raw words (30347401 effective words) took 38.4s, 791050 effective words/s\n",
      "2021-03-14 14:02:36,724 : INFO : EPOCH 2 - PROGRESS: at 2.48% examples, 763371 words/s, in_qsize 18, out_qsize 1\n",
      "2021-03-14 14:02:37,732 : INFO : EPOCH 2 - PROGRESS: at 5.19% examples, 789942 words/s, in_qsize 19, out_qsize 0\n",
      "2021-03-14 14:02:38,750 : INFO : EPOCH 2 - PROGRESS: at 7.77% examples, 790231 words/s, in_qsize 18, out_qsize 1\n",
      "2021-03-14 14:02:39,755 : INFO : EPOCH 2 - PROGRESS: at 10.14% examples, 797830 words/s, in_qsize 18, out_qsize 1\n",
      "2021-03-14 14:02:40,764 : INFO : EPOCH 2 - PROGRESS: at 12.26% examples, 797952 words/s, in_qsize 19, out_qsize 2\n",
      "2021-03-14 14:02:41,767 : INFO : EPOCH 2 - PROGRESS: at 14.73% examples, 803728 words/s, in_qsize 18, out_qsize 1\n",
      "2021-03-14 14:02:42,773 : INFO : EPOCH 2 - PROGRESS: at 16.94% examples, 798611 words/s, in_qsize 18, out_qsize 1\n",
      "2021-03-14 14:02:43,790 : INFO : EPOCH 2 - PROGRESS: at 18.93% examples, 789721 words/s, in_qsize 17, out_qsize 2\n",
      "2021-03-14 14:02:44,791 : INFO : EPOCH 2 - PROGRESS: at 20.82% examples, 785622 words/s, in_qsize 19, out_qsize 0\n",
      "2021-03-14 14:02:45,792 : INFO : EPOCH 2 - PROGRESS: at 23.11% examples, 783651 words/s, in_qsize 19, out_qsize 0\n",
      "2021-03-14 14:02:46,793 : INFO : EPOCH 2 - PROGRESS: at 25.42% examples, 784215 words/s, in_qsize 19, out_qsize 0\n",
      "2021-03-14 14:02:47,797 : INFO : EPOCH 2 - PROGRESS: at 28.24% examples, 781888 words/s, in_qsize 19, out_qsize 0\n",
      "2021-03-14 14:02:48,802 : INFO : EPOCH 2 - PROGRESS: at 31.23% examples, 785328 words/s, in_qsize 20, out_qsize 0\n",
      "2021-03-14 14:02:49,817 : INFO : EPOCH 2 - PROGRESS: at 33.87% examples, 783964 words/s, in_qsize 20, out_qsize 2\n",
      "2021-03-14 14:02:50,811 : INFO : EPOCH 2 - PROGRESS: at 36.80% examples, 786889 words/s, in_qsize 19, out_qsize 0\n",
      "2021-03-14 14:02:51,820 : INFO : EPOCH 2 - PROGRESS: at 39.52% examples, 785442 words/s, in_qsize 19, out_qsize 0\n",
      "2021-03-14 14:02:52,827 : INFO : EPOCH 2 - PROGRESS: at 42.41% examples, 785488 words/s, in_qsize 19, out_qsize 0\n",
      "2021-03-14 14:02:53,841 : INFO : EPOCH 2 - PROGRESS: at 45.28% examples, 784502 words/s, in_qsize 20, out_qsize 0\n",
      "2021-03-14 14:02:54,851 : INFO : EPOCH 2 - PROGRESS: at 47.63% examples, 779229 words/s, in_qsize 19, out_qsize 0\n",
      "2021-03-14 14:02:55,858 : INFO : EPOCH 2 - PROGRESS: at 50.43% examples, 779935 words/s, in_qsize 20, out_qsize 0\n",
      "2021-03-14 14:02:56,868 : INFO : EPOCH 2 - PROGRESS: at 53.05% examples, 780792 words/s, in_qsize 19, out_qsize 0\n",
      "2021-03-14 14:02:57,876 : INFO : EPOCH 2 - PROGRESS: at 55.75% examples, 779864 words/s, in_qsize 18, out_qsize 1\n",
      "2021-03-14 14:02:58,887 : INFO : EPOCH 2 - PROGRESS: at 58.25% examples, 777317 words/s, in_qsize 19, out_qsize 0\n",
      "2021-03-14 14:02:59,907 : INFO : EPOCH 2 - PROGRESS: at 60.87% examples, 775725 words/s, in_qsize 18, out_qsize 1\n",
      "2021-03-14 14:03:00,913 : INFO : EPOCH 2 - PROGRESS: at 63.52% examples, 774609 words/s, in_qsize 19, out_qsize 0\n",
      "2021-03-14 14:03:01,938 : INFO : EPOCH 2 - PROGRESS: at 66.26% examples, 774726 words/s, in_qsize 17, out_qsize 2\n",
      "2021-03-14 14:03:02,944 : INFO : EPOCH 2 - PROGRESS: at 69.03% examples, 775922 words/s, in_qsize 19, out_qsize 0\n",
      "2021-03-14 14:03:03,964 : INFO : EPOCH 2 - PROGRESS: at 71.65% examples, 776743 words/s, in_qsize 19, out_qsize 0\n",
      "2021-03-14 14:03:04,967 : INFO : EPOCH 2 - PROGRESS: at 74.45% examples, 777425 words/s, in_qsize 19, out_qsize 0\n",
      "2021-03-14 14:03:05,977 : INFO : EPOCH 2 - PROGRESS: at 76.90% examples, 777180 words/s, in_qsize 18, out_qsize 1\n",
      "2021-03-14 14:03:06,987 : INFO : EPOCH 2 - PROGRESS: at 79.40% examples, 777162 words/s, in_qsize 19, out_qsize 0\n",
      "2021-03-14 14:03:07,988 : INFO : EPOCH 2 - PROGRESS: at 81.99% examples, 777588 words/s, in_qsize 19, out_qsize 0\n",
      "2021-03-14 14:03:09,002 : INFO : EPOCH 2 - PROGRESS: at 84.35% examples, 775540 words/s, in_qsize 19, out_qsize 0\n",
      "2021-03-14 14:03:10,002 : INFO : EPOCH 2 - PROGRESS: at 86.69% examples, 773247 words/s, in_qsize 19, out_qsize 0\n",
      "2021-03-14 14:03:11,011 : INFO : EPOCH 2 - PROGRESS: at 89.16% examples, 770594 words/s, in_qsize 20, out_qsize 1\n"
     ]
    },
    {
     "name": "stderr",
     "output_type": "stream",
     "text": [
      "2021-03-14 14:03:12,016 : INFO : EPOCH 2 - PROGRESS: at 91.82% examples, 770359 words/s, in_qsize 19, out_qsize 0\n",
      "2021-03-14 14:03:13,020 : INFO : EPOCH 2 - PROGRESS: at 94.41% examples, 769925 words/s, in_qsize 19, out_qsize 0\n",
      "2021-03-14 14:03:14,027 : INFO : EPOCH 2 - PROGRESS: at 97.13% examples, 770400 words/s, in_qsize 19, out_qsize 0\n",
      "2021-03-14 14:03:14,971 : INFO : worker thread finished; awaiting finish of 9 more threads\n",
      "2021-03-14 14:03:14,982 : INFO : worker thread finished; awaiting finish of 8 more threads\n",
      "2021-03-14 14:03:14,989 : INFO : worker thread finished; awaiting finish of 7 more threads\n",
      "2021-03-14 14:03:15,007 : INFO : worker thread finished; awaiting finish of 6 more threads\n",
      "2021-03-14 14:03:15,009 : INFO : worker thread finished; awaiting finish of 5 more threads\n",
      "2021-03-14 14:03:15,017 : INFO : worker thread finished; awaiting finish of 4 more threads\n",
      "2021-03-14 14:03:15,023 : INFO : worker thread finished; awaiting finish of 3 more threads\n",
      "2021-03-14 14:03:15,036 : INFO : EPOCH 2 - PROGRESS: at 99.95% examples, 771260 words/s, in_qsize 2, out_qsize 1\n",
      "2021-03-14 14:03:15,037 : INFO : worker thread finished; awaiting finish of 2 more threads\n",
      "2021-03-14 14:03:15,040 : INFO : worker thread finished; awaiting finish of 1 more threads\n",
      "2021-03-14 14:03:15,045 : INFO : worker thread finished; awaiting finish of 0 more threads\n",
      "2021-03-14 14:03:15,046 : INFO : EPOCH - 2 : training on 41519355 raw words (30351099 effective words) took 39.3s, 771449 effective words/s\n",
      "2021-03-14 14:03:16,066 : INFO : EPOCH 3 - PROGRESS: at 2.46% examples, 767993 words/s, in_qsize 18, out_qsize 1\n",
      "2021-03-14 14:03:17,071 : INFO : EPOCH 3 - PROGRESS: at 5.05% examples, 771458 words/s, in_qsize 19, out_qsize 0\n",
      "2021-03-14 14:03:18,087 : INFO : EPOCH 3 - PROGRESS: at 7.58% examples, 771328 words/s, in_qsize 19, out_qsize 0\n",
      "2021-03-14 14:03:19,088 : INFO : EPOCH 3 - PROGRESS: at 9.97% examples, 786493 words/s, in_qsize 19, out_qsize 0\n",
      "2021-03-14 14:03:20,094 : INFO : EPOCH 3 - PROGRESS: at 12.13% examples, 790648 words/s, in_qsize 19, out_qsize 0\n",
      "2021-03-14 14:03:21,108 : INFO : EPOCH 3 - PROGRESS: at 14.48% examples, 790269 words/s, in_qsize 19, out_qsize 0\n",
      "2021-03-14 14:03:22,111 : INFO : EPOCH 3 - PROGRESS: at 16.75% examples, 791339 words/s, in_qsize 19, out_qsize 0\n",
      "2021-03-14 14:03:23,115 : INFO : EPOCH 3 - PROGRESS: at 18.78% examples, 784841 words/s, in_qsize 17, out_qsize 2\n",
      "2021-03-14 14:03:24,120 : INFO : EPOCH 3 - PROGRESS: at 20.75% examples, 783950 words/s, in_qsize 16, out_qsize 3\n",
      "2021-03-14 14:03:25,146 : INFO : EPOCH 3 - PROGRESS: at 23.22% examples, 786667 words/s, in_qsize 19, out_qsize 2\n",
      "2021-03-14 14:03:26,166 : INFO : EPOCH 3 - PROGRESS: at 25.64% examples, 788249 words/s, in_qsize 19, out_qsize 0\n",
      "2021-03-14 14:03:27,193 : INFO : EPOCH 3 - PROGRESS: at 28.63% examples, 789281 words/s, in_qsize 20, out_qsize 6\n",
      "2021-03-14 14:03:28,195 : INFO : EPOCH 3 - PROGRESS: at 31.76% examples, 792958 words/s, in_qsize 19, out_qsize 0\n",
      "2021-03-14 14:03:29,199 : INFO : EPOCH 3 - PROGRESS: at 33.80% examples, 780033 words/s, in_qsize 19, out_qsize 0\n",
      "2021-03-14 14:03:30,213 : INFO : EPOCH 3 - PROGRESS: at 36.33% examples, 775068 words/s, in_qsize 19, out_qsize 0\n",
      "2021-03-14 14:03:31,225 : INFO : EPOCH 3 - PROGRESS: at 38.64% examples, 767079 words/s, in_qsize 19, out_qsize 0\n",
      "2021-03-14 14:03:32,234 : INFO : EPOCH 3 - PROGRESS: at 41.31% examples, 764870 words/s, in_qsize 19, out_qsize 0\n",
      "2021-03-14 14:03:33,239 : INFO : EPOCH 3 - PROGRESS: at 44.15% examples, 765803 words/s, in_qsize 19, out_qsize 0\n",
      "2021-03-14 14:03:34,250 : INFO : EPOCH 3 - PROGRESS: at 47.04% examples, 768172 words/s, in_qsize 19, out_qsize 0\n",
      "2021-03-14 14:03:35,281 : INFO : EPOCH 3 - PROGRESS: at 49.04% examples, 756873 words/s, in_qsize 18, out_qsize 1\n",
      "2021-03-14 14:03:36,346 : INFO : EPOCH 3 - PROGRESS: at 51.10% examples, 747396 words/s, in_qsize 20, out_qsize 0\n",
      "2021-03-14 14:03:37,373 : INFO : EPOCH 3 - PROGRESS: at 52.83% examples, 736803 words/s, in_qsize 18, out_qsize 1\n",
      "2021-03-14 14:03:38,387 : INFO : EPOCH 3 - PROGRESS: at 55.50% examples, 737876 words/s, in_qsize 19, out_qsize 0\n",
      "2021-03-14 14:03:39,402 : INFO : EPOCH 3 - PROGRESS: at 57.95% examples, 736668 words/s, in_qsize 19, out_qsize 1\n",
      "2021-03-14 14:03:40,406 : INFO : EPOCH 3 - PROGRESS: at 60.75% examples, 739073 words/s, in_qsize 19, out_qsize 0\n",
      "2021-03-14 14:03:41,410 : INFO : EPOCH 3 - PROGRESS: at 63.51% examples, 740565 words/s, in_qsize 19, out_qsize 0\n",
      "2021-03-14 14:03:42,421 : INFO : EPOCH 3 - PROGRESS: at 66.21% examples, 741797 words/s, in_qsize 19, out_qsize 0\n",
      "2021-03-14 14:03:43,427 : INFO : EPOCH 3 - PROGRESS: at 68.85% examples, 742831 words/s, in_qsize 19, out_qsize 0\n",
      "2021-03-14 14:03:44,429 : INFO : EPOCH 3 - PROGRESS: at 71.48% examples, 745230 words/s, in_qsize 18, out_qsize 1\n",
      "2021-03-14 14:03:45,436 : INFO : EPOCH 3 - PROGRESS: at 74.22% examples, 746349 words/s, in_qsize 19, out_qsize 1\n",
      "2021-03-14 14:03:46,439 : INFO : EPOCH 3 - PROGRESS: at 76.65% examples, 747268 words/s, in_qsize 19, out_qsize 0\n",
      "2021-03-14 14:03:47,452 : INFO : EPOCH 3 - PROGRESS: at 79.27% examples, 749014 words/s, in_qsize 19, out_qsize 0\n",
      "2021-03-14 14:03:48,463 : INFO : EPOCH 3 - PROGRESS: at 81.95% examples, 750893 words/s, in_qsize 19, out_qsize 0\n",
      "2021-03-14 14:03:49,516 : INFO : EPOCH 3 - PROGRESS: at 84.45% examples, 750291 words/s, in_qsize 18, out_qsize 1\n",
      "2021-03-14 14:03:50,525 : INFO : EPOCH 3 - PROGRESS: at 86.69% examples, 747612 words/s, in_qsize 18, out_qsize 1\n",
      "2021-03-14 14:03:51,525 : INFO : EPOCH 3 - PROGRESS: at 89.58% examples, 749289 words/s, in_qsize 18, out_qsize 1\n",
      "2021-03-14 14:03:52,531 : INFO : EPOCH 3 - PROGRESS: at 92.40% examples, 750586 words/s, in_qsize 19, out_qsize 0\n",
      "2021-03-14 14:03:53,536 : INFO : EPOCH 3 - PROGRESS: at 95.18% examples, 752346 words/s, in_qsize 17, out_qsize 2\n",
      "2021-03-14 14:03:54,551 : INFO : EPOCH 3 - PROGRESS: at 97.97% examples, 753605 words/s, in_qsize 18, out_qsize 1\n",
      "2021-03-14 14:03:55,209 : INFO : worker thread finished; awaiting finish of 9 more threads\n",
      "2021-03-14 14:03:55,213 : INFO : worker thread finished; awaiting finish of 8 more threads\n",
      "2021-03-14 14:03:55,229 : INFO : worker thread finished; awaiting finish of 7 more threads\n",
      "2021-03-14 14:03:55,234 : INFO : worker thread finished; awaiting finish of 6 more threads\n",
      "2021-03-14 14:03:55,241 : INFO : worker thread finished; awaiting finish of 5 more threads\n",
      "2021-03-14 14:03:55,243 : INFO : worker thread finished; awaiting finish of 4 more threads\n",
      "2021-03-14 14:03:55,247 : INFO : worker thread finished; awaiting finish of 3 more threads\n",
      "2021-03-14 14:03:55,249 : INFO : worker thread finished; awaiting finish of 2 more threads\n",
      "2021-03-14 14:03:55,260 : INFO : worker thread finished; awaiting finish of 1 more threads\n",
      "2021-03-14 14:03:55,265 : INFO : worker thread finished; awaiting finish of 0 more threads\n",
      "2021-03-14 14:03:55,265 : INFO : EPOCH - 3 : training on 41519355 raw words (30350305 effective words) took 40.2s, 754700 effective words/s\n",
      "2021-03-14 14:03:56,273 : INFO : EPOCH 4 - PROGRESS: at 2.43% examples, 770858 words/s, in_qsize 19, out_qsize 0\n",
      "2021-03-14 14:03:57,282 : INFO : EPOCH 4 - PROGRESS: at 4.95% examples, 757910 words/s, in_qsize 19, out_qsize 4\n",
      "2021-03-14 14:03:58,288 : INFO : EPOCH 4 - PROGRESS: at 7.65% examples, 785858 words/s, in_qsize 19, out_qsize 0\n",
      "2021-03-14 14:03:59,289 : INFO : EPOCH 4 - PROGRESS: at 9.96% examples, 788431 words/s, in_qsize 19, out_qsize 0\n",
      "2021-03-14 14:04:00,303 : INFO : EPOCH 4 - PROGRESS: at 12.08% examples, 788238 words/s, in_qsize 19, out_qsize 1\n",
      "2021-03-14 14:04:01,315 : INFO : EPOCH 4 - PROGRESS: at 14.35% examples, 784908 words/s, in_qsize 18, out_qsize 1\n",
      "2021-03-14 14:04:02,336 : INFO : EPOCH 4 - PROGRESS: at 16.76% examples, 790864 words/s, in_qsize 19, out_qsize 0\n",
      "2021-03-14 14:04:03,337 : INFO : EPOCH 4 - PROGRESS: at 18.90% examples, 789902 words/s, in_qsize 18, out_qsize 1\n",
      "2021-03-14 14:04:04,337 : INFO : EPOCH 4 - PROGRESS: at 20.92% examples, 792123 words/s, in_qsize 19, out_qsize 0\n",
      "2021-03-14 14:04:05,366 : INFO : EPOCH 4 - PROGRESS: at 23.34% examples, 792365 words/s, in_qsize 17, out_qsize 3\n",
      "2021-03-14 14:04:06,364 : INFO : EPOCH 4 - PROGRESS: at 25.86% examples, 795028 words/s, in_qsize 19, out_qsize 0\n"
     ]
    },
    {
     "name": "stderr",
     "output_type": "stream",
     "text": [
      "2021-03-14 14:04:07,375 : INFO : EPOCH 4 - PROGRESS: at 28.78% examples, 793760 words/s, in_qsize 19, out_qsize 0\n",
      "2021-03-14 14:04:08,410 : INFO : EPOCH 4 - PROGRESS: at 31.94% examples, 796509 words/s, in_qsize 19, out_qsize 0\n",
      "2021-03-14 14:04:09,426 : INFO : EPOCH 4 - PROGRESS: at 34.71% examples, 797997 words/s, in_qsize 19, out_qsize 0\n",
      "2021-03-14 14:04:10,448 : INFO : EPOCH 4 - PROGRESS: at 37.50% examples, 796987 words/s, in_qsize 18, out_qsize 1\n",
      "2021-03-14 14:04:11,454 : INFO : EPOCH 4 - PROGRESS: at 40.52% examples, 799934 words/s, in_qsize 19, out_qsize 0\n",
      "2021-03-14 14:04:12,459 : INFO : EPOCH 4 - PROGRESS: at 43.45% examples, 799686 words/s, in_qsize 17, out_qsize 2\n",
      "2021-03-14 14:04:13,471 : INFO : EPOCH 4 - PROGRESS: at 46.46% examples, 800815 words/s, in_qsize 19, out_qsize 0\n",
      "2021-03-14 14:04:14,483 : INFO : EPOCH 4 - PROGRESS: at 49.36% examples, 801728 words/s, in_qsize 19, out_qsize 0\n",
      "2021-03-14 14:04:15,496 : INFO : EPOCH 4 - PROGRESS: at 52.17% examples, 802797 words/s, in_qsize 19, out_qsize 0\n",
      "2021-03-14 14:04:16,516 : INFO : EPOCH 4 - PROGRESS: at 54.79% examples, 802333 words/s, in_qsize 18, out_qsize 1\n",
      "2021-03-14 14:04:17,523 : INFO : EPOCH 4 - PROGRESS: at 57.67% examples, 802070 words/s, in_qsize 20, out_qsize 0\n",
      "2021-03-14 14:04:18,534 : INFO : EPOCH 4 - PROGRESS: at 60.33% examples, 800462 words/s, in_qsize 19, out_qsize 0\n",
      "2021-03-14 14:04:19,548 : INFO : EPOCH 4 - PROGRESS: at 63.20% examples, 801016 words/s, in_qsize 19, out_qsize 0\n",
      "2021-03-14 14:04:20,552 : INFO : EPOCH 4 - PROGRESS: at 65.87% examples, 799070 words/s, in_qsize 19, out_qsize 0\n",
      "2021-03-14 14:04:21,555 : INFO : EPOCH 4 - PROGRESS: at 68.28% examples, 795606 words/s, in_qsize 19, out_qsize 0\n",
      "2021-03-14 14:04:22,570 : INFO : EPOCH 4 - PROGRESS: at 70.53% examples, 791585 words/s, in_qsize 19, out_qsize 0\n",
      "2021-03-14 14:04:23,605 : INFO : EPOCH 4 - PROGRESS: at 73.38% examples, 791695 words/s, in_qsize 18, out_qsize 1\n",
      "2021-03-14 14:04:24,611 : INFO : EPOCH 4 - PROGRESS: at 76.03% examples, 792555 words/s, in_qsize 20, out_qsize 1\n",
      "2021-03-14 14:04:25,621 : INFO : EPOCH 4 - PROGRESS: at 78.43% examples, 791277 words/s, in_qsize 19, out_qsize 0\n",
      "2021-03-14 14:04:26,627 : INFO : EPOCH 4 - PROGRESS: at 80.78% examples, 789076 words/s, in_qsize 17, out_qsize 0\n",
      "2021-03-14 14:04:27,657 : INFO : EPOCH 4 - PROGRESS: at 83.27% examples, 786661 words/s, in_qsize 19, out_qsize 0\n",
      "2021-03-14 14:04:28,660 : INFO : EPOCH 4 - PROGRESS: at 85.73% examples, 786252 words/s, in_qsize 18, out_qsize 1\n",
      "2021-03-14 14:04:29,665 : INFO : EPOCH 4 - PROGRESS: at 88.61% examples, 786356 words/s, in_qsize 18, out_qsize 1\n",
      "2021-03-14 14:04:30,679 : INFO : EPOCH 4 - PROGRESS: at 91.58% examples, 787906 words/s, in_qsize 20, out_qsize 0\n",
      "2021-03-14 14:04:31,687 : INFO : EPOCH 4 - PROGRESS: at 94.28% examples, 787887 words/s, in_qsize 19, out_qsize 0\n",
      "2021-03-14 14:04:32,695 : INFO : EPOCH 4 - PROGRESS: at 97.06% examples, 788426 words/s, in_qsize 19, out_qsize 0\n",
      "2021-03-14 14:04:33,689 : INFO : worker thread finished; awaiting finish of 9 more threads\n",
      "2021-03-14 14:04:33,691 : INFO : worker thread finished; awaiting finish of 8 more threads\n",
      "2021-03-14 14:04:33,696 : INFO : EPOCH 4 - PROGRESS: at 99.83% examples, 788516 words/s, in_qsize 7, out_qsize 1\n",
      "2021-03-14 14:04:33,698 : INFO : worker thread finished; awaiting finish of 7 more threads\n",
      "2021-03-14 14:04:33,699 : INFO : worker thread finished; awaiting finish of 6 more threads\n",
      "2021-03-14 14:04:33,707 : INFO : worker thread finished; awaiting finish of 5 more threads\n",
      "2021-03-14 14:04:33,715 : INFO : worker thread finished; awaiting finish of 4 more threads\n",
      "2021-03-14 14:04:33,722 : INFO : worker thread finished; awaiting finish of 3 more threads\n",
      "2021-03-14 14:04:33,725 : INFO : worker thread finished; awaiting finish of 2 more threads\n",
      "2021-03-14 14:04:33,729 : INFO : worker thread finished; awaiting finish of 1 more threads\n",
      "2021-03-14 14:04:33,738 : INFO : worker thread finished; awaiting finish of 0 more threads\n",
      "2021-03-14 14:04:33,739 : INFO : EPOCH - 4 : training on 41519355 raw words (30346247 effective words) took 38.5s, 788867 effective words/s\n",
      "2021-03-14 14:04:34,764 : INFO : EPOCH 5 - PROGRESS: at 2.42% examples, 752277 words/s, in_qsize 17, out_qsize 2\n",
      "2021-03-14 14:04:35,775 : INFO : EPOCH 5 - PROGRESS: at 5.22% examples, 793563 words/s, in_qsize 19, out_qsize 0\n",
      "2021-03-14 14:04:36,788 : INFO : EPOCH 5 - PROGRESS: at 7.77% examples, 791405 words/s, in_qsize 17, out_qsize 2\n",
      "2021-03-14 14:04:37,792 : INFO : EPOCH 5 - PROGRESS: at 10.00% examples, 786624 words/s, in_qsize 20, out_qsize 2\n",
      "2021-03-14 14:04:38,795 : INFO : EPOCH 5 - PROGRESS: at 11.99% examples, 778563 words/s, in_qsize 16, out_qsize 3\n",
      "2021-03-14 14:04:39,798 : INFO : EPOCH 5 - PROGRESS: at 14.31% examples, 782703 words/s, in_qsize 19, out_qsize 0\n",
      "2021-03-14 14:04:40,819 : INFO : EPOCH 5 - PROGRESS: at 16.58% examples, 780946 words/s, in_qsize 17, out_qsize 2\n",
      "2021-03-14 14:04:41,837 : INFO : EPOCH 5 - PROGRESS: at 18.66% examples, 776950 words/s, in_qsize 20, out_qsize 1\n",
      "2021-03-14 14:04:42,843 : INFO : EPOCH 5 - PROGRESS: at 20.25% examples, 760187 words/s, in_qsize 19, out_qsize 0\n",
      "2021-03-14 14:04:43,859 : INFO : EPOCH 5 - PROGRESS: at 22.43% examples, 754719 words/s, in_qsize 19, out_qsize 0\n",
      "2021-03-14 14:04:44,867 : INFO : EPOCH 5 - PROGRESS: at 24.26% examples, 750975 words/s, in_qsize 19, out_qsize 0\n",
      "2021-03-14 14:04:45,877 : INFO : EPOCH 5 - PROGRESS: at 27.07% examples, 753964 words/s, in_qsize 19, out_qsize 0\n",
      "2021-03-14 14:04:46,881 : INFO : EPOCH 5 - PROGRESS: at 29.85% examples, 754491 words/s, in_qsize 20, out_qsize 1\n",
      "2021-03-14 14:04:47,886 : INFO : EPOCH 5 - PROGRESS: at 32.28% examples, 747856 words/s, in_qsize 19, out_qsize 0\n",
      "2021-03-14 14:04:48,906 : INFO : EPOCH 5 - PROGRESS: at 34.84% examples, 748048 words/s, in_qsize 18, out_qsize 1\n",
      "2021-03-14 14:04:49,907 : INFO : EPOCH 5 - PROGRESS: at 37.66% examples, 751205 words/s, in_qsize 20, out_qsize 0\n",
      "2021-03-14 14:04:50,917 : INFO : EPOCH 5 - PROGRESS: at 40.43% examples, 752341 words/s, in_qsize 20, out_qsize 2\n",
      "2021-03-14 14:04:51,925 : INFO : EPOCH 5 - PROGRESS: at 42.83% examples, 747045 words/s, in_qsize 20, out_qsize 1\n",
      "2021-03-14 14:04:52,926 : INFO : EPOCH 5 - PROGRESS: at 45.62% examples, 746852 words/s, in_qsize 18, out_qsize 1\n",
      "2021-03-14 14:04:53,940 : INFO : EPOCH 5 - PROGRESS: at 48.31% examples, 748566 words/s, in_qsize 19, out_qsize 0\n",
      "2021-03-14 14:04:54,943 : INFO : EPOCH 5 - PROGRESS: at 50.94% examples, 748499 words/s, in_qsize 19, out_qsize 0\n",
      "2021-03-14 14:04:55,974 : INFO : EPOCH 5 - PROGRESS: at 53.01% examples, 742830 words/s, in_qsize 16, out_qsize 3\n",
      "2021-03-14 14:04:56,991 : INFO : EPOCH 5 - PROGRESS: at 55.44% examples, 740192 words/s, in_qsize 20, out_qsize 5\n",
      "2021-03-14 14:04:58,003 : INFO : EPOCH 5 - PROGRESS: at 57.99% examples, 739971 words/s, in_qsize 20, out_qsize 0\n",
      "2021-03-14 14:04:59,014 : INFO : EPOCH 5 - PROGRESS: at 60.50% examples, 739068 words/s, in_qsize 19, out_qsize 0\n",
      "2021-03-14 14:05:00,037 : INFO : EPOCH 5 - PROGRESS: at 63.16% examples, 739462 words/s, in_qsize 19, out_qsize 0\n",
      "2021-03-14 14:05:01,045 : INFO : EPOCH 5 - PROGRESS: at 66.10% examples, 742717 words/s, in_qsize 18, out_qsize 1\n",
      "2021-03-14 14:05:02,057 : INFO : EPOCH 5 - PROGRESS: at 68.91% examples, 745057 words/s, in_qsize 19, out_qsize 0\n",
      "2021-03-14 14:05:03,075 : INFO : EPOCH 5 - PROGRESS: at 71.53% examples, 747204 words/s, in_qsize 19, out_qsize 0\n",
      "2021-03-14 14:05:04,075 : INFO : EPOCH 5 - PROGRESS: at 74.19% examples, 747507 words/s, in_qsize 19, out_qsize 0\n",
      "2021-03-14 14:05:05,104 : INFO : EPOCH 5 - PROGRESS: at 76.58% examples, 747344 words/s, in_qsize 17, out_qsize 2\n",
      "2021-03-14 14:05:06,111 : INFO : EPOCH 5 - PROGRESS: at 79.14% examples, 748769 words/s, in_qsize 17, out_qsize 2\n",
      "2021-03-14 14:05:07,128 : INFO : EPOCH 5 - PROGRESS: at 81.83% examples, 750564 words/s, in_qsize 20, out_qsize 0\n",
      "2021-03-14 14:05:08,156 : INFO : EPOCH 5 - PROGRESS: at 84.53% examples, 752382 words/s, in_qsize 17, out_qsize 2\n",
      "2021-03-14 14:05:09,164 : INFO : EPOCH 5 - PROGRESS: at 87.35% examples, 754140 words/s, in_qsize 18, out_qsize 1\n",
      "2021-03-14 14:05:10,165 : INFO : EPOCH 5 - PROGRESS: at 90.28% examples, 755853 words/s, in_qsize 19, out_qsize 0\n"
     ]
    },
    {
     "name": "stderr",
     "output_type": "stream",
     "text": [
      "2021-03-14 14:05:11,205 : INFO : EPOCH 5 - PROGRESS: at 92.99% examples, 756055 words/s, in_qsize 18, out_qsize 1\n",
      "2021-03-14 14:05:12,217 : INFO : EPOCH 5 - PROGRESS: at 95.91% examples, 758321 words/s, in_qsize 17, out_qsize 2\n",
      "2021-03-14 14:05:13,246 : INFO : EPOCH 5 - PROGRESS: at 98.81% examples, 759687 words/s, in_qsize 17, out_qsize 2\n",
      "2021-03-14 14:05:13,574 : INFO : worker thread finished; awaiting finish of 9 more threads\n",
      "2021-03-14 14:05:13,592 : INFO : worker thread finished; awaiting finish of 8 more threads\n",
      "2021-03-14 14:05:13,615 : INFO : worker thread finished; awaiting finish of 7 more threads\n",
      "2021-03-14 14:05:13,620 : INFO : worker thread finished; awaiting finish of 6 more threads\n",
      "2021-03-14 14:05:13,621 : INFO : worker thread finished; awaiting finish of 5 more threads\n",
      "2021-03-14 14:05:13,627 : INFO : worker thread finished; awaiting finish of 4 more threads\n",
      "2021-03-14 14:05:13,632 : INFO : worker thread finished; awaiting finish of 3 more threads\n",
      "2021-03-14 14:05:13,633 : INFO : worker thread finished; awaiting finish of 2 more threads\n",
      "2021-03-14 14:05:13,634 : INFO : worker thread finished; awaiting finish of 1 more threads\n",
      "2021-03-14 14:05:13,645 : INFO : worker thread finished; awaiting finish of 0 more threads\n",
      "2021-03-14 14:05:13,646 : INFO : EPOCH - 5 : training on 41519355 raw words (30350639 effective words) took 39.9s, 760671 effective words/s\n",
      "2021-03-14 14:05:14,689 : INFO : EPOCH 6 - PROGRESS: at 2.35% examples, 715709 words/s, in_qsize 20, out_qsize 1\n",
      "2021-03-14 14:05:15,700 : INFO : EPOCH 6 - PROGRESS: at 5.14% examples, 775054 words/s, in_qsize 19, out_qsize 0\n",
      "2021-03-14 14:05:16,713 : INFO : EPOCH 6 - PROGRESS: at 7.73% examples, 781425 words/s, in_qsize 17, out_qsize 2\n",
      "2021-03-14 14:05:17,726 : INFO : EPOCH 6 - PROGRESS: at 10.02% examples, 782998 words/s, in_qsize 18, out_qsize 1\n",
      "2021-03-14 14:05:18,734 : INFO : EPOCH 6 - PROGRESS: at 12.20% examples, 790516 words/s, in_qsize 19, out_qsize 0\n",
      "2021-03-14 14:05:19,738 : INFO : EPOCH 6 - PROGRESS: at 14.59% examples, 792694 words/s, in_qsize 19, out_qsize 0\n",
      "2021-03-14 14:05:20,744 : INFO : EPOCH 6 - PROGRESS: at 16.74% examples, 786961 words/s, in_qsize 19, out_qsize 0\n",
      "2021-03-14 14:05:21,745 : INFO : EPOCH 6 - PROGRESS: at 19.05% examples, 795262 words/s, in_qsize 19, out_qsize 0\n",
      "2021-03-14 14:05:22,746 : INFO : EPOCH 6 - PROGRESS: at 21.06% examples, 796097 words/s, in_qsize 19, out_qsize 0\n",
      "2021-03-14 14:05:23,769 : INFO : EPOCH 6 - PROGRESS: at 23.51% examples, 796400 words/s, in_qsize 19, out_qsize 0\n",
      "2021-03-14 14:05:24,799 : INFO : EPOCH 6 - PROGRESS: at 25.96% examples, 793899 words/s, in_qsize 17, out_qsize 2\n",
      "2021-03-14 14:05:25,807 : INFO : EPOCH 6 - PROGRESS: at 29.04% examples, 796385 words/s, in_qsize 17, out_qsize 2\n",
      "2021-03-14 14:05:26,817 : INFO : EPOCH 6 - PROGRESS: at 32.01% examples, 797778 words/s, in_qsize 19, out_qsize 1\n",
      "2021-03-14 14:05:27,822 : INFO : EPOCH 6 - PROGRESS: at 34.71% examples, 797264 words/s, in_qsize 19, out_qsize 0\n",
      "2021-03-14 14:05:28,847 : INFO : EPOCH 6 - PROGRESS: at 37.40% examples, 794154 words/s, in_qsize 18, out_qsize 1\n",
      "2021-03-14 14:05:29,870 : INFO : EPOCH 6 - PROGRESS: at 39.92% examples, 788250 words/s, in_qsize 19, out_qsize 5\n",
      "2021-03-14 14:05:30,858 : INFO : EPOCH 6 - PROGRESS: at 42.67% examples, 786363 words/s, in_qsize 19, out_qsize 0\n",
      "2021-03-14 14:05:31,862 : INFO : EPOCH 6 - PROGRESS: at 45.53% examples, 785010 words/s, in_qsize 18, out_qsize 1\n",
      "2021-03-14 14:05:32,864 : INFO : EPOCH 6 - PROGRESS: at 48.31% examples, 786766 words/s, in_qsize 19, out_qsize 0\n",
      "2021-03-14 14:05:33,904 : INFO : EPOCH 6 - PROGRESS: at 50.97% examples, 783716 words/s, in_qsize 18, out_qsize 1\n",
      "2021-03-14 14:05:34,904 : INFO : EPOCH 6 - PROGRESS: at 53.64% examples, 785693 words/s, in_qsize 18, out_qsize 0\n",
      "2021-03-14 14:05:35,905 : INFO : EPOCH 6 - PROGRESS: at 56.30% examples, 784166 words/s, in_qsize 19, out_qsize 0\n",
      "2021-03-14 14:05:36,918 : INFO : EPOCH 6 - PROGRESS: at 59.05% examples, 784164 words/s, in_qsize 19, out_qsize 0\n",
      "2021-03-14 14:05:37,922 : INFO : EPOCH 6 - PROGRESS: at 61.69% examples, 783714 words/s, in_qsize 19, out_qsize 0\n",
      "2021-03-14 14:05:38,927 : INFO : EPOCH 6 - PROGRESS: at 64.60% examples, 783406 words/s, in_qsize 19, out_qsize 1\n",
      "2021-03-14 14:05:39,940 : INFO : EPOCH 6 - PROGRESS: at 67.23% examples, 783731 words/s, in_qsize 19, out_qsize 0\n",
      "2021-03-14 14:05:40,942 : INFO : EPOCH 6 - PROGRESS: at 69.88% examples, 784224 words/s, in_qsize 19, out_qsize 0\n",
      "2021-03-14 14:05:41,944 : INFO : EPOCH 6 - PROGRESS: at 72.41% examples, 783748 words/s, in_qsize 19, out_qsize 0\n",
      "2021-03-14 14:05:42,961 : INFO : EPOCH 6 - PROGRESS: at 75.19% examples, 784265 words/s, in_qsize 19, out_qsize 0\n",
      "2021-03-14 14:05:43,963 : INFO : EPOCH 6 - PROGRESS: at 77.72% examples, 785199 words/s, in_qsize 19, out_qsize 0\n",
      "2021-03-14 14:05:44,975 : INFO : EPOCH 6 - PROGRESS: at 80.30% examples, 785145 words/s, in_qsize 18, out_qsize 1\n",
      "2021-03-14 14:05:45,975 : INFO : EPOCH 6 - PROGRESS: at 83.04% examples, 786217 words/s, in_qsize 18, out_qsize 1\n",
      "2021-03-14 14:05:46,987 : INFO : EPOCH 6 - PROGRESS: at 85.58% examples, 786493 words/s, in_qsize 19, out_qsize 0\n",
      "2021-03-14 14:05:48,010 : INFO : EPOCH 6 - PROGRESS: at 88.45% examples, 786173 words/s, in_qsize 17, out_qsize 2\n",
      "2021-03-14 14:05:49,023 : INFO : EPOCH 6 - PROGRESS: at 91.30% examples, 786545 words/s, in_qsize 19, out_qsize 0\n",
      "2021-03-14 14:05:50,064 : INFO : EPOCH 6 - PROGRESS: at 93.89% examples, 785038 words/s, in_qsize 18, out_qsize 2\n",
      "2021-03-14 14:05:51,078 : INFO : EPOCH 6 - PROGRESS: at 96.49% examples, 783871 words/s, in_qsize 18, out_qsize 1\n",
      "2021-03-14 14:05:52,083 : INFO : EPOCH 6 - PROGRESS: at 99.26% examples, 784173 words/s, in_qsize 19, out_qsize 0\n",
      "2021-03-14 14:05:52,282 : INFO : worker thread finished; awaiting finish of 9 more threads\n",
      "2021-03-14 14:05:52,296 : INFO : worker thread finished; awaiting finish of 8 more threads\n",
      "2021-03-14 14:05:52,300 : INFO : worker thread finished; awaiting finish of 7 more threads\n",
      "2021-03-14 14:05:52,304 : INFO : worker thread finished; awaiting finish of 6 more threads\n",
      "2021-03-14 14:05:52,307 : INFO : worker thread finished; awaiting finish of 5 more threads\n",
      "2021-03-14 14:05:52,315 : INFO : worker thread finished; awaiting finish of 4 more threads\n",
      "2021-03-14 14:05:52,320 : INFO : worker thread finished; awaiting finish of 3 more threads\n",
      "2021-03-14 14:05:52,324 : INFO : worker thread finished; awaiting finish of 2 more threads\n",
      "2021-03-14 14:05:52,328 : INFO : worker thread finished; awaiting finish of 1 more threads\n",
      "2021-03-14 14:05:52,332 : INFO : worker thread finished; awaiting finish of 0 more threads\n",
      "2021-03-14 14:05:52,333 : INFO : EPOCH - 6 : training on 41519355 raw words (30349980 effective words) took 38.7s, 784602 effective words/s\n",
      "2021-03-14 14:05:53,361 : INFO : EPOCH 7 - PROGRESS: at 2.19% examples, 677690 words/s, in_qsize 20, out_qsize 1\n",
      "2021-03-14 14:05:54,376 : INFO : EPOCH 7 - PROGRESS: at 4.94% examples, 747839 words/s, in_qsize 18, out_qsize 1\n",
      "2021-03-14 14:05:55,378 : INFO : EPOCH 7 - PROGRESS: at 7.50% examples, 761225 words/s, in_qsize 19, out_qsize 0\n",
      "2021-03-14 14:05:56,410 : INFO : EPOCH 7 - PROGRESS: at 9.62% examples, 742913 words/s, in_qsize 18, out_qsize 1\n",
      "2021-03-14 14:05:57,430 : INFO : EPOCH 7 - PROGRESS: at 11.57% examples, 739676 words/s, in_qsize 20, out_qsize 0\n",
      "2021-03-14 14:05:58,447 : INFO : EPOCH 7 - PROGRESS: at 13.74% examples, 742326 words/s, in_qsize 18, out_qsize 2\n",
      "2021-03-14 14:05:59,453 : INFO : EPOCH 7 - PROGRESS: at 16.07% examples, 750170 words/s, in_qsize 19, out_qsize 0\n",
      "2021-03-14 14:06:00,464 : INFO : EPOCH 7 - PROGRESS: at 18.23% examples, 754218 words/s, in_qsize 19, out_qsize 0\n",
      "2021-03-14 14:06:01,466 : INFO : EPOCH 7 - PROGRESS: at 20.22% examples, 755984 words/s, in_qsize 18, out_qsize 1\n",
      "2021-03-14 14:06:02,468 : INFO : EPOCH 7 - PROGRESS: at 22.61% examples, 760555 words/s, in_qsize 18, out_qsize 1\n",
      "2021-03-14 14:06:03,534 : INFO : EPOCH 7 - PROGRESS: at 24.72% examples, 760728 words/s, in_qsize 19, out_qsize 2\n",
      "2021-03-14 14:06:04,535 : INFO : EPOCH 7 - PROGRESS: at 27.93% examples, 768126 words/s, in_qsize 19, out_qsize 0\n",
      "2021-03-14 14:06:05,552 : INFO : EPOCH 7 - PROGRESS: at 30.70% examples, 768559 words/s, in_qsize 19, out_qsize 0\n"
     ]
    },
    {
     "name": "stderr",
     "output_type": "stream",
     "text": [
      "2021-03-14 14:06:06,557 : INFO : EPOCH 7 - PROGRESS: at 33.66% examples, 772540 words/s, in_qsize 19, out_qsize 0\n",
      "2021-03-14 14:06:07,590 : INFO : EPOCH 7 - PROGRESS: at 36.51% examples, 773736 words/s, in_qsize 19, out_qsize 0\n",
      "2021-03-14 14:06:08,596 : INFO : EPOCH 7 - PROGRESS: at 39.40% examples, 775930 words/s, in_qsize 19, out_qsize 0\n",
      "2021-03-14 14:06:09,602 : INFO : EPOCH 7 - PROGRESS: at 42.24% examples, 775751 words/s, in_qsize 20, out_qsize 7\n",
      "2021-03-14 14:06:10,606 : INFO : EPOCH 7 - PROGRESS: at 45.27% examples, 778928 words/s, in_qsize 19, out_qsize 0\n",
      "2021-03-14 14:06:11,623 : INFO : EPOCH 7 - PROGRESS: at 47.99% examples, 779279 words/s, in_qsize 19, out_qsize 0\n",
      "2021-03-14 14:06:12,633 : INFO : EPOCH 7 - PROGRESS: at 50.90% examples, 781009 words/s, in_qsize 19, out_qsize 0\n",
      "2021-03-14 14:06:13,639 : INFO : EPOCH 7 - PROGRESS: at 53.53% examples, 782561 words/s, in_qsize 18, out_qsize 1\n",
      "2021-03-14 14:06:14,641 : INFO : EPOCH 7 - PROGRESS: at 56.38% examples, 783687 words/s, in_qsize 19, out_qsize 0\n",
      "2021-03-14 14:06:15,647 : INFO : EPOCH 7 - PROGRESS: at 59.03% examples, 782739 words/s, in_qsize 17, out_qsize 2\n",
      "2021-03-14 14:06:16,661 : INFO : EPOCH 7 - PROGRESS: at 61.73% examples, 782596 words/s, in_qsize 19, out_qsize 0\n",
      "2021-03-14 14:06:17,661 : INFO : EPOCH 7 - PROGRESS: at 64.76% examples, 783619 words/s, in_qsize 19, out_qsize 0\n",
      "2021-03-14 14:06:18,684 : INFO : EPOCH 7 - PROGRESS: at 67.27% examples, 782549 words/s, in_qsize 19, out_qsize 0\n",
      "2021-03-14 14:06:19,686 : INFO : EPOCH 7 - PROGRESS: at 70.00% examples, 784395 words/s, in_qsize 20, out_qsize 2\n",
      "2021-03-14 14:06:20,686 : INFO : EPOCH 7 - PROGRESS: at 72.72% examples, 785244 words/s, in_qsize 18, out_qsize 1\n",
      "2021-03-14 14:06:21,687 : INFO : EPOCH 7 - PROGRESS: at 75.38% examples, 784967 words/s, in_qsize 19, out_qsize 0\n",
      "2021-03-14 14:06:22,692 : INFO : EPOCH 7 - PROGRESS: at 77.87% examples, 785531 words/s, in_qsize 19, out_qsize 0\n",
      "2021-03-14 14:06:23,696 : INFO : EPOCH 7 - PROGRESS: at 80.43% examples, 785434 words/s, in_qsize 19, out_qsize 0\n",
      "2021-03-14 14:06:24,702 : INFO : EPOCH 7 - PROGRESS: at 83.09% examples, 785832 words/s, in_qsize 20, out_qsize 3\n",
      "2021-03-14 14:06:25,746 : INFO : EPOCH 7 - PROGRESS: at 85.59% examples, 785209 words/s, in_qsize 20, out_qsize 6\n",
      "2021-03-14 14:06:26,735 : INFO : EPOCH 7 - PROGRESS: at 88.60% examples, 786379 words/s, in_qsize 19, out_qsize 0\n",
      "2021-03-14 14:06:27,774 : INFO : EPOCH 7 - PROGRESS: at 91.32% examples, 785331 words/s, in_qsize 16, out_qsize 3\n",
      "2021-03-14 14:06:28,780 : INFO : EPOCH 7 - PROGRESS: at 94.21% examples, 786826 words/s, in_qsize 19, out_qsize 0\n",
      "2021-03-14 14:06:29,790 : INFO : EPOCH 7 - PROGRESS: at 96.86% examples, 786427 words/s, in_qsize 19, out_qsize 0\n",
      "2021-03-14 14:06:30,798 : INFO : EPOCH 7 - PROGRESS: at 99.60% examples, 786238 words/s, in_qsize 16, out_qsize 0\n",
      "2021-03-14 14:06:30,842 : INFO : worker thread finished; awaiting finish of 9 more threads\n",
      "2021-03-14 14:06:30,848 : INFO : worker thread finished; awaiting finish of 8 more threads\n",
      "2021-03-14 14:06:30,856 : INFO : worker thread finished; awaiting finish of 7 more threads\n",
      "2021-03-14 14:06:30,863 : INFO : worker thread finished; awaiting finish of 6 more threads\n",
      "2021-03-14 14:06:30,876 : INFO : worker thread finished; awaiting finish of 5 more threads\n",
      "2021-03-14 14:06:30,882 : INFO : worker thread finished; awaiting finish of 4 more threads\n",
      "2021-03-14 14:06:30,883 : INFO : worker thread finished; awaiting finish of 3 more threads\n",
      "2021-03-14 14:06:30,905 : INFO : worker thread finished; awaiting finish of 2 more threads\n",
      "2021-03-14 14:06:30,908 : INFO : worker thread finished; awaiting finish of 1 more threads\n",
      "2021-03-14 14:06:30,915 : INFO : worker thread finished; awaiting finish of 0 more threads\n",
      "2021-03-14 14:06:30,916 : INFO : EPOCH - 7 : training on 41519355 raw words (30350843 effective words) took 38.6s, 786740 effective words/s\n",
      "2021-03-14 14:06:31,925 : INFO : EPOCH 8 - PROGRESS: at 2.37% examples, 747554 words/s, in_qsize 17, out_qsize 2\n",
      "2021-03-14 14:06:32,940 : INFO : EPOCH 8 - PROGRESS: at 5.12% examples, 783287 words/s, in_qsize 19, out_qsize 0\n",
      "2021-03-14 14:06:33,955 : INFO : EPOCH 8 - PROGRESS: at 7.73% examples, 788747 words/s, in_qsize 19, out_qsize 0\n",
      "2021-03-14 14:06:34,971 : INFO : EPOCH 8 - PROGRESS: at 9.99% examples, 786005 words/s, in_qsize 18, out_qsize 1\n",
      "2021-03-14 14:06:35,971 : INFO : EPOCH 8 - PROGRESS: at 12.21% examples, 796789 words/s, in_qsize 19, out_qsize 0\n",
      "2021-03-14 14:06:36,985 : INFO : EPOCH 8 - PROGRESS: at 14.61% examples, 796614 words/s, in_qsize 17, out_qsize 2\n",
      "2021-03-14 14:06:38,013 : INFO : EPOCH 8 - PROGRESS: at 16.90% examples, 794038 words/s, in_qsize 20, out_qsize 2\n",
      "2021-03-14 14:06:39,017 : INFO : EPOCH 8 - PROGRESS: at 19.10% examples, 797720 words/s, in_qsize 19, out_qsize 1\n",
      "2021-03-14 14:06:40,028 : INFO : EPOCH 8 - PROGRESS: at 21.52% examples, 800127 words/s, in_qsize 18, out_qsize 1\n",
      "2021-03-14 14:06:41,036 : INFO : EPOCH 8 - PROGRESS: at 23.63% examples, 801524 words/s, in_qsize 19, out_qsize 0\n",
      "2021-03-14 14:06:42,052 : INFO : EPOCH 8 - PROGRESS: at 26.15% examples, 800237 words/s, in_qsize 18, out_qsize 1\n",
      "2021-03-14 14:06:43,072 : INFO : EPOCH 8 - PROGRESS: at 29.21% examples, 800730 words/s, in_qsize 19, out_qsize 0\n",
      "2021-03-14 14:06:44,085 : INFO : EPOCH 8 - PROGRESS: at 32.16% examples, 801010 words/s, in_qsize 19, out_qsize 0\n",
      "2021-03-14 14:06:45,092 : INFO : EPOCH 8 - PROGRESS: at 34.85% examples, 800198 words/s, in_qsize 17, out_qsize 2\n",
      "2021-03-14 14:06:46,115 : INFO : EPOCH 8 - PROGRESS: at 37.62% examples, 798522 words/s, in_qsize 18, out_qsize 1\n",
      "2021-03-14 14:06:47,140 : INFO : EPOCH 8 - PROGRESS: at 40.52% examples, 798207 words/s, in_qsize 18, out_qsize 1\n",
      "2021-03-14 14:06:48,146 : INFO : EPOCH 8 - PROGRESS: at 43.44% examples, 797653 words/s, in_qsize 18, out_qsize 1\n",
      "2021-03-14 14:06:49,146 : INFO : EPOCH 8 - PROGRESS: at 46.10% examples, 793486 words/s, in_qsize 19, out_qsize 0\n",
      "2021-03-14 14:06:50,149 : INFO : EPOCH 8 - PROGRESS: at 48.65% examples, 791038 words/s, in_qsize 19, out_qsize 0\n",
      "2021-03-14 14:06:51,150 : INFO : EPOCH 8 - PROGRESS: at 51.23% examples, 788540 words/s, in_qsize 20, out_qsize 0\n",
      "2021-03-14 14:06:52,156 : INFO : EPOCH 8 - PROGRESS: at 53.64% examples, 786689 words/s, in_qsize 19, out_qsize 0\n",
      "2021-03-14 14:06:53,183 : INFO : EPOCH 8 - PROGRESS: at 55.68% examples, 775750 words/s, in_qsize 20, out_qsize 0\n",
      "2021-03-14 14:06:54,276 : INFO : EPOCH 8 - PROGRESS: at 57.38% examples, 760527 words/s, in_qsize 19, out_qsize 0\n",
      "2021-03-14 14:06:55,289 : INFO : EPOCH 8 - PROGRESS: at 58.73% examples, 745161 words/s, in_qsize 18, out_qsize 1\n",
      "2021-03-14 14:06:56,326 : INFO : EPOCH 8 - PROGRESS: at 61.57% examples, 747280 words/s, in_qsize 19, out_qsize 1\n",
      "2021-03-14 14:06:57,326 : INFO : EPOCH 8 - PROGRESS: at 64.55% examples, 749320 words/s, in_qsize 17, out_qsize 2\n",
      "2021-03-14 14:06:58,333 : INFO : EPOCH 8 - PROGRESS: at 66.99% examples, 749241 words/s, in_qsize 18, out_qsize 1\n",
      "2021-03-14 14:06:59,392 : INFO : EPOCH 8 - PROGRESS: at 69.66% examples, 749441 words/s, in_qsize 19, out_qsize 0\n",
      "2021-03-14 14:07:00,407 : INFO : EPOCH 8 - PROGRESS: at 71.63% examples, 744189 words/s, in_qsize 19, out_qsize 0\n",
      "2021-03-14 14:07:01,408 : INFO : EPOCH 8 - PROGRESS: at 74.42% examples, 745984 words/s, in_qsize 19, out_qsize 0\n",
      "2021-03-14 14:07:02,419 : INFO : EPOCH 8 - PROGRESS: at 76.42% examples, 742598 words/s, in_qsize 20, out_qsize 0\n",
      "2021-03-14 14:07:03,467 : INFO : EPOCH 8 - PROGRESS: at 78.37% examples, 737499 words/s, in_qsize 19, out_qsize 1\n",
      "2021-03-14 14:07:04,469 : INFO : EPOCH 8 - PROGRESS: at 80.50% examples, 734793 words/s, in_qsize 20, out_qsize 5\n",
      "2021-03-14 14:07:05,469 : INFO : EPOCH 8 - PROGRESS: at 83.28% examples, 737684 words/s, in_qsize 18, out_qsize 1\n",
      "2021-03-14 14:07:06,501 : INFO : EPOCH 8 - PROGRESS: at 85.98% examples, 739883 words/s, in_qsize 19, out_qsize 0\n",
      "2021-03-14 14:07:07,506 : INFO : EPOCH 8 - PROGRESS: at 88.88% examples, 741498 words/s, in_qsize 19, out_qsize 0\n",
      "2021-03-14 14:07:08,534 : INFO : EPOCH 8 - PROGRESS: at 91.63% examples, 742145 words/s, in_qsize 16, out_qsize 3\n",
      "2021-03-14 14:07:09,557 : INFO : EPOCH 8 - PROGRESS: at 93.65% examples, 737970 words/s, in_qsize 19, out_qsize 0\n"
     ]
    },
    {
     "name": "stderr",
     "output_type": "stream",
     "text": [
      "2021-03-14 14:07:10,578 : INFO : EPOCH 8 - PROGRESS: at 96.27% examples, 738287 words/s, in_qsize 19, out_qsize 0\n",
      "2021-03-14 14:07:11,587 : INFO : EPOCH 8 - PROGRESS: at 99.08% examples, 739790 words/s, in_qsize 19, out_qsize 0\n",
      "2021-03-14 14:07:11,844 : INFO : worker thread finished; awaiting finish of 9 more threads\n",
      "2021-03-14 14:07:11,873 : INFO : worker thread finished; awaiting finish of 8 more threads\n",
      "2021-03-14 14:07:11,879 : INFO : worker thread finished; awaiting finish of 7 more threads\n",
      "2021-03-14 14:07:11,889 : INFO : worker thread finished; awaiting finish of 6 more threads\n",
      "2021-03-14 14:07:11,892 : INFO : worker thread finished; awaiting finish of 5 more threads\n",
      "2021-03-14 14:07:11,896 : INFO : worker thread finished; awaiting finish of 4 more threads\n",
      "2021-03-14 14:07:11,905 : INFO : worker thread finished; awaiting finish of 3 more threads\n",
      "2021-03-14 14:07:11,909 : INFO : worker thread finished; awaiting finish of 2 more threads\n",
      "2021-03-14 14:07:11,912 : INFO : worker thread finished; awaiting finish of 1 more threads\n",
      "2021-03-14 14:07:11,915 : INFO : worker thread finished; awaiting finish of 0 more threads\n",
      "2021-03-14 14:07:11,917 : INFO : EPOCH - 8 : training on 41519355 raw words (30347109 effective words) took 41.0s, 740260 effective words/s\n",
      "2021-03-14 14:07:12,973 : INFO : EPOCH 9 - PROGRESS: at 1.70% examples, 508713 words/s, in_qsize 19, out_qsize 0\n",
      "2021-03-14 14:07:13,982 : INFO : EPOCH 9 - PROGRESS: at 4.17% examples, 623514 words/s, in_qsize 19, out_qsize 1\n",
      "2021-03-14 14:07:14,997 : INFO : EPOCH 9 - PROGRESS: at 6.24% examples, 626021 words/s, in_qsize 19, out_qsize 0\n",
      "2021-03-14 14:07:16,061 : INFO : EPOCH 9 - PROGRESS: at 8.62% examples, 643965 words/s, in_qsize 17, out_qsize 2\n",
      "2021-03-14 14:07:17,070 : INFO : EPOCH 9 - PROGRESS: at 10.21% examples, 633502 words/s, in_qsize 18, out_qsize 1\n",
      "2021-03-14 14:07:18,077 : INFO : EPOCH 9 - PROGRESS: at 11.56% examples, 610539 words/s, in_qsize 20, out_qsize 2\n",
      "2021-03-14 14:07:19,085 : INFO : EPOCH 9 - PROGRESS: at 13.75% examples, 633896 words/s, in_qsize 19, out_qsize 0\n",
      "2021-03-14 14:07:20,131 : INFO : EPOCH 9 - PROGRESS: at 15.76% examples, 635004 words/s, in_qsize 19, out_qsize 0\n",
      "2021-03-14 14:07:21,133 : INFO : EPOCH 9 - PROGRESS: at 17.61% examples, 641129 words/s, in_qsize 20, out_qsize 0\n",
      "2021-03-14 14:07:22,150 : INFO : EPOCH 9 - PROGRESS: at 19.50% examples, 647318 words/s, in_qsize 20, out_qsize 1\n",
      "2021-03-14 14:07:23,150 : INFO : EPOCH 9 - PROGRESS: at 21.34% examples, 647039 words/s, in_qsize 19, out_qsize 0\n",
      "2021-03-14 14:07:24,216 : INFO : EPOCH 9 - PROGRESS: at 23.37% examples, 651209 words/s, in_qsize 19, out_qsize 0\n",
      "2021-03-14 14:07:25,217 : INFO : EPOCH 9 - PROGRESS: at 25.60% examples, 657834 words/s, in_qsize 20, out_qsize 0\n",
      "2021-03-14 14:07:26,230 : INFO : EPOCH 9 - PROGRESS: at 28.49% examples, 665847 words/s, in_qsize 19, out_qsize 0\n",
      "2021-03-14 14:07:27,232 : INFO : EPOCH 9 - PROGRESS: at 31.24% examples, 671787 words/s, in_qsize 19, out_qsize 0\n",
      "2021-03-14 14:07:28,252 : INFO : EPOCH 9 - PROGRESS: at 34.00% examples, 679223 words/s, in_qsize 16, out_qsize 3\n",
      "2021-03-14 14:07:29,263 : INFO : EPOCH 9 - PROGRESS: at 36.84% examples, 686318 words/s, in_qsize 19, out_qsize 0\n",
      "2021-03-14 14:07:30,269 : INFO : EPOCH 9 - PROGRESS: at 39.76% examples, 694222 words/s, in_qsize 18, out_qsize 1\n",
      "2021-03-14 14:07:31,274 : INFO : EPOCH 9 - PROGRESS: at 42.67% examples, 699065 words/s, in_qsize 17, out_qsize 2\n",
      "2021-03-14 14:07:32,276 : INFO : EPOCH 9 - PROGRESS: at 45.72% examples, 705079 words/s, in_qsize 19, out_qsize 0\n",
      "2021-03-14 14:07:33,279 : INFO : EPOCH 9 - PROGRESS: at 48.38% examples, 708712 words/s, in_qsize 19, out_qsize 0\n",
      "2021-03-14 14:07:34,291 : INFO : EPOCH 9 - PROGRESS: at 50.79% examples, 707203 words/s, in_qsize 19, out_qsize 0\n",
      "2021-03-14 14:07:35,300 : INFO : EPOCH 9 - PROGRESS: at 53.14% examples, 708002 words/s, in_qsize 19, out_qsize 0\n",
      "2021-03-14 14:07:36,301 : INFO : EPOCH 9 - PROGRESS: at 55.90% examples, 710706 words/s, in_qsize 19, out_qsize 0\n",
      "2021-03-14 14:07:37,324 : INFO : EPOCH 9 - PROGRESS: at 58.59% examples, 713368 words/s, in_qsize 19, out_qsize 0\n",
      "2021-03-14 14:07:38,339 : INFO : EPOCH 9 - PROGRESS: at 61.42% examples, 716950 words/s, in_qsize 19, out_qsize 0\n",
      "2021-03-14 14:07:39,361 : INFO : EPOCH 9 - PROGRESS: at 64.39% examples, 719489 words/s, in_qsize 19, out_qsize 0\n",
      "2021-03-14 14:07:40,378 : INFO : EPOCH 9 - PROGRESS: at 67.00% examples, 721706 words/s, in_qsize 19, out_qsize 0\n",
      "2021-03-14 14:07:41,387 : INFO : EPOCH 9 - PROGRESS: at 69.14% examples, 718491 words/s, in_qsize 18, out_qsize 0\n",
      "2021-03-14 14:07:42,392 : INFO : EPOCH 9 - PROGRESS: at 71.17% examples, 715869 words/s, in_qsize 20, out_qsize 2\n",
      "2021-03-14 14:07:43,404 : INFO : EPOCH 9 - PROGRESS: at 73.70% examples, 715510 words/s, in_qsize 14, out_qsize 5\n",
      "2021-03-14 14:07:44,429 : INFO : EPOCH 9 - PROGRESS: at 76.28% examples, 717978 words/s, in_qsize 19, out_qsize 0\n",
      "2021-03-14 14:07:45,454 : INFO : EPOCH 9 - PROGRESS: at 78.75% examples, 719193 words/s, in_qsize 18, out_qsize 1\n",
      "2021-03-14 14:07:46,465 : INFO : EPOCH 9 - PROGRESS: at 81.20% examples, 720057 words/s, in_qsize 19, out_qsize 1\n",
      "2021-03-14 14:07:47,499 : INFO : EPOCH 9 - PROGRESS: at 83.76% examples, 720584 words/s, in_qsize 18, out_qsize 2\n",
      "2021-03-14 14:07:48,508 : INFO : EPOCH 9 - PROGRESS: at 85.81% examples, 718184 words/s, in_qsize 19, out_qsize 0\n",
      "2021-03-14 14:07:49,511 : INFO : EPOCH 9 - PROGRESS: at 88.37% examples, 717997 words/s, in_qsize 19, out_qsize 0\n",
      "2021-03-14 14:07:50,520 : INFO : EPOCH 9 - PROGRESS: at 90.51% examples, 714798 words/s, in_qsize 19, out_qsize 0\n",
      "2021-03-14 14:07:51,536 : INFO : EPOCH 9 - PROGRESS: at 92.85% examples, 713756 words/s, in_qsize 14, out_qsize 5\n",
      "2021-03-14 14:07:52,560 : INFO : EPOCH 9 - PROGRESS: at 95.20% examples, 712639 words/s, in_qsize 19, out_qsize 0\n",
      "2021-03-14 14:07:53,560 : INFO : EPOCH 9 - PROGRESS: at 97.36% examples, 710583 words/s, in_qsize 17, out_qsize 2\n",
      "2021-03-14 14:07:54,464 : INFO : worker thread finished; awaiting finish of 9 more threads\n",
      "2021-03-14 14:07:54,481 : INFO : worker thread finished; awaiting finish of 8 more threads\n",
      "2021-03-14 14:07:54,486 : INFO : worker thread finished; awaiting finish of 7 more threads\n",
      "2021-03-14 14:07:54,493 : INFO : worker thread finished; awaiting finish of 6 more threads\n",
      "2021-03-14 14:07:54,498 : INFO : worker thread finished; awaiting finish of 5 more threads\n",
      "2021-03-14 14:07:54,511 : INFO : worker thread finished; awaiting finish of 4 more threads\n",
      "2021-03-14 14:07:54,513 : INFO : worker thread finished; awaiting finish of 3 more threads\n",
      "2021-03-14 14:07:54,515 : INFO : worker thread finished; awaiting finish of 2 more threads\n",
      "2021-03-14 14:07:54,516 : INFO : worker thread finished; awaiting finish of 1 more threads\n",
      "2021-03-14 14:07:54,523 : INFO : worker thread finished; awaiting finish of 0 more threads\n",
      "2021-03-14 14:07:54,524 : INFO : EPOCH - 9 : training on 41519355 raw words (30349076 effective words) took 42.6s, 712376 effective words/s\n",
      "2021-03-14 14:07:55,554 : INFO : EPOCH 10 - PROGRESS: at 2.46% examples, 760041 words/s, in_qsize 19, out_qsize 0\n",
      "2021-03-14 14:07:56,563 : INFO : EPOCH 10 - PROGRESS: at 5.23% examples, 794308 words/s, in_qsize 19, out_qsize 0\n",
      "2021-03-14 14:07:57,564 : INFO : EPOCH 10 - PROGRESS: at 7.75% examples, 790420 words/s, in_qsize 19, out_qsize 0\n",
      "2021-03-14 14:07:58,577 : INFO : EPOCH 10 - PROGRESS: at 9.92% examples, 780533 words/s, in_qsize 17, out_qsize 2\n",
      "2021-03-14 14:07:59,588 : INFO : EPOCH 10 - PROGRESS: at 12.00% examples, 776886 words/s, in_qsize 19, out_qsize 0\n",
      "2021-03-14 14:08:00,626 : INFO : EPOCH 10 - PROGRESS: at 14.16% examples, 767375 words/s, in_qsize 19, out_qsize 0\n",
      "2021-03-14 14:08:01,629 : INFO : EPOCH 10 - PROGRESS: at 16.37% examples, 766573 words/s, in_qsize 19, out_qsize 0\n",
      "2021-03-14 14:08:02,631 : INFO : EPOCH 10 - PROGRESS: at 18.11% examples, 751036 words/s, in_qsize 19, out_qsize 0\n",
      "2021-03-14 14:08:03,632 : INFO : EPOCH 10 - PROGRESS: at 19.95% examples, 745524 words/s, in_qsize 17, out_qsize 2\n",
      "2021-03-14 14:08:04,633 : INFO : EPOCH 10 - PROGRESS: at 21.84% examples, 733145 words/s, in_qsize 19, out_qsize 0\n",
      "2021-03-14 14:08:05,660 : INFO : EPOCH 10 - PROGRESS: at 23.65% examples, 728970 words/s, in_qsize 19, out_qsize 0\n"
     ]
    },
    {
     "name": "stderr",
     "output_type": "stream",
     "text": [
      "2021-03-14 14:08:06,672 : INFO : EPOCH 10 - PROGRESS: at 25.98% examples, 729227 words/s, in_qsize 16, out_qsize 3\n",
      "2021-03-14 14:08:07,673 : INFO : EPOCH 10 - PROGRESS: at 28.67% examples, 729258 words/s, in_qsize 18, out_qsize 1\n",
      "2021-03-14 14:08:08,673 : INFO : EPOCH 10 - PROGRESS: at 31.68% examples, 735345 words/s, in_qsize 20, out_qsize 0\n",
      "2021-03-14 14:08:09,681 : INFO : EPOCH 10 - PROGRESS: at 34.05% examples, 733122 words/s, in_qsize 19, out_qsize 0\n",
      "2021-03-14 14:08:10,692 : INFO : EPOCH 10 - PROGRESS: at 36.91% examples, 737696 words/s, in_qsize 19, out_qsize 0\n",
      "2021-03-14 14:08:11,699 : INFO : EPOCH 10 - PROGRESS: at 39.82% examples, 742690 words/s, in_qsize 19, out_qsize 0\n",
      "2021-03-14 14:08:12,707 : INFO : EPOCH 10 - PROGRESS: at 42.72% examples, 745088 words/s, in_qsize 19, out_qsize 0\n",
      "2021-03-14 14:08:13,718 : INFO : EPOCH 10 - PROGRESS: at 45.64% examples, 746839 words/s, in_qsize 19, out_qsize 0\n",
      "2021-03-14 14:08:14,733 : INFO : EPOCH 10 - PROGRESS: at 48.41% examples, 749651 words/s, in_qsize 19, out_qsize 0\n",
      "2021-03-14 14:08:15,751 : INFO : EPOCH 10 - PROGRESS: at 51.12% examples, 750663 words/s, in_qsize 17, out_qsize 2\n",
      "2021-03-14 14:08:16,753 : INFO : EPOCH 10 - PROGRESS: at 53.62% examples, 751423 words/s, in_qsize 19, out_qsize 0\n",
      "2021-03-14 14:08:17,775 : INFO : EPOCH 10 - PROGRESS: at 56.48% examples, 753210 words/s, in_qsize 19, out_qsize 0\n",
      "2021-03-14 14:08:18,799 : INFO : EPOCH 10 - PROGRESS: at 59.34% examples, 755387 words/s, in_qsize 19, out_qsize 0\n",
      "2021-03-14 14:08:19,821 : INFO : EPOCH 10 - PROGRESS: at 62.12% examples, 757274 words/s, in_qsize 19, out_qsize 0\n",
      "2021-03-14 14:08:20,837 : INFO : EPOCH 10 - PROGRESS: at 64.96% examples, 756486 words/s, in_qsize 17, out_qsize 2\n",
      "2021-03-14 14:08:21,872 : INFO : EPOCH 10 - PROGRESS: at 67.63% examples, 757786 words/s, in_qsize 19, out_qsize 0\n",
      "2021-03-14 14:08:22,901 : INFO : EPOCH 10 - PROGRESS: at 70.24% examples, 758724 words/s, in_qsize 19, out_qsize 0\n",
      "2021-03-14 14:08:23,904 : INFO : EPOCH 10 - PROGRESS: at 72.96% examples, 760111 words/s, in_qsize 19, out_qsize 0\n",
      "2021-03-14 14:08:24,905 : INFO : EPOCH 10 - PROGRESS: at 75.52% examples, 760210 words/s, in_qsize 19, out_qsize 0\n",
      "2021-03-14 14:08:25,913 : INFO : EPOCH 10 - PROGRESS: at 77.73% examples, 758457 words/s, in_qsize 19, out_qsize 0\n",
      "2021-03-14 14:08:26,927 : INFO : EPOCH 10 - PROGRESS: at 80.40% examples, 760069 words/s, in_qsize 19, out_qsize 0\n",
      "2021-03-14 14:08:27,940 : INFO : EPOCH 10 - PROGRESS: at 82.84% examples, 758992 words/s, in_qsize 17, out_qsize 2\n",
      "2021-03-14 14:08:28,961 : INFO : EPOCH 10 - PROGRESS: at 85.35% examples, 759441 words/s, in_qsize 19, out_qsize 0\n",
      "2021-03-14 14:08:29,971 : INFO : EPOCH 10 - PROGRESS: at 88.30% examples, 760972 words/s, in_qsize 19, out_qsize 0\n",
      "2021-03-14 14:08:30,990 : INFO : EPOCH 10 - PROGRESS: at 90.87% examples, 759744 words/s, in_qsize 17, out_qsize 2\n",
      "2021-03-14 14:08:31,998 : INFO : EPOCH 10 - PROGRESS: at 93.52% examples, 760083 words/s, in_qsize 18, out_qsize 1\n",
      "2021-03-14 14:08:33,000 : INFO : EPOCH 10 - PROGRESS: at 96.14% examples, 760204 words/s, in_qsize 19, out_qsize 0\n",
      "2021-03-14 14:08:34,002 : INFO : EPOCH 10 - PROGRESS: at 98.83% examples, 760400 words/s, in_qsize 19, out_qsize 0\n",
      "2021-03-14 14:08:34,345 : INFO : worker thread finished; awaiting finish of 9 more threads\n",
      "2021-03-14 14:08:34,349 : INFO : worker thread finished; awaiting finish of 8 more threads\n",
      "2021-03-14 14:08:34,364 : INFO : worker thread finished; awaiting finish of 7 more threads\n",
      "2021-03-14 14:08:34,370 : INFO : worker thread finished; awaiting finish of 6 more threads\n",
      "2021-03-14 14:08:34,385 : INFO : worker thread finished; awaiting finish of 5 more threads\n",
      "2021-03-14 14:08:34,399 : INFO : worker thread finished; awaiting finish of 4 more threads\n",
      "2021-03-14 14:08:34,404 : INFO : worker thread finished; awaiting finish of 3 more threads\n",
      "2021-03-14 14:08:34,415 : INFO : worker thread finished; awaiting finish of 2 more threads\n",
      "2021-03-14 14:08:34,416 : INFO : worker thread finished; awaiting finish of 1 more threads\n",
      "2021-03-14 14:08:34,427 : INFO : worker thread finished; awaiting finish of 0 more threads\n",
      "2021-03-14 14:08:34,428 : INFO : EPOCH - 10 : training on 41519355 raw words (30350884 effective words) took 39.9s, 760688 effective words/s\n",
      "2021-03-14 14:08:34,428 : INFO : training on a 415193550 raw words (303493583 effective words) took 397.1s, 764278 effective words/s\n"
     ]
    },
    {
     "data": {
      "text/plain": [
       "(303493583, 415193550)"
      ]
     },
     "execution_count": 8,
     "metadata": {},
     "output_type": "execute_result"
    }
   ],
   "source": [
    "model = gensim.models.Word2Vec (documents, size=150, window=10, min_count=2, workers=10)\n",
    "model.train(documents,total_examples=len(documents),epochs=10)"
   ]
  },
  {
   "cell_type": "markdown",
   "metadata": {
    "slideshow": {
     "slide_type": "slide"
    }
   },
   "source": [
    "## skip-gram and CBOW models\n",
    "\n",
    "* The word2vec algorithms implemented in `gensim` include **skip-gram** and **CBOW** models\n",
    "\n",
    "``class gensim.models.word2vec.Word2Vec(... sg=0 ...)``\n",
    "* `sg` ({0, 1}, optional) – Training algorithm: 1 for skip-gram; otherwise CBOW  (default)."
   ]
  },
  {
   "cell_type": "markdown",
   "metadata": {
    "slideshow": {
     "slide_type": "slide"
    }
   },
   "source": [
    "## How to obtain word vectors?\n",
    "\n",
    "* We need to access its `model.wv` property, which holds the standalone keyed vectors."
   ]
  },
  {
   "cell_type": "code",
   "execution_count": 24,
   "metadata": {},
   "outputs": [],
   "source": [
    "word_vectors = model.wv"
   ]
  },
  {
   "cell_type": "markdown",
   "metadata": {
    "slideshow": {
     "slide_type": "slide"
    }
   },
   "source": [
    "* Persist the word vectors to disk with"
   ]
  },
  {
   "cell_type": "code",
   "execution_count": 25,
   "metadata": {
    "slideshow": {
     "slide_type": "fragment"
    }
   },
   "outputs": [],
   "source": [
    "from gensim.models import KeyedVectors"
   ]
  },
  {
   "cell_type": "code",
   "execution_count": 26,
   "metadata": {
    "slideshow": {
     "slide_type": "-"
    }
   },
   "outputs": [
    {
     "name": "stderr",
     "output_type": "stream",
     "text": [
      "2021-03-14 22:36:03,265 : INFO : saving Word2VecKeyedVectors object under data/vectors.kv, separately None\n",
      "2021-03-14 22:36:03,325 : INFO : storing np array 'vectors' to data/vectors.kv.vectors.npy\n",
      "2021-03-14 22:36:03,556 : INFO : not storing attribute vectors_norm\n",
      "2021-03-14 22:36:08,240 : INFO : saved data/vectors.kv\n"
     ]
    }
   ],
   "source": [
    "word_vectors.save('data/vectors.kv')"
   ]
  },
  {
   "cell_type": "code",
   "execution_count": 14,
   "metadata": {
    "scrolled": true,
    "slideshow": {
     "slide_type": "slide"
    }
   },
   "outputs": [
    {
     "name": "stderr",
     "output_type": "stream",
     "text": [
      "2021-03-14 14:12:16,282 : INFO : loading Word2VecKeyedVectors object from data/vectors.kv\n",
      "2021-03-14 14:12:16,433 : INFO : loading vectors from data/vectors.kv.vectors.npy with mmap=None\n",
      "2021-03-14 14:12:16,517 : INFO : setting ignored attribute vectors_norm to None\n",
      "2021-03-14 14:12:16,518 : INFO : loaded data/vectors.kv\n"
     ]
    }
   ],
   "source": [
    "reloaded_word_vectors = KeyedVectors.load('data/vectors.kv')"
   ]
  },
  {
   "cell_type": "markdown",
   "metadata": {
    "slideshow": {
     "slide_type": "slide"
    }
   },
   "source": [
    "## Get the key’s vector, as a 1D numpy array\n",
    "\n",
    "*  `get_vector(key, norm=False)`  Returns **Vector** for the specified key."
   ]
  },
  {
   "cell_type": "code",
   "execution_count": 20,
   "metadata": {
    "scrolled": true
   },
   "outputs": [
    {
     "name": "stdout",
     "output_type": "stream",
     "text": [
      "(150,)\n",
      "[ 2.5194955   3.98519     0.13134773  3.4767156   2.2527318   2.0601292\n",
      " -0.210349    3.2553098   1.1068059  -2.2040725  -2.3085032  -0.9839303\n",
      "  0.29481873 -0.8248244  -2.3532808   1.5908425  -0.13116792  0.09025211\n",
      " -4.3067923   1.8525307  -0.73047614  2.0734007  -1.7344201   2.9230053\n",
      " -1.024135    2.9512484  -2.1600788  -3.7378323   1.5650132  -3.299354\n",
      " -0.17427887  1.0837468  -2.8641825   0.02351804  1.1271863   0.90298986\n",
      "  0.43268943  2.5099602   0.9015156  -1.3839414  -0.7269674   0.58083653\n",
      "  1.4954923  -1.045981   -3.6593657  -0.09399015 -6.0203776  -1.752114\n",
      "  2.6161103   0.54835    -0.62417734  3.080784    1.0163897   0.09957929\n",
      "  0.1295551  -1.0796468   1.1874051  -0.8069812  -0.5943146   1.0086601\n",
      " -1.3204163   0.21888547  2.7572293  -2.295222    0.5467379  -3.0543237\n",
      "  3.6519177  -0.27496272 -5.3813467   2.1258466   1.5814056   5.18143\n",
      " -2.9958913  -0.69019824  2.2060552   3.7228682   0.880785   -1.5059057\n",
      "  4.9941382  -0.57638025 -0.5742147   0.762392   -0.6857068  -1.603579\n",
      "  0.5815087   0.80060524  5.492573   -1.3649899   0.38930252 -2.198677\n",
      "  1.5956616   1.8116698  -0.16527134 -1.7790884   2.0679114  -4.1958036\n",
      " -1.426996    1.4368976   5.2637906  -0.67189026  2.3159676  -0.3718497\n",
      "  1.0213006   1.3042592   0.7057107  -0.92482555 -0.47546765 -2.457358\n",
      " -1.8036747  -1.5006955   2.1700828  -0.5372995   3.7068353   0.06223217\n",
      " -0.9013918  -2.092889    1.8755505  -7.4197106  -0.25155252  2.5644584\n",
      " -2.2094533   0.06569739 -0.6079024   0.09113244  0.5056284  -1.9849101\n",
      " -3.4765904  -0.5217784   3.1490495   0.9198672  -2.3834968  -1.9090741\n",
      "  0.4824612   1.3147869   2.9550278  -0.25754032 -1.8774331  -2.9741201\n",
      "  0.5675738  -0.05680227 -3.0348227  -3.200069    3.8193839   0.65025926\n",
      " -2.0060282  -0.88686895  0.31361717 -1.9439542   3.4055817   1.6418972 ]\n"
     ]
    }
   ],
   "source": [
    "vector = word_vectors['computer']  # numpy vector of a word\n",
    "print(vector.shape)\n",
    "print(vector)"
   ]
  },
  {
   "cell_type": "markdown",
   "metadata": {
    "slideshow": {
     "slide_type": "slide"
    }
   },
   "source": [
    "## Now, let's look at some output \n",
    "* a simple case of looking up **words similar to** the word `dirty`. \n",
    "* All we need to do here is to call the `most_similar` function and provide the word `dirty` as the positive example. \n",
    "* This returns the top 10 similar words. "
   ]
  },
  {
   "cell_type": "code",
   "execution_count": 27,
   "metadata": {
    "slideshow": {
     "slide_type": "slide"
    }
   },
   "outputs": [
    {
     "name": "stderr",
     "output_type": "stream",
     "text": [
      "2021-03-14 22:55:06,457 : INFO : precomputing L2-norms of word weight vectors\n"
     ]
    },
    {
     "data": {
      "text/plain": [
       "[('venice', 0.6811449527740479),\n",
       " ('chinatown', 0.5627354383468628),\n",
       " ('korea', 0.5476475954055786),\n",
       " ('village', 0.538396418094635),\n",
       " ('nolita', 0.5254664421081543),\n",
       " ('brazil', 0.51933354139328),\n",
       " ('greenwich', 0.471917062997818),\n",
       " ('mott', 0.46979326009750366),\n",
       " ('soho', 0.46181896328926086),\n",
       " ('jewelbox', 0.4516487419605255)]"
      ]
     },
     "execution_count": 27,
     "metadata": {},
     "output_type": "execute_result"
    }
   ],
   "source": [
    "\n",
    "w1 = \"italy\"\n",
    "model.wv.most_similar (positive=w1)\n"
   ]
  },
  {
   "cell_type": "markdown",
   "metadata": {
    "slideshow": {
     "slide_type": "slide"
    }
   },
   "source": [
    "**Another example**\n",
    "\n",
    "Let's look at similarity for `polite`, `france` and `shocked`. "
   ]
  },
  {
   "cell_type": "code",
   "execution_count": 50,
   "metadata": {
    "slideshow": {
     "slide_type": "fragment"
    }
   },
   "outputs": [
    {
     "data": {
      "text/plain": [
       "[('courteous', 0.9174547791481018),\n",
       " ('friendly', 0.8309274911880493),\n",
       " ('cordial', 0.7990915179252625),\n",
       " ('professional', 0.7945970892906189),\n",
       " ('attentive', 0.7732747197151184),\n",
       " ('gracious', 0.7469891309738159)]"
      ]
     },
     "execution_count": 50,
     "metadata": {},
     "output_type": "execute_result"
    }
   ],
   "source": [
    "# look up top 6 words similar to 'polite'\n",
    "w1 = [\"polite\"]\n",
    "model.wv.most_similar (positive=w1,topn=6)\n"
   ]
  },
  {
   "cell_type": "code",
   "execution_count": 53,
   "metadata": {
    "slideshow": {
     "slide_type": "slide"
    }
   },
   "outputs": [
    {
     "data": {
      "text/plain": [
       "[('canada', 0.6603403091430664),\n",
       " ('germany', 0.6510637998580933),\n",
       " ('spain', 0.6431018114089966),\n",
       " ('barcelona', 0.61174076795578),\n",
       " ('mexico', 0.6070996522903442),\n",
       " ('rome', 0.6065913438796997)]"
      ]
     },
     "execution_count": 53,
     "metadata": {},
     "output_type": "execute_result"
    }
   ],
   "source": [
    "# look up top 6 words similar to 'france'\n",
    "w1 = [\"france\"]\n",
    "model.wv.most_similar (positive=w1,topn=6)\n"
   ]
  },
  {
   "cell_type": "code",
   "execution_count": 54,
   "metadata": {
    "slideshow": {
     "slide_type": "slide"
    }
   },
   "outputs": [
    {
     "data": {
      "text/plain": [
       "[('horrified', 0.80775386095047),\n",
       " ('amazed', 0.7797470092773438),\n",
       " ('astonished', 0.7748459577560425),\n",
       " ('dismayed', 0.7680633068084717),\n",
       " ('stunned', 0.7603034973144531),\n",
       " ('appalled', 0.7466776371002197)]"
      ]
     },
     "execution_count": 54,
     "metadata": {},
     "output_type": "execute_result"
    }
   ],
   "source": [
    "# look up top 6 words similar to 'shocked'\n",
    "w1 = [\"shocked\"]\n",
    "model.wv.most_similar (positive=w1,topn=6)\n"
   ]
  },
  {
   "cell_type": "markdown",
   "metadata": {
    "slideshow": {
     "slide_type": "slide"
    }
   },
   "source": [
    "You can even \n",
    "* specify **several positive examples** to get things that are related in the provided context \n",
    "* provide **negative examples** to say what should not be considered as related. \n",
    "\n",
    "In the example below we are asking for all items that **relate to bed** only:"
   ]
  },
  {
   "cell_type": "code",
   "execution_count": 55,
   "metadata": {
    "slideshow": {
     "slide_type": "slide"
    }
   },
   "outputs": [
    {
     "data": {
      "text/plain": [
       "[('duvet', 0.7086508274078369),\n",
       " ('blanket', 0.7016597390174866),\n",
       " ('mattress', 0.7002605199813843),\n",
       " ('quilt', 0.6868821978569031),\n",
       " ('matress', 0.6777950525283813),\n",
       " ('pillowcase', 0.6413239240646362),\n",
       " ('sheets', 0.6382123827934265),\n",
       " ('foam', 0.6322235465049744),\n",
       " ('pillows', 0.6320573687553406),\n",
       " ('comforter', 0.5972476601600647)]"
      ]
     },
     "execution_count": 55,
     "metadata": {},
     "output_type": "execute_result"
    }
   ],
   "source": [
    "# get everything related to stuff on the bed\n",
    "w1 = [\"bed\",'sheet','pillow']\n",
    "w2 = ['couch']\n",
    "model.wv.most_similar (positive=w1,negative=w2,topn=10)\n"
   ]
  },
  {
   "cell_type": "markdown",
   "metadata": {
    "slideshow": {
     "slide_type": "slide"
    }
   },
   "source": [
    "### Similarity between two words in the vocabulary"
   ]
  },
  {
   "cell_type": "markdown",
   "metadata": {
    "slideshow": {
     "slide_type": "fragment"
    }
   },
   "source": [
    "You can even use the Word2Vec model to return the **similarity between two words** that are present in the vocabulary. "
   ]
  },
  {
   "cell_type": "code",
   "execution_count": 57,
   "metadata": {
    "slideshow": {
     "slide_type": "fragment"
    }
   },
   "outputs": [
    {
     "data": {
      "text/plain": [
       "0.76181122646029453"
      ]
     },
     "execution_count": 57,
     "metadata": {},
     "output_type": "execute_result"
    }
   ],
   "source": [
    "# similarity between two different words\n",
    "model.wv.similarity(w1=\"dirty\",w2=\"smelly\")"
   ]
  },
  {
   "cell_type": "code",
   "execution_count": 58,
   "metadata": {
    "slideshow": {
     "slide_type": "slide"
    }
   },
   "outputs": [
    {
     "data": {
      "text/plain": [
       "1.0000000000000002"
      ]
     },
     "execution_count": 58,
     "metadata": {},
     "output_type": "execute_result"
    }
   ],
   "source": [
    "# similarity between two identical words\n",
    "model.wv.similarity(w1=\"dirty\",w2=\"dirty\")"
   ]
  },
  {
   "cell_type": "code",
   "execution_count": 59,
   "metadata": {
    "slideshow": {
     "slide_type": "fragment"
    }
   },
   "outputs": [
    {
     "data": {
      "text/plain": [
       "0.25355593501920781"
      ]
     },
     "execution_count": 59,
     "metadata": {},
     "output_type": "execute_result"
    }
   ],
   "source": [
    "# similarity between two unrelated words\n",
    "model.wv.similarity(w1=\"dirty\",w2=\"clean\")"
   ]
  },
  {
   "cell_type": "markdown",
   "metadata": {
    "slideshow": {
     "slide_type": "slide"
    }
   },
   "source": [
    "**Under the hood**\n",
    "\n",
    "the above three snippets computes the **cosine similarity** between the two specified words using word vectors of each. \n",
    "* From the scores, it makes sense that `dirty` is highly similar to `smelly` but \n",
    "* `dirty` is dissimilar to `clean`. \n",
    "* If you do a **similarity between two identical words**, the score will be 1.0 as the range of the cosine similarity score will always be between [0.0-1.0]. You can read more about cosine similarity scoring [here](https://en.wikipedia.org/wiki/Cosine_similarity)."
   ]
  },
  {
   "cell_type": "markdown",
   "metadata": {
    "slideshow": {
     "slide_type": "slide"
    }
   },
   "source": [
    "### Find odd items\n",
    "You can even use Word2Vec to find odd items *given a list of items*."
   ]
  },
  {
   "cell_type": "code",
   "execution_count": 63,
   "metadata": {},
   "outputs": [
    {
     "data": {
      "text/plain": [
       "'france'"
      ]
     },
     "execution_count": 63,
     "metadata": {},
     "output_type": "execute_result"
    }
   ],
   "source": [
    "# Which one is the odd one out in this list?\n",
    "model.wv.doesnt_match([\"cat\",\"dog\",\"france\"])"
   ]
  },
  {
   "cell_type": "code",
   "execution_count": 77,
   "metadata": {
    "slideshow": {
     "slide_type": "fragment"
    }
   },
   "outputs": [
    {
     "data": {
      "text/plain": [
       "'shower'"
      ]
     },
     "execution_count": 77,
     "metadata": {},
     "output_type": "execute_result"
    }
   ],
   "source": [
    "# Which one is the odd one out in this list?\n",
    "model.wv.doesnt_match([\"bed\",\"pillow\",\"duvet\",\"shower\"])\n"
   ]
  },
  {
   "cell_type": "markdown",
   "metadata": {
    "slideshow": {
     "slide_type": "slide"
    }
   },
   "source": [
    "## Understanding some of the parameters\n",
    "\n",
    "```\n",
    "model = gensim.models.Word2Vec (documents, size=150, window=10, min_count=2, workers=10)\n",
    "```\n"
   ]
  },
  {
   "cell_type": "markdown",
   "metadata": {
    "slideshow": {
     "slide_type": "fragment"
    }
   },
   "source": [
    "### `size`\n",
    "The size of the **dense vector** to `represent each token` or word. \n",
    "* If you have **very limited data**, then size should be a much **smaller** value. \n",
    "* If you have **lots of data**, its good to experiment with **various sizes**. "
   ]
  },
  {
   "cell_type": "markdown",
   "metadata": {
    "slideshow": {
     "slide_type": "slide"
    }
   },
   "source": [
    "### `window`\n",
    "The maximum distance between the target word and its neighboring word. \n",
    "* If your neighbor's position is greater than the maximum window width to the left and the right, then, some neighbors are not considered as being related to the target word. \n",
    "* In theory, a smaller window should give you terms that are more related. \n",
    "* If you have **lots of data**, then the window size should not matter too much, as long as its a decent sized window. "
   ]
  },
  {
   "cell_type": "markdown",
   "metadata": {
    "slideshow": {
     "slide_type": "slide"
    }
   },
   "source": [
    "### `min_count`\n",
    "Minimium frequency count of words. \n",
    "* The model would **ignore words that do not statisfy the** `min_count`. \n",
    "* Extremely **infrequent words are** usually **unimportant**, so its best to get rid of those. Unless your dataset is really tiny, this does not really affect the model.\n",
    "\n",
    "### `workers`\n",
    "How many threads to use behind the scenes?\n"
   ]
  },
  {
   "cell_type": "markdown",
   "metadata": {
    "slideshow": {
     "slide_type": "slide"
    }
   },
   "source": [
    "## When should you use Word2Vec?\n",
    "\n",
    "There are many application scenarios for Word2Vec. \n",
    "* Imagine if you need to **build a sentiment lexicon**. Training a Word2Vec model on large amounts of user reviews helps you achieve that. You have a lexicon for not just sentiment, but for most words in the vocabulary. \n",
    "* You could also use Word2Vec for more structured data. For example, if you had tags for a million stackoverflow questions and answers, you could **find tags that are related to a given tag** and recommend the related ones for exploration. You can do this by treating each set of co-occuring tags as a \"sentence\" and train a Word2Vec model on this data. Granted, you still need a large number of examples to make it work. \n"
   ]
  },
  {
   "cell_type": "markdown",
   "metadata": {
    "slideshow": {
     "slide_type": "slide"
    }
   },
   "source": [
    "## Context Problem\n",
    "\n",
    "* Word2Vec models generate embeddings that are **context-independent**: ie - there is just `one vector` (numeric) representation for each word.\n",
    "* **Different senses** of the word (if any) are combined into **one** single vector."
   ]
  },
  {
   "cell_type": "markdown",
   "metadata": {
    "slideshow": {
     "slide_type": "fragment"
    }
   },
   "source": [
    "* **Example**: Word2Vec embedding for the word \"`bank`\" will be a confused representation as it has collapsed different contexts into a single vector.\n",
    "<img src=\"figures/different-contexts.png\" width=\"60%\">"
   ]
  },
  {
   "cell_type": "markdown",
   "metadata": {
    "slideshow": {
     "slide_type": "slide"
    }
   },
   "source": [
    "* Word2Vec collaps different contexts into a single vector.\n",
    "  * > We went to the river `bank`\n",
    "  * > I need to go to `bank` to make a deposit\n"
   ]
  },
  {
   "cell_type": "code",
   "execution_count": 21,
   "metadata": {},
   "outputs": [
    {
     "name": "stdout",
     "output_type": "stream",
     "text": [
      "(150,)\n",
      "[ 2.5194955   3.98519     0.13134773  3.4767156   2.2527318   2.0601292\n",
      " -0.210349    3.2553098   1.1068059  -2.2040725  -2.3085032  -0.9839303\n",
      "  0.29481873 -0.8248244  -2.3532808   1.5908425  -0.13116792  0.09025211\n",
      " -4.3067923   1.8525307  -0.73047614  2.0734007  -1.7344201   2.9230053\n",
      " -1.024135    2.9512484  -2.1600788  -3.7378323   1.5650132  -3.299354\n",
      " -0.17427887  1.0837468  -2.8641825   0.02351804  1.1271863   0.90298986\n",
      "  0.43268943  2.5099602   0.9015156  -1.3839414  -0.7269674   0.58083653\n",
      "  1.4954923  -1.045981   -3.6593657  -0.09399015 -6.0203776  -1.752114\n",
      "  2.6161103   0.54835    -0.62417734  3.080784    1.0163897   0.09957929\n",
      "  0.1295551  -1.0796468   1.1874051  -0.8069812  -0.5943146   1.0086601\n",
      " -1.3204163   0.21888547  2.7572293  -2.295222    0.5467379  -3.0543237\n",
      "  3.6519177  -0.27496272 -5.3813467   2.1258466   1.5814056   5.18143\n",
      " -2.9958913  -0.69019824  2.2060552   3.7228682   0.880785   -1.5059057\n",
      "  4.9941382  -0.57638025 -0.5742147   0.762392   -0.6857068  -1.603579\n",
      "  0.5815087   0.80060524  5.492573   -1.3649899   0.38930252 -2.198677\n",
      "  1.5956616   1.8116698  -0.16527134 -1.7790884   2.0679114  -4.1958036\n",
      " -1.426996    1.4368976   5.2637906  -0.67189026  2.3159676  -0.3718497\n",
      "  1.0213006   1.3042592   0.7057107  -0.92482555 -0.47546765 -2.457358\n",
      " -1.8036747  -1.5006955   2.1700828  -0.5372995   3.7068353   0.06223217\n",
      " -0.9013918  -2.092889    1.8755505  -7.4197106  -0.25155252  2.5644584\n",
      " -2.2094533   0.06569739 -0.6079024   0.09113244  0.5056284  -1.9849101\n",
      " -3.4765904  -0.5217784   3.1490495   0.9198672  -2.3834968  -1.9090741\n",
      "  0.4824612   1.3147869   2.9550278  -0.25754032 -1.8774331  -2.9741201\n",
      "  0.5675738  -0.05680227 -3.0348227  -3.200069    3.8193839   0.65025926\n",
      " -2.0060282  -0.88686895  0.31361717 -1.9439542   3.4055817   1.6418972 ]\n"
     ]
    }
   ],
   "source": [
    "vector = word_vectors['bank']  # numpy vector of a word\n",
    "print(vector.shape)\n",
    "print(vector)"
   ]
  },
  {
   "cell_type": "markdown",
   "metadata": {
    "slideshow": {
     "slide_type": "slide"
    }
   },
   "source": [
    "## Contextual embeddings using BERT\n",
    "\n",
    "* BERT = Bidirectional Encoder Representations from Transformers is a Transformer-based machine learning technique for natural language **processing** pre-training developed by Google.\n",
    "* BERT model explicitly takes as **input the position** (index) of each word in the sentence before calculating its embedding."
   ]
  },
  {
   "cell_type": "markdown",
   "metadata": {
    "slideshow": {
     "slide_type": "fragment"
    }
   },
   "source": [
    "* **Example**: The BERT embedding will be able to distinguish and capture the two different semantic meanings by producing two different vectors for the same word \"`bank`\".\n",
    "<img src=\"figures/different-contexts.png\" width=\"60%\">"
   ]
  }
 ],
 "metadata": {
  "celltoolbar": "Slideshow",
  "kernelspec": {
   "display_name": "Python 3",
   "language": "python",
   "name": "python3"
  },
  "language_info": {
   "codemirror_mode": {
    "name": "ipython",
    "version": 3
   },
   "file_extension": ".py",
   "mimetype": "text/x-python",
   "name": "python",
   "nbconvert_exporter": "python",
   "pygments_lexer": "ipython3",
   "version": "3.5.2"
  }
 },
 "nbformat": 4,
 "nbformat_minor": 2
}
