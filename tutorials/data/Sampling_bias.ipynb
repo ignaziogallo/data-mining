{
 "cells": [
  {
   "cell_type": "markdown",
   "metadata": {
    "slideshow": {
     "slide_type": "skip"
    }
   },
   "source": [
    "[![Open In Colab](https://colab.research.google.com/assets/colab-badge.svg)](https://colab.research.google.com/github/ignaziogallo/data-mining/blob/aa20-21/tutorials/data/Sampling_bias.ipynb)\n",
    "\n",
    "[source](https://aquaraga.github.io/python/data-analysis/pandas/2017/05/25/sampling-bias.html)"
   ]
  },
  {
   "cell_type": "markdown",
   "metadata": {
    "slideshow": {
     "slide_type": "slide"
    }
   },
   "source": [
    "# Sampling bias\n",
    "\n",
    "* we wanted to find the average height of an Indian.\n",
    "* People are interviewed about their heights.\n",
    "* During the interviews, far **more women than men** were interviewed (interviewed 16000 females and 4000 males).\n",
    "* This leads to a sample that is **not truly representative** of the actual population.\n",
    "* If we were to find the average height from this sample, we would probably have a smaller height than expected, considering that the average female height is smaller."
   ]
  },
  {
   "cell_type": "markdown",
   "metadata": {
    "slideshow": {
     "slide_type": "slide"
    }
   },
   "source": [
    "* We’ve unintentionally introduced a **sampling bias**, by biasing the selection towards females. \n",
    "* A sampling bias is introduced when one were to **collect a sample in a non-random, non-distributed way**. \n",
    "* Let's start with the following (questionable) assumptions:\n",
    "  *    The **average height** of an Indian female is 151.9 cm and the male 164.9 cm.\n",
    "  *    The **standard deviation** of female and male heights is 6cm and 7cm respectively"
   ]
  },
  {
   "cell_type": "code",
   "execution_count": 1,
   "metadata": {
    "slideshow": {
     "slide_type": "slide"
    }
   },
   "outputs": [],
   "source": [
    "import pandas as pd\n",
    "import numpy as np\n",
    "import matplotlib.pyplot as plt\n",
    "import seaborn as sns\n",
    "import warnings\n",
    "warnings.filterwarnings('ignore')\n",
    "\n",
    "%matplotlib notebook\n",
    "\n",
    "female_heights = np.random.normal(loc = 151.9, scale = 6, size = 16000)\n",
    "male_heights = np.random.normal(loc = 164.9, scale = 7, size = 4000)\n",
    "\n",
    "all_heights = np.append(female_heights, male_heights)\n",
    "all_genders = ['F'] * 16000 + ['M'] * 4000\n",
    "\n",
    "df = pd.DataFrame({'Gender': all_genders, 'Height': all_heights})"
   ]
  },
  {
   "cell_type": "code",
   "execution_count": 3,
   "metadata": {
    "slideshow": {
     "slide_type": "slide"
    }
   },
   "outputs": [
    {
     "data": {
      "text/html": [
       "<div>\n",
       "<style scoped>\n",
       "    .dataframe tbody tr th:only-of-type {\n",
       "        vertical-align: middle;\n",
       "    }\n",
       "\n",
       "    .dataframe tbody tr th {\n",
       "        vertical-align: top;\n",
       "    }\n",
       "\n",
       "    .dataframe thead th {\n",
       "        text-align: right;\n",
       "    }\n",
       "</style>\n",
       "<table border=\"1\" class=\"dataframe\">\n",
       "  <thead>\n",
       "    <tr style=\"text-align: right;\">\n",
       "      <th></th>\n",
       "      <th>Gender</th>\n",
       "      <th>Height</th>\n",
       "    </tr>\n",
       "  </thead>\n",
       "  <tbody>\n",
       "    <tr>\n",
       "      <th>19995</th>\n",
       "      <td>M</td>\n",
       "      <td>173.995232</td>\n",
       "    </tr>\n",
       "    <tr>\n",
       "      <th>19996</th>\n",
       "      <td>M</td>\n",
       "      <td>167.855609</td>\n",
       "    </tr>\n",
       "    <tr>\n",
       "      <th>19997</th>\n",
       "      <td>M</td>\n",
       "      <td>165.989174</td>\n",
       "    </tr>\n",
       "    <tr>\n",
       "      <th>19998</th>\n",
       "      <td>M</td>\n",
       "      <td>155.211160</td>\n",
       "    </tr>\n",
       "    <tr>\n",
       "      <th>19999</th>\n",
       "      <td>M</td>\n",
       "      <td>161.569998</td>\n",
       "    </tr>\n",
       "  </tbody>\n",
       "</table>\n",
       "</div>"
      ],
      "text/plain": [
       "      Gender      Height\n",
       "19995      M  173.995232\n",
       "19996      M  167.855609\n",
       "19997      M  165.989174\n",
       "19998      M  155.211160\n",
       "19999      M  161.569998"
      ]
     },
     "execution_count": 3,
     "metadata": {},
     "output_type": "execute_result"
    }
   ],
   "source": [
    "df.tail()"
   ]
  },
  {
   "cell_type": "markdown",
   "metadata": {
    "slideshow": {
     "slide_type": "slide"
    }
   },
   "source": [
    "Let’s plot the height distributions:"
   ]
  },
  {
   "cell_type": "code",
   "execution_count": 4,
   "metadata": {},
   "outputs": [
    {
     "data": {
      "image/png": "[encoded data removed]",
      "text/plain": [
       "<Figure size 432x288 with 1 Axes>"
      ]
     },
     "metadata": {
      "needs_background": "light"
     },
     "output_type": "display_data"
    }
   ],
   "source": [
    "plt.figure()\n",
    "sns.distplot(pd.Series(female_heights, name = \"Height(cm)\"), hist = False, label = \"Females\",\n",
    "             color='pink', kde_kws={'linestyle': 'dotted'})\n",
    "sns.distplot(pd.Series(male_heights, name = \"Height(cm)\"), hist = False, label = \"Males\", \n",
    "             color = 'blue', kde_kws={'linestyle': 'dotted'})\n",
    "sns.distplot(all_heights, hist = False, label = \"All\", \n",
    "             color = 'green')\n",
    "\n",
    "plt.gca().set_ylabel('Density(scaled)')\n",
    "plt.gca().set_title('Distribution of heights - with sampling bias')\n",
    "plt.legend();"
   ]
  },
  {
   "cell_type": "markdown",
   "metadata": {
    "slideshow": {
     "slide_type": "slide"
    }
   },
   "source": [
    "* The previous graph represents an evident **error**: `the ‘All’ distribution follows the ‘Female’ distribution more closely than it should have`. \n",
    "* It is clear that we have to ‘**weight**’ the observations: \n",
    "   * entries for males, weight = 1\n",
    "   * entries for females should have weight = (number of males/number of females) = 0.25:"
   ]
  },
  {
   "cell_type": "code",
   "execution_count": 6,
   "metadata": {
    "slideshow": {
     "slide_type": "slide"
    }
   },
   "outputs": [
    {
     "data": {
      "text/html": [
       "<div>\n",
       "<style scoped>\n",
       "    .dataframe tbody tr th:only-of-type {\n",
       "        vertical-align: middle;\n",
       "    }\n",
       "\n",
       "    .dataframe tbody tr th {\n",
       "        vertical-align: top;\n",
       "    }\n",
       "\n",
       "    .dataframe thead th {\n",
       "        text-align: right;\n",
       "    }\n",
       "</style>\n",
       "<table border=\"1\" class=\"dataframe\">\n",
       "  <thead>\n",
       "    <tr style=\"text-align: right;\">\n",
       "      <th></th>\n",
       "      <th>Gender</th>\n",
       "      <th>Height</th>\n",
       "      <th>Weight</th>\n",
       "    </tr>\n",
       "  </thead>\n",
       "  <tbody>\n",
       "    <tr>\n",
       "      <th>0</th>\n",
       "      <td>F</td>\n",
       "      <td>160.110492</td>\n",
       "      <td>0.25</td>\n",
       "    </tr>\n",
       "    <tr>\n",
       "      <th>1</th>\n",
       "      <td>F</td>\n",
       "      <td>149.014927</td>\n",
       "      <td>0.25</td>\n",
       "    </tr>\n",
       "    <tr>\n",
       "      <th>2</th>\n",
       "      <td>F</td>\n",
       "      <td>158.332024</td>\n",
       "      <td>0.25</td>\n",
       "    </tr>\n",
       "    <tr>\n",
       "      <th>3</th>\n",
       "      <td>F</td>\n",
       "      <td>160.331739</td>\n",
       "      <td>0.25</td>\n",
       "    </tr>\n",
       "    <tr>\n",
       "      <th>4</th>\n",
       "      <td>F</td>\n",
       "      <td>150.365602</td>\n",
       "      <td>0.25</td>\n",
       "    </tr>\n",
       "  </tbody>\n",
       "</table>\n",
       "</div>"
      ],
      "text/plain": [
       "  Gender      Height  Weight\n",
       "0      F  160.110492    0.25\n",
       "1      F  149.014927    0.25\n",
       "2      F  158.332024    0.25\n",
       "3      F  160.331739    0.25\n",
       "4      F  150.365602    0.25"
      ]
     },
     "execution_count": 6,
     "metadata": {},
     "output_type": "execute_result"
    }
   ],
   "source": [
    "def set_weight(row):\n",
    "    if row['Gender'] == 'F':\n",
    "        row['Weight'] = 0.25\n",
    "    else:\n",
    "        row['Weight'] = 1\n",
    "    return row\n",
    "\n",
    "df_with_weights = df.apply(set_weight, axis = 1)\n",
    "df_with_weights.head()"
   ]
  },
  {
   "cell_type": "code",
   "execution_count": 7,
   "metadata": {
    "slideshow": {
     "slide_type": "slide"
    }
   },
   "outputs": [
    {
     "data": {
      "text/html": [
       "<div>\n",
       "<style scoped>\n",
       "    .dataframe tbody tr th:only-of-type {\n",
       "        vertical-align: middle;\n",
       "    }\n",
       "\n",
       "    .dataframe tbody tr th {\n",
       "        vertical-align: top;\n",
       "    }\n",
       "\n",
       "    .dataframe thead th {\n",
       "        text-align: right;\n",
       "    }\n",
       "</style>\n",
       "<table border=\"1\" class=\"dataframe\">\n",
       "  <thead>\n",
       "    <tr style=\"text-align: right;\">\n",
       "      <th></th>\n",
       "      <th>Gender</th>\n",
       "      <th>Height</th>\n",
       "      <th>Weight</th>\n",
       "    </tr>\n",
       "  </thead>\n",
       "  <tbody>\n",
       "    <tr>\n",
       "      <th>19995</th>\n",
       "      <td>M</td>\n",
       "      <td>173.995232</td>\n",
       "      <td>1.0</td>\n",
       "    </tr>\n",
       "    <tr>\n",
       "      <th>19996</th>\n",
       "      <td>M</td>\n",
       "      <td>167.855609</td>\n",
       "      <td>1.0</td>\n",
       "    </tr>\n",
       "    <tr>\n",
       "      <th>19997</th>\n",
       "      <td>M</td>\n",
       "      <td>165.989174</td>\n",
       "      <td>1.0</td>\n",
       "    </tr>\n",
       "    <tr>\n",
       "      <th>19998</th>\n",
       "      <td>M</td>\n",
       "      <td>155.211160</td>\n",
       "      <td>1.0</td>\n",
       "    </tr>\n",
       "    <tr>\n",
       "      <th>19999</th>\n",
       "      <td>M</td>\n",
       "      <td>161.569998</td>\n",
       "      <td>1.0</td>\n",
       "    </tr>\n",
       "  </tbody>\n",
       "</table>\n",
       "</div>"
      ],
      "text/plain": [
       "      Gender      Height  Weight\n",
       "19995      M  173.995232     1.0\n",
       "19996      M  167.855609     1.0\n",
       "19997      M  165.989174     1.0\n",
       "19998      M  155.211160     1.0\n",
       "19999      M  161.569998     1.0"
      ]
     },
     "execution_count": 7,
     "metadata": {},
     "output_type": "execute_result"
    }
   ],
   "source": [
    "df_with_weights.tail()"
   ]
  },
  {
   "cell_type": "markdown",
   "metadata": {
    "slideshow": {
     "slide_type": "slide"
    }
   },
   "source": [
    "## Extract a sub-sample\n",
    "The pandas `DataFrame` provides a `sample` method, where we can extract a sub-sample from our original dataframe.\n",
    "\n",
    "Let’s extract a sample of size 2000:"
   ]
  },
  {
   "cell_type": "code",
   "execution_count": 8,
   "metadata": {},
   "outputs": [
    {
     "name": "stdout",
     "output_type": "stream",
     "text": [
      "Number of males:  936\n",
      "Number of females:  1064\n"
     ]
    }
   ],
   "source": [
    "sample = df_with_weights.sample(n=2000, weights='Weight')\n",
    "print('Number of males: ', sample[sample.Gender == 'M'].shape[0])\n",
    "print('Number of females: ', sample[sample.Gender == 'F'].shape[0])"
   ]
  },
  {
   "cell_type": "markdown",
   "metadata": {},
   "source": [
    "The above seems to represent the gender ratio more realistically. \n",
    "\n",
    "The distribution for the sample distribution looks like:"
   ]
  },
  {
   "cell_type": "code",
   "execution_count": 9,
   "metadata": {
    "slideshow": {
     "slide_type": "slide"
    }
   },
   "outputs": [
    {
     "data": {
      "image/png": "[encoded data removed]",
      "text/plain": [
       "<Figure size 432x288 with 1 Axes>"
      ]
     },
     "metadata": {
      "needs_background": "light"
     },
     "output_type": "display_data"
    }
   ],
   "source": [
    "plt.figure()\n",
    "sns.distplot(pd.Series(sample[sample.Gender == 'F'].Height, name = \"Height(cm)\"), hist = False, label = \"Females\",\n",
    "             color='pink', kde_kws={'linestyle': 'dotted'})\n",
    "sns.distplot(pd.Series(sample[sample.Gender == 'M'].Height, name = \"Height(cm)\"), hist = False, label = \"Males\", \n",
    "             color = 'blue', kde_kws={'linestyle': 'dotted'})\n",
    "sns.distplot(sample.Height, hist = False, label = \"All\", \n",
    "             color = 'green')\n",
    "\n",
    "plt.gca().set_xlabel('Height(cm)')\n",
    "plt.gca().set_ylabel('Density(scaled)')\n",
    "plt.gca().set_title('Distribution of heights - with sample correction')\n",
    "plt.legend();"
   ]
  },
  {
   "cell_type": "markdown",
   "metadata": {
    "slideshow": {
     "slide_type": "slide"
    }
   },
   "source": [
    "* Although we considered only ‘Gender’, several **other variables** could have contributed to sampling bias such as ‘Age’, ‘State’\n",
    "* The ‘Weight’ that we assign to each observation should therefore consider each of the above factors into account.\n",
    "\n",
    "`Another good example` of a sampling bias was **US election polls** that used `landlines` to contact attendees. \n",
    "* This hasn't been a problem for a long time. \n",
    "* In recent years, an increasing number of homes have become mobile only: especially with people under 30. \n",
    "* By not reaching mobile phones, **some age groups may be underrepresented**. "
   ]
  }
 ],
 "metadata": {
  "celltoolbar": "Slideshow",
  "kernelspec": {
   "display_name": "Python 3",
   "language": "python",
   "name": "python3"
  },
  "language_info": {
   "codemirror_mode": {
    "name": "ipython",
    "version": 3
   },
   "file_extension": ".py",
   "mimetype": "text/x-python",
   "name": "python",
   "nbconvert_exporter": "python",
   "pygments_lexer": "ipython3",
   "version": "3.5.2"
  }
 },
 "nbformat": 4,
 "nbformat_minor": 2
}
