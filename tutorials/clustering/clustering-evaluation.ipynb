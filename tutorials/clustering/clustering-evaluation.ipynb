{
 "cells": [
  {
   "cell_type": "markdown",
   "metadata": {},
   "source": [
    "# Cluster Validity with Internal Criteria"
   ]
  },
  {
   "cell_type": "code",
   "execution_count": 17,
   "metadata": {},
   "outputs": [],
   "source": [
    "from sklearn import metrics\n",
    "from sklearn.metrics import pairwise_distances\n",
    "from sklearn import datasets\n",
    "import numpy as np\n",
    "import pandas as pd\n",
    "from sklearn.cluster import KMeans\n",
    "import matplotlib.pyplot as plt\n",
    "import seaborn as sns"
   ]
  },
  {
   "cell_type": "markdown",
   "metadata": {},
   "source": [
    "## Cohesion\n",
    "\n",
    "* __Compactness or cluster cohesion__: `Measures how close are the objects within the same cluster`. \n",
    "* A __lower__ within-cluster variation is an indicator of a good compactness (i.e., a good clustering). \n",
    "* The different indices for evaluating the compactness of clusters are base on distance measures such as the cluster-wise within average/median distances between observations.\n",
    "\n",
    "$$\\text{cohesion} = \\sum_i\\sum_{x\\in C_i}(x-c_i)^2$$\n",
    "\n",
    "We want this to be small"
   ]
  },
  {
   "cell_type": "code",
   "execution_count": 20,
   "metadata": {},
   "outputs": [],
   "source": [
    "c1 =[[1,0],[1,1]] \n",
    "c2 =[[1,2],[2,3],[2,2],[1,2]] \n",
    "c3 =[[3,1],[3,3],[2,1]]\n",
    "points = np.array(c1+c2+c3)\n",
    "labels = np.array([0,0,1,1,1,1,2,2,2])"
   ]
  },
  {
   "cell_type": "markdown",
   "metadata": {},
   "source": [
    "```\n",
    "Cohesion(C1) = (1-1)^2 + (1-1)^2 + (0-.5)^2 + (1-.5)^2 = 0.5\n",
    "Cohesion(C2) = ... = 1.75\n",
    "Cohesion(C3) = ... = 3.3334\n",
    "\n",
    "cohesion = 0.5 + 1.75 + 3.3334 = 5.583\n",
    "```"
   ]
  },
  {
   "cell_type": "code",
   "execution_count": 37,
   "metadata": {},
   "outputs": [
    {
     "name": "stdout",
     "output_type": "stream",
     "text": [
      "centroid c1: [1.  0.5]\n",
      "WSS(c1): 0.5\n",
      "centroid c2: [1.5  2.25]\n",
      "WSS(c2): 1.75\n",
      "centroid c3: [2.66666667 1.66666667]\n",
      "WSS(c3): 3.3333333333333335\n",
      "cohesion: 5.583333333333334\n"
     ]
    }
   ],
   "source": [
    "mean1 = np.array(c1).mean(axis=0) \n",
    "wss1 = np.sum((np.array(c1)-mean1)**2)\n",
    "print(\"centroid c1:\", mean1)\n",
    "print(\"WSS(c1):\", wss1)\n",
    "cohesion = wss1\n",
    "\n",
    "mean2 = np.array(c2).mean(axis=0) \n",
    "wss2 = np.sum((np.array(c2)-mean2)**2)\n",
    "print(\"centroid c2:\", mean2)\n",
    "print(\"WSS(c2):\", wss2)\n",
    "cohesion += wss2 \n",
    "\n",
    "mean3 = np.array(c3).mean(axis=0) \n",
    "wss3 = np.sum((np.array(c3)-mean3)**2)\n",
    "print(\"centroid c3:\", mean3)\n",
    "print(\"WSS(c3):\", wss3)\n",
    "cohesion += wss3\n",
    "\n",
    "print(\"cohesion:\", cohesion)"
   ]
  },
  {
   "cell_type": "markdown",
   "metadata": {},
   "source": [
    "##  Separation\n",
    "\n",
    "* __Separation__: `Measures how well-separated a cluster is from other clusters`. \n",
    "* The indices used as separation measures include:\n",
    "  -  distances between cluster centers\n",
    "  -  the pairwise minimum distances between objects in different clusters\n",
    "\n",
    "As an example we compute the average distance between cluster centers"
   ]
  },
  {
   "cell_type": "code",
   "execution_count": 46,
   "metadata": {},
   "outputs": [
    {
     "data": {
      "text/plain": [
       "1.7196087983835415"
      ]
     },
     "execution_count": 46,
     "metadata": {},
     "output_type": "execute_result"
    }
   ],
   "source": [
    "def euclidean_dist(a, b):\n",
    "    return np.sqrt(np.sum((a - b)**2))\n",
    "dist = euclidean_dist(mean1, mean2)\n",
    "dist += euclidean_dist(mean1, mean3)\n",
    "dist += euclidean_dist(mean2, mean3)\n",
    "dist/3"
   ]
  },
  {
   "cell_type": "markdown",
   "metadata": {},
   "source": [
    "## Silhouette Coefficient\n",
    "\n",
    "* If the ground truth labels are not known, evaluation must be performed using the model itself. \n",
    "* A __higher__ Silhouette Coefficient score relates to a model with __better defined clusters__. \n",
    "* The Silhouette Coefficient is defined for each sample and is composed of two scores:\n",
    "  - __a__: The mean distance between a sample and all other points in the same cluster.\n",
    "  - __b__: The mean distance between a sample and all other points in the next nearest cluster.\n",
    "\n",
    "The Silhouette Coefficient $s$ for a single sample is then given as:\n",
    "$$s = 1 - \\frac{a}{b}$$\n",
    "\n",
    "The Silhouette Coefficient for a set of samples is given as the mean of the Silhouette Coefficient for each sample.\n"
   ]
  },
  {
   "cell_type": "markdown",
   "metadata": {},
   "source": [
    "### Simple example"
   ]
  },
  {
   "cell_type": "code",
   "execution_count": 4,
   "metadata": {},
   "outputs": [],
   "source": [
    "c1 =[[1,0],[1,1]] \n",
    "c2 =[[1,2],[2,3],[2,2],[1,2]] \n",
    "c3 =[[3,1],[3,3],[2,1]]"
   ]
  },
  {
   "cell_type": "markdown",
   "metadata": {},
   "source": [
    "##### Silhouette Coefficient for a single sample\n",
    "Take a point [1,0] in cluster c1\n",
    "\n",
    "Calculate its __average distance__ to all other points in it’s cluster, i.e. cluster c1\n",
    "\n",
    "So $a_1 =\\sqrt{( (1-1)^2 + (0-1)^2)} =\\sqrt{(0+1)}=\\sqrt{1}=1$\n",
    "\n",
    "Now for the object [1,0] in cluster c1 calculate its average distance from all the objects in cluster 2 and cluster 3. Of these take the minimum average distance.\n",
    "\n",
    "So for cluster 2\n",
    "```\n",
    "{1,0} ----> {1,2} = distance = √((1-1)^2 + (0-2)^2) =√(0+4)=√4=2\n",
    "{1,0} ----> {2,3} = distance = √((1-2)^2 + (0-3)^2) =√(1+9)=√10=3.16\n",
    "{1,0} ----> {2,2} = distance = √((1-2)^2 + (0-2)^2) =√(1+4)=√5=2.24\n",
    "{1,0} ----> {1,2} = distance = √((1-1)^2 + (0-2)^2) =√(0+4)=√4=2\n",
    "```\n",
    "Therefore, the average distance of point {1,0} in cluster 1 to all the points in cluster 2 =\n",
    "```\n",
    "(2+3.16+2.24+2)/4 = 2.325\n",
    "```\n",
    "Similarly, for cluster 3\n",
    "```\n",
    "{1,0} ----> {3,1} = distance = √((1-3)^2 + (0-1)^2) =√(4+1)=√5=2.24\n",
    "{1,0} ----> {3,3} = distance = √((1-3)^2 + (0-3)^2) =√(4+9)=√13=3.61\n",
    "{1,0} ----> {2,1} = distance = √((1-2)^2 + (0-1)^2) =√(1+1)=√2=2.24\n",
    "```\n",
    "Therefore, the average distance of point {1,0} in cluster 1 to all the points in cluster 3 =\n",
    "```\n",
    "(2.24+3.61+2.24)/3 = 2.7\n",
    "```\n",
    "Now, the __minimum average distance__ of the point {1,0} in cluster 1 to the other clusters 2 and 3 is,\n",
    "```\n",
    "b1 =2.325 (2.325 < 2.7)\n",
    "```\n",
    "So the silhouette coefficient of cluster 1\n",
    "```\n",
    "s1= 1 - a1/b1 = 0.5699\n",
    "```\n",
    "In a similar fashion you need to calculate the silhouette coefficient for cluster 2 and cluster 3 separately by taking any single object point in each of the clusters and repeating the steps above. Of these the cluster with the greatest silhouette coefficient is the best as per evaluation."
   ]
  },
  {
   "cell_type": "code",
   "execution_count": 12,
   "metadata": {
    "scrolled": true
   },
   "outputs": [
    {
     "name": "stdout",
     "output_type": "stream",
     "text": [
      "silhouette coefficient of cluster 1: 0.5698924731182796\n"
     ]
    }
   ],
   "source": [
    "a1=1\n",
    "b1=2.325\n",
    "s1=1 - (a1/b1)\n",
    "print(\"silhouette coefficient of cluster 1:\", s1)"
   ]
  },
  {
   "cell_type": "markdown",
   "metadata": {},
   "source": [
    "##### Silhouette Coefficient for a set of samples"
   ]
  },
  {
   "cell_type": "code",
   "execution_count": 9,
   "metadata": {},
   "outputs": [
    {
     "data": {
      "text/plain": [
       "0.23320709938729836"
      ]
     },
     "execution_count": 9,
     "metadata": {},
     "output_type": "execute_result"
    }
   ],
   "source": [
    "points = np.array(c1+c2+c3)\n",
    "labels = np.array([0,0,1,1,1,1,2,2,2])\n",
    "metrics.silhouette_score(points, labels, metric='euclidean')"
   ]
  },
  {
   "cell_type": "markdown",
   "metadata": {},
   "source": [
    "### Real example"
   ]
  },
  {
   "cell_type": "code",
   "execution_count": 2,
   "metadata": {},
   "outputs": [
    {
     "data": {
      "text/plain": [
       "0.5528190123564091"
      ]
     },
     "execution_count": 2,
     "metadata": {},
     "output_type": "execute_result"
    }
   ],
   "source": [
    "X, y = datasets.load_iris(return_X_y=True)\n",
    "\n",
    "kmeans_model = KMeans(n_clusters=3, random_state=1).fit(X)\n",
    "labels = kmeans_model.labels_\n",
    "metrics.silhouette_score(X, labels, metric='euclidean')"
   ]
  },
  {
   "cell_type": "markdown",
   "metadata": {},
   "source": [
    "Now showing how we can use the Silhouette value Method to find the value of ‘k’."
   ]
  },
  {
   "cell_type": "code",
   "execution_count": 19,
   "metadata": {},
   "outputs": [
    {
     "data": {
      "image/png": "[encoded data removed]",
      "text/plain": [
       "<Figure size 432x288 with 2 Axes>"
      ]
     },
     "metadata": {
      "needs_background": "light"
     },
     "output_type": "display_data"
    }
   ],
   "source": [
    "results = []\n",
    "for c in range(2,15):\n",
    "    kmeans_model = KMeans(init=\"k-means++\", n_clusters=c, random_state=1).fit(X)\n",
    "    silhouette_avg = metrics.silhouette_score(X, kmeans_model.labels_, metric='euclidean')\n",
    "    results.append([c, silhouette_avg])\n",
    "result = pd.DataFrame(results, columns=[\"n_clusters\", \"silhouette_score\"])\n",
    "pivot_km = pd.pivot_table(result, index=\"n_clusters\", values=\"silhouette_score\")\n",
    "\n",
    "plt.figure()\n",
    "sns.heatmap(pivot_km, annot=True, linewidths=.5, fmt='.3f', cmap=sns.cm.rocket_r)\n",
    "plt.tight_layout()"
   ]
  },
  {
   "cell_type": "markdown",
   "metadata": {},
   "source": [
    "# Evaluation with External “Ground Truth”"
   ]
  },
  {
   "cell_type": "code",
   "execution_count": null,
   "metadata": {},
   "outputs": [],
   "source": []
  }
 ],
 "metadata": {
  "kernelspec": {
   "display_name": "Python 3",
   "language": "python",
   "name": "python3"
  },
  "language_info": {
   "codemirror_mode": {
    "name": "ipython",
    "version": 3
   },
   "file_extension": ".py",
   "mimetype": "text/x-python",
   "name": "python",
   "nbconvert_exporter": "python",
   "pygments_lexer": "ipython3",
   "version": "3.5.2"
  }
 },
 "nbformat": 4,
 "nbformat_minor": 2
}
