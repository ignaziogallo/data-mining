{
 "cells": [
  {
   "cell_type": "markdown",
   "metadata": {
    "slideshow": {
     "slide_type": "skip"
    }
   },
   "source": [
    "[![Open In Colab](https://colab.research.google.com/assets/colab-badge.svg)](https://colab.research.google.com/github/ignaziogallo/data-mining/blob/aa20-21/tutorials/tutorials/recommender-systems/Collaborative-Filtering-Recommender-Systems.ipynb)"
   ]
  },
  {
   "cell_type": "markdown",
   "metadata": {
    "slideshow": {
     "slide_type": "slide"
    }
   },
   "source": [
    "# Collaborative filtering\n",
    "\n",
    "**I like what you like**\n",
    "\n",
    "We are going to start our exploration of <span style=\"color:red\">recommendation systems</span>.   "
   ]
  },
  {
   "cell_type": "markdown",
   "metadata": {},
   "source": [
    "## TODO\n",
    "Analize \"The Universal Recommender\" http://predictionio.apache.org/gallery/template-gallery/\n",
    "\n",
    "Used for:\n",
    "- **Personalized recommendations**—user-based\n",
    "- **Similar items**—item-based\n",
    "- **Viewed this bought that**—item-based cross-action\n",
    "- **Popular Items and User**-defined ranking\n",
    "- **Item-set recommendations** for complimentarty purchases or shopping carts—item-set-based\n",
    "- **Hybrid collaborative filtering** and content based recommendations—limited content-based"
   ]
  },
  {
   "cell_type": "markdown",
   "metadata": {
    "slideshow": {
     "slide_type": "fragment"
    }
   },
   "source": [
    "Recommendation systems are everywhere, from `Amazon`: "
   ]
  },
  {
   "cell_type": "markdown",
   "metadata": {},
   "source": [
    "<img src=\"figures/00-chapter2-amazon.png\" width=\"50%\">"
   ]
  },
  {
   "cell_type": "markdown",
   "metadata": {
    "slideshow": {
     "slide_type": "subslide"
    }
   },
   "source": [
    "to `last.fm` recommending music or concerts:"
   ]
  },
  {
   "cell_type": "markdown",
   "metadata": {},
   "source": [
    "<img src=\"figures/00-chapter2-last.fm.png\" width=\"50%\">"
   ]
  },
  {
   "cell_type": "markdown",
   "metadata": {
    "slideshow": {
     "slide_type": "slide"
    }
   },
   "source": [
    "## Amazon example\n",
    "Amazon combines two bits of information to make a recommendation. \n",
    "* The first is that I viewed ``The Lotus Sutra`` translated by Gene Reeves; \n",
    "* the second, that customers who viewed that translation of the Lotus Sutra also viewed several other translations. "
   ]
  },
  {
   "cell_type": "markdown",
   "metadata": {
    "slideshow": {
     "slide_type": "subslide"
    }
   },
   "source": [
    "The **recommendation method** we are looking at is called **collaborative filtering**. \n",
    "* It's called <font style=\"color:red\">collaborative</font> because it makes recommendations **based on other people**\n",
    "* Search among other users to find one that is similar\n",
    "* Once I find that similar person I can see what she likes and recommend those objects"
   ]
  },
  {
   "cell_type": "markdown",
   "metadata": {
    "slideshow": {
     "slide_type": "slide"
    }
   },
   "source": [
    "## How do I find someone who is similar?\n",
    "\n",
    "A simple 2D explanation\n",
    "* Suppose **users** rate **books** on a 5 star system\n",
    "* We restrict our ratings to **two books** (2D case): \n",
    "  - Neal Stephenson's *Snow Crash* \n",
    "  - Steig Larsson's *The Girl with the Dragon Tattoo*."
   ]
  },
  {
   "cell_type": "markdown",
   "metadata": {
    "slideshow": {
     "slide_type": "slide"
    }
   },
   "source": [
    "First, here's a table showing **3 users** who rated these books\n"
   ]
  },
  {
   "cell_type": "markdown",
   "metadata": {},
   "source": [
    "<img src=\"figures/00-chapter2-table-rating.png\" width=\"60%\">"
   ]
  },
  {
   "cell_type": "markdown",
   "metadata": {
    "slideshow": {
     "slide_type": "subslide"
    }
   },
   "source": [
    "<img src=\"figures/00-chapter2-similarity-2D.png\" width=\"40%\">"
   ]
  },
  {
   "cell_type": "markdown",
   "metadata": {
    "slideshow": {
     "slide_type": "slide"
    }
   },
   "source": [
    "## Find the most similar person \n",
    "I would like to **recommend a book** to the mysterious **Ms. X** who rated \n",
    "* Snow Crash 4 stars \n",
    "* The Girl with the Dragon Tattoo 2 stars. \n",
    "\n",
    "To find the person who is **most similar, or closest**, to Ms. X.  \n",
    "I do this by computing <font style=\"color:red\">distance</font>."
   ]
  },
  {
   "cell_type": "markdown",
   "metadata": {
    "slideshow": {
     "slide_type": "slide"
    }
   },
   "source": [
    "### Manhattan Distance\n",
    "The easiest distance measure to compute is what is called Manhattan Distance."
   ]
  },
  {
   "cell_type": "markdown",
   "metadata": {
    "slideshow": {
     "slide_type": "fragment"
    }
   },
   "source": [
    "The distance, $d_{1}$, between two vectors $\\mathbf {p}$, $\\mathbf {q}$ in an $n$-dimensional real vector space\n",
    "$$d_{1}(\\mathbf {p} ,\\mathbf {q} )=\\|\\mathbf {p} -\\mathbf {q} \\|_{1}=\\sum _{i=1}^{n}|p_{i}-q_{i}|$$\n",
    "where ($\\mathbf {p}$ ,$\\mathbf {q}$ ) are vectors\n",
    "$\\mathbf {p} =(p_{1},p_{2},\\dots ,p_{n}){\\text{ and }}\\mathbf {q} =(q_{1},q_{2},\\dots ,q_{n})\\$"
   ]
  },
  {
   "cell_type": "markdown",
   "metadata": {
    "slideshow": {
     "slide_type": "slide"
    }
   },
   "source": [
    "In the 2D case\n",
    "* (x1, y1) might be Amy \n",
    "* (x2, y2) might be the elusive Ms. X. "
   ]
  },
  {
   "cell_type": "markdown",
   "metadata": {
    "slideshow": {
     "slide_type": "fragment"
    }
   },
   "source": [
    " Manhattan Distance is then calculated by\n",
    " $$|x_1 - x_2| + |y_1 - y_2|$$"
   ]
  },
  {
   "cell_type": "markdown",
   "metadata": {
    "slideshow": {
     "slide_type": "slide"
    }
   },
   "source": [
    "So the Manhattan Distance for **Amy** and **Ms. X** is 4:"
   ]
  },
  {
   "cell_type": "markdown",
   "metadata": {},
   "source": [
    "<img src=\"figures/00-chapter2-similarity-2D-2.png\" width=\"40%\">"
   ]
  },
  {
   "cell_type": "markdown",
   "metadata": {
    "slideshow": {
     "slide_type": "slide"
    }
   },
   "source": [
    "Computing the distance between Ms. X and all three people gives us:\n"
   ]
  },
  {
   "cell_type": "markdown",
   "metadata": {},
   "source": [
    "|Person |Distance from Ms. X|\n",
    "|----|---|\n",
    "|Amy| 4|\n",
    "|Bill| 5|\n",
    "|Jim| 5|"
   ]
  },
  {
   "cell_type": "markdown",
   "metadata": {
    "slideshow": {
     "slide_type": "slide"
    }
   },
   "source": [
    "### The closest match\n",
    "**Amy** is the closest match. \n",
    "* We can **look in her history** and see, for example, that \n",
    "  * she gave five stars to Paolo Bacigalupi's *The Windup Girl* \n",
    "* We would **recommend** that book to Ms. X."
   ]
  },
  {
   "cell_type": "markdown",
   "metadata": {
    "slideshow": {
     "slide_type": "fragment"
    }
   },
   "source": [
    "* One benefit of **Manhattan Distance** is that it is **fast** to compute. \n",
    "* If we are Facebook and are trying to find the most similar person among one million users, **fast is good**."
   ]
  },
  {
   "cell_type": "markdown",
   "metadata": {
    "slideshow": {
     "slide_type": "slide"
    }
   },
   "source": [
    "### Euclidean Distance\n",
    "\n",
    "If $\\mathbf{p} = (p_1, p_2,..., p_n)$ and $\\mathbf{q} = (q_1, q_2,..., q_n)$ are two points in Euclidean $n$-space, then the distance ($d_2$) from $\\mathbf{p}$ to $\\mathbf{q}$, or from $\\mathbf{q}$ to $\\mathbf{p}$ is given by the <font style=\"color:red\">Pythagorean formula</font>:\n",
    "\n",
    "\n",
    "$$\n",
    "d_2(\\mathbf{q} ,\\mathbf{p} ) = \\sqrt{(q_{1}-p_{1})^{2}+(q_{2}-p_{2})^{2}+\\cdots +(q_{n}-p_{n})^{2}} ={\\sqrt {\\sum _{i=1}^{n}(q_{i}-p_{i})^{2}}}.\n",
    "$$"
   ]
  },
  {
   "cell_type": "markdown",
   "metadata": {
    "slideshow": {
     "slide_type": "slide"
    }
   },
   "source": [
    "### Pythagorean Theorem"
   ]
  },
  {
   "cell_type": "markdown",
   "metadata": {},
   "source": [
    "<img src=\"figures/00-chapter2-similarity-2D-pitagora.png\" width=\"40%\">"
   ]
  },
  {
   "cell_type": "markdown",
   "metadata": {
    "slideshow": {
     "slide_type": "slide"
    }
   },
   "source": [
    "### Euclidean distance between Ms. X and Amy\n",
    "$$\\sqrt{(5 - 2)^2 + (5 - 4)^2} = \\sqrt{3^2 + 1^2} = \\sqrt{10} = 3.16$$\n",
    "\n",
    "Computing the rest of the distances we get"
   ]
  },
  {
   "cell_type": "markdown",
   "metadata": {},
   "source": [
    "| Person |Distance from Ms. X|\n",
    "|----|---|\n",
    "|Amy| 3.16|\n",
    "|Bill| 3.61|\n",
    "|Jim| 3.61|"
   ]
  },
  {
   "cell_type": "markdown",
   "metadata": {
    "slideshow": {
     "slide_type": "slide"
    }
   },
   "source": [
    "## N-dimensional thinking\n",
    "\n",
    "Suppose we work for an online streaming music service and we want to make the experience more compelling by **recommending bands**.  \n",
    "Let's say users can rate bands on a star system 0-5 stars and they can give **half star ratings** (for \n",
    "example, you can give a band 2.5 stars).  \n",
    "The following chart shows **8 users** and their ratings of **8 bands**."
   ]
  },
  {
   "cell_type": "markdown",
   "metadata": {
    "slideshow": {
     "slide_type": "slide"
    }
   },
   "source": [
    "| Band | Angelica| Bill | Chan | Dan | Hailey | Jordyn | Sam | Veronica |\n",
    "|----|---|---|---|---|---|---|---|---|\n",
    "| Blues Traveler | 3.5 |2| 5| 3| - |-| 5 |3|\n",
    "| Broken Bells | 2| 3.5| 1| 4 |4 |4.5| 2 |-|\n",
    "| Deadmau5 | - |4 |1| 4.5 |1 |4 |-| -|\n",
    "| Norah Jones | 4.5| - |3 |-| 4| 5| 3| 5|\n",
    "| Phoenix | 5 | 2 | 5 | 3| -| 5| 5| 4|\n",
    "| Slightly Stoopid | 1.5| 3.5| 1| 4.5| -| 4.5| 4 |2.5|\n",
    "| The Strokes | 2.5 |- |- |4 |4 |4 |5| 3|\n",
    "| Vampire Weekend | 2| 3| -| 2| 1| 4| -| -|"
   ]
  },
  {
   "cell_type": "markdown",
   "metadata": {
    "slideshow": {
     "slide_type": "slide"
    }
   },
   "source": [
    "### The Manhattan Distance"
   ]
  },
  {
   "cell_type": "markdown",
   "metadata": {
    "slideshow": {
     "slide_type": "-"
    }
   },
   "source": [
    "|Band|Angelica| Bill| Difference|\n",
    "|----|---|---|---|\n",
    "|Blues Traveler| 3.5| 2| 1.5|\n",
    "|Broken Bells| 2| 3.5| 1.5|\n",
    "|Deadmau|5| - |- |\n",
    "|Norah Jones| 4.5| -| -|\n",
    "|Phoenix |5| 2| 3|\n",
    "|Slightly Stoopid |1.5| 3.5| 2|\n",
    "|The Strokes |2.5 |-| -|\n",
    "|Vampire Weekend |2 |3| 1|\n",
    "|**Manhattan Distance**:|- | -|9|"
   ]
  },
  {
   "cell_type": "markdown",
   "metadata": {
    "slideshow": {
     "slide_type": "slide"
    }
   },
   "source": [
    "### The Euclidean Distance"
   ]
  },
  {
   "cell_type": "markdown",
   "metadata": {},
   "source": [
    "|Band|Angelica| Bill| Difference|Difference$^2$|\n",
    "|----|---|---|---|---|\n",
    "|Blues Traveler| 3.5| 2| 1.5| 2.25|\n",
    "|Broken Bells| 2| 3.5| 1.5| 2.25|\n",
    "|Deadmau|5| - |4| -|\n",
    "|Norah Jones| 4.5| -|-|- |\n",
    "|Phoenix |5| 2| 3| 9|\n",
    "|Slightly Stoopid |1.5| 3.5| 2|4|\n",
    "|The Strokes |2.5 |-| -|-|\n",
    "|Vampire Weekend |2 |3| 1|1|\n",
    "|Sum of squares|-|-|-|18.5|\n",
    "|**Euclidean Distance**:|-|- |-|4.3|"
   ]
  },
  {
   "cell_type": "markdown",
   "metadata": {
    "slideshow": {
     "slide_type": "slide"
    }
   },
   "source": [
    "To parse that out a bit more:\n",
    "$$Euclidean = \\sqrt{(3.5−2)^2 +(2− 3.5)^2 +(5−2)^2+(1.5− 3.5)^2+(2− 3)^2}$$\n",
    "            $$= \\sqrt{1.52+(−1.5)^2+ 3^2+(−2)^2+1^2}$$\n",
    "            $$= \\sqrt{2.25+2.25+9+ 4+1}$$\n",
    "            $$= \\sqrt{18.5} $$\n",
    "            $$= 4.3$$"
   ]
  },
  {
   "cell_type": "markdown",
   "metadata": {
    "slideshow": {
     "slide_type": "slide"
    }
   },
   "source": [
    "### A flaw: missing values\n",
    "\n",
    "It looks like we discovered a flaw with using these distance measures.  \n",
    "* Computing the distance between **Hailey** and **Veronica**, we noticed they **only rated two bands in common** (Norah Jones and The Strokes), \n",
    "* whereas when we computed the distance between **Hailey** and **Jordyn**, we noticed they rated **five bands in common**. \n",
    "* This seems to skew our distance measurement, since the Hailey-Veronica distance is in 2 dimensions while the Hailey-Jordyn distance is in 5 dimensions. \n",
    "\n",
    "* Manhattan Distance and Euclidean Distance work best when there are **no missing values**. "
   ]
  },
  {
   "cell_type": "markdown",
   "metadata": {
    "slideshow": {
     "slide_type": "slide"
    }
   },
   "source": [
    "## A generalization of distance\n",
    "\n",
    "We can generalize Manhattan Distance and Euclidean Distance to what is called the \n",
    "**Minkowski Distance** Metric:\n",
    "$$d(x, y) = (\\sum_{k=1}^n | x_k − y_k |^r)^{1/r}$$"
   ]
  },
  {
   "cell_type": "markdown",
   "metadata": {
    "slideshow": {
     "slide_type": "fragment"
    }
   },
   "source": [
    "When\n",
    "- r = 1: The formula is Manhattan Distance.\n",
    "- r = 2: The formula is Euclidean Distance\n",
    "- r = ∞: Supremum Distance"
   ]
  },
  {
   "cell_type": "markdown",
   "metadata": {
    "slideshow": {
     "slide_type": "slide"
    }
   },
   "source": [
    "## Some code\n",
    "\n",
    "Representing the data using Python's dictionary:"
   ]
  },
  {
   "cell_type": "code",
   "execution_count": 1,
   "metadata": {},
   "outputs": [],
   "source": [
    "users = {\"Angelica\": {\"Blues Traveler\": 3.5, \"Broken Bells\": 2.0, \n",
    "                      \"Norah Jones\": 4.5, \"Phoenix\": 5.0, \n",
    "                      \"Slightly Stoopid\": 1.5, \n",
    "                      \"The Strokes\": 2.5, \"Vampire Weekend\": 2.0}, \n",
    "         \"Bill\":     {\"Blues Traveler\": 2.0, \"Broken Bells\": 3.5, \n",
    "                      \"Deadmau5\": 4.0, \n",
    "                      \"Phoenix\": 2.0, \"Slightly Stoopid\": 3.5, \n",
    "                      \"Vampire Weekend\": 3.0}, \n",
    "         \"Chan\":     {\"Blues Traveler\": 5.0, \"Broken Bells\": 1.0, \n",
    "                      \"Deadmau5\": 1.0, \"Norah Jones\": 3.0, \n",
    "                      \"Phoenix\": 5, \"Slightly Stoopid\": 1.0}, \n",
    "         \"Dan\":      {\"Blues Traveler\": 3.0, \"Broken Bells\": 4.0, \n",
    "                      \"Deadmau5\": 4.5, \"Phoenix\": 3.0, \n",
    "                      \"Slightly Stoopid\": 4.5, \"The Strokes\": 4.0, \n",
    "                      \"Vampire Weekend\": 2.0}, \n",
    "         \"Hailey\":   {\"Broken Bells\": 4.0, \"Deadmau5\": 1.0, \n",
    "                      \"Norah Jones\": 4.0, \"The Strokes\": 4.0, \n",
    "                      \"Vampire Weekend\": 1.0}, \n",
    "         \"Jordyn\":   {\"Broken Bells\": 4.5, \"Deadmau5\": 4.0, \"Norah Jones\": 5.0, \n",
    "                      \"Phoenix\": 5.0, \"Slightly Stoopid\": 4.5, \n",
    "                      \"The Strokes\": 4.0, \"Vampire Weekend\": 4.0}, \n",
    "         \"Sam\":      {\"Blues Traveler\": 5.0, \"Broken Bells\": 2.0, \n",
    "                      \"Norah Jones\": 3.0, \"Phoenix\": 5.0, \n",
    "                      \"Slightly Stoopid\": 4.0, \"The Strokes\": 5.0}, \n",
    "         \"Veronica\": {\"Blues Traveler\": 3.0, \"Norah Jones\": 5.0, \n",
    "                      \"Phoenix\": 4.0, \"Slightly Stoopid\": 2.5, \n",
    "                      \"The Strokes\": 3.0}}"
   ]
  },
  {
   "cell_type": "markdown",
   "metadata": {
    "slideshow": {
     "slide_type": "slide"
    }
   },
   "source": [
    "We can get the ratings of a particular user as follows:"
   ]
  },
  {
   "cell_type": "code",
   "execution_count": 2,
   "metadata": {},
   "outputs": [
    {
     "data": {
      "text/plain": [
       "{'Blues Traveler': 3.0,\n",
       " 'Norah Jones': 5.0,\n",
       " 'Phoenix': 4.0,\n",
       " 'Slightly Stoopid': 2.5,\n",
       " 'The Strokes': 3.0}"
      ]
     },
     "execution_count": 2,
     "metadata": {},
     "output_type": "execute_result"
    }
   ],
   "source": [
    "users[\"Veronica\"]"
   ]
  },
  {
   "cell_type": "markdown",
   "metadata": {
    "slideshow": {
     "slide_type": "slide"
    }
   },
   "source": [
    "### The code to compute Manhattan distance\n",
    "\n",
    "I'd like to write a function that computes the Manhattan distance as follows:"
   ]
  },
  {
   "cell_type": "code",
   "execution_count": 4,
   "metadata": {},
   "outputs": [],
   "source": [
    "def manhattan(rating1, rating2): \n",
    "    \"\"\"Computes the Manhattan distance. Both rating1 and rating2 are \n",
    "    dictionaries of the form {'The Strokes': 3.0, 'Slightly \n",
    "    Stoopid': 2.5}\"\"\"\n",
    "    distance = 0 \n",
    "    commonRatings = False\n",
    "\n",
    "    for key in rating1: \n",
    "        if key in rating2: \n",
    "            distance += abs(rating1[key] - rating2[key]) \n",
    "            commonRatings = True\n",
    "    if commonRatings: \n",
    "        return distance \n",
    "    else: \n",
    "        return -1 #Indicates no ratings in common"
   ]
  },
  {
   "cell_type": "markdown",
   "metadata": {
    "slideshow": {
     "slide_type": "slide"
    }
   },
   "source": [
    "To test the function:"
   ]
  },
  {
   "cell_type": "code",
   "execution_count": 5,
   "metadata": {},
   "outputs": [
    {
     "data": {
      "text/plain": [
       "2.0"
      ]
     },
     "execution_count": 5,
     "metadata": {},
     "output_type": "execute_result"
    }
   ],
   "source": [
    "manhattan(users['Hailey'], users['Veronica']) "
   ]
  },
  {
   "cell_type": "code",
   "execution_count": 6,
   "metadata": {},
   "outputs": [
    {
     "data": {
      "text/plain": [
       "7.5"
      ]
     },
     "execution_count": 6,
     "metadata": {},
     "output_type": "execute_result"
    }
   ],
   "source": [
    "manhattan(users['Hailey'], users['Jordyn'])"
   ]
  },
  {
   "cell_type": "markdown",
   "metadata": {
    "slideshow": {
     "slide_type": "slide"
    }
   },
   "source": [
    "### Find the closest person\n",
    "A function that returns a sorted list with the closest person first:"
   ]
  },
  {
   "cell_type": "code",
   "execution_count": 7,
   "metadata": {},
   "outputs": [],
   "source": [
    "def compute_nearest_neighbor(username, users):\n",
    "    \"\"\"\n",
    "    creates a sorted list of users based on their distance to username\n",
    "    \"\"\" \n",
    "    distances = [] \n",
    "    for user in users: \n",
    "        if user != username: \n",
    "            distance = manhattan(users[user], users[username]) \n",
    "            distances.append((distance, user)) \n",
    "            print(\"Distance(%s, %s) = %f\"%(username,user,distance))\n",
    "    # sort based on distance -- closest first\n",
    "    distances.sort() \n",
    "    return distances"
   ]
  },
  {
   "cell_type": "code",
   "execution_count": 8,
   "metadata": {
    "slideshow": {
     "slide_type": "slide"
    }
   },
   "outputs": [
    {
     "name": "stdout",
     "output_type": "stream",
     "text": [
      "Distance(Hailey, Dan) = 4.500000\n",
      "Distance(Hailey, Jordyn) = 7.500000\n",
      "Distance(Hailey, Veronica) = 2.000000\n",
      "Distance(Hailey, Angelica) = 5.000000\n",
      "Distance(Hailey, Chan) = 4.000000\n",
      "Distance(Hailey, Sam) = 4.000000\n",
      "Distance(Hailey, Bill) = 5.500000\n"
     ]
    },
    {
     "data": {
      "text/plain": [
       "[(2.0, 'Veronica'),\n",
       " (4.0, 'Chan'),\n",
       " (4.0, 'Sam'),\n",
       " (4.5, 'Dan'),\n",
       " (5.0, 'Angelica'),\n",
       " (5.5, 'Bill'),\n",
       " (7.5, 'Jordyn')]"
      ]
     },
     "execution_count": 8,
     "metadata": {},
     "output_type": "execute_result"
    }
   ],
   "source": [
    "compute_nearest_neighbor('Hailey', users)"
   ]
  },
  {
   "cell_type": "markdown",
   "metadata": {
    "slideshow": {
     "slide_type": "slide"
    }
   },
   "source": [
    "###  Make recommendations\n",
    "* We find `Hailey` nearest neighbor (`Veronica` in this case). \n",
    "* We will then **find** `bands that Veronica has rated but Hailey has not`. Also, \n",
    "* For example, \n",
    "  * Hailey has **not rated** the great band `Phoenix`. \n",
    "  * Veronica has **rated** `Phoenix` a '4' so we will assume Hailey is likely to enjoy the band as well. \n",
    "  \n",
    "Here is a function to make recommendations."
   ]
  },
  {
   "cell_type": "code",
   "execution_count": 9,
   "metadata": {
    "slideshow": {
     "slide_type": "slide"
    }
   },
   "outputs": [],
   "source": [
    "def recommend(username, users):\n",
    "    \"\"\"\n",
    "    Give list of recommendations\n",
    "    \"\"\"\n",
    "    # first find nearest neighbor\n",
    "    nearest = compute_nearest_neighbor(username, users)[0][1] \n",
    "    print(\"nearest neighbor:\", nearest)\n",
    "    recommendations = [] \n",
    "    # now find bands neighbor rated that user didn't \n",
    "    neighborRatings = users[nearest] \n",
    "    userRatings = users[username] \n",
    "    for artist in neighborRatings: \n",
    "        if not artist in userRatings:\n",
    "            recommendations.append((artist, neighborRatings[artist]))\n",
    "    recommendations.sort(key=lambda artistTuple: artistTuple[1], reverse = True)\n",
    "    return recommendations"
   ]
  },
  {
   "cell_type": "code",
   "execution_count": 10,
   "metadata": {
    "slideshow": {
     "slide_type": "slide"
    }
   },
   "outputs": [
    {
     "name": "stdout",
     "output_type": "stream",
     "text": [
      "Distance(Hailey, Dan) = 4.500000\n",
      "Distance(Hailey, Jordyn) = 7.500000\n",
      "Distance(Hailey, Veronica) = 2.000000\n",
      "Distance(Hailey, Angelica) = 5.000000\n",
      "Distance(Hailey, Chan) = 4.000000\n",
      "Distance(Hailey, Sam) = 4.000000\n",
      "Distance(Hailey, Bill) = 5.500000\n",
      "nearest neighbor: Veronica\n"
     ]
    },
    {
     "data": {
      "text/plain": [
       "[('Phoenix', 4.0), ('Blues Traveler', 3.0), ('Slightly Stoopid', 2.5)]"
      ]
     },
     "execution_count": 10,
     "metadata": {},
     "output_type": "execute_result"
    }
   ],
   "source": [
    "recommend('Hailey', users)"
   ]
  },
  {
   "cell_type": "markdown",
   "metadata": {
    "slideshow": {
     "slide_type": "slide"
    }
   },
   "source": [
    "That fits with our expectations. \n",
    "* As we saw above, `Hailey`'s nearest neighbor was `Veronica` and Veronica gave `Phoenix` a '**4**'. \n",
    "\n",
    "Let's try a few more:"
   ]
  },
  {
   "cell_type": "code",
   "execution_count": 11,
   "metadata": {
    "scrolled": true,
    "slideshow": {
     "slide_type": "slide"
    }
   },
   "outputs": [
    {
     "name": "stdout",
     "output_type": "stream",
     "text": [
      "Distance(Chan, Dan) = 14.000000\n",
      "Distance(Chan, Jordyn) = 12.000000\n",
      "Distance(Chan, Veronica) = 6.500000\n",
      "Distance(Chan, Angelica) = 4.500000\n",
      "Distance(Chan, Sam) = 4.000000\n",
      "Distance(Chan, Bill) = 14.000000\n",
      "Distance(Chan, Hailey) = 4.000000\n",
      "nearest neighbor: Hailey\n"
     ]
    },
    {
     "data": {
      "text/plain": [
       "[('The Strokes', 4.0), ('Vampire Weekend', 1.0)]"
      ]
     },
     "execution_count": 11,
     "metadata": {},
     "output_type": "execute_result"
    }
   ],
   "source": [
    "recommend('Chan', users) "
   ]
  },
  {
   "cell_type": "markdown",
   "metadata": {},
   "source": [
    "We think `Chan` will like `The Strokes`"
   ]
  },
  {
   "cell_type": "code",
   "execution_count": 12,
   "metadata": {
    "slideshow": {
     "slide_type": "slide"
    }
   },
   "outputs": [
    {
     "name": "stdout",
     "output_type": "stream",
     "text": [
      "Distance(Sam, Dan) = 7.500000\n",
      "Distance(Sam, Jordyn) = 6.000000\n",
      "Distance(Sam, Veronica) = 8.500000\n",
      "Distance(Sam, Angelica) = 8.000000\n",
      "Distance(Sam, Chan) = 4.000000\n",
      "Distance(Sam, Bill) = 8.000000\n",
      "Distance(Sam, Hailey) = 4.000000\n",
      "nearest neighbor: Chan\n"
     ]
    },
    {
     "data": {
      "text/plain": [
       "[('Deadmau5', 1.0)]"
      ]
     },
     "execution_count": 12,
     "metadata": {},
     "output_type": "execute_result"
    }
   ],
   "source": [
    "recommend('Sam', users) "
   ]
  },
  {
   "cell_type": "markdown",
   "metadata": {
    "slideshow": {
     "slide_type": "-"
    }
   },
   "source": [
    "We predict that `Sam` will not like `Deadmau5`."
   ]
  },
  {
   "cell_type": "code",
   "execution_count": 13,
   "metadata": {
    "slideshow": {
     "slide_type": "slide"
    }
   },
   "outputs": [
    {
     "name": "stdout",
     "output_type": "stream",
     "text": [
      "Distance(Angelica, Dan) = 9.000000\n",
      "Distance(Angelica, Jordyn) = 9.500000\n",
      "Distance(Angelica, Veronica) = 3.500000\n",
      "Distance(Angelica, Chan) = 4.500000\n",
      "Distance(Angelica, Sam) = 8.000000\n",
      "Distance(Angelica, Bill) = 9.000000\n",
      "Distance(Angelica, Hailey) = 5.000000\n",
      "nearest neighbor: Veronica\n"
     ]
    },
    {
     "data": {
      "text/plain": [
       "[]"
      ]
     },
     "execution_count": 13,
     "metadata": {},
     "output_type": "execute_result"
    }
   ],
   "source": [
    "recommend('Angelica', users) "
   ]
  },
  {
   "cell_type": "markdown",
   "metadata": {},
   "source": [
    "Hmm. For Angelica we got back an **empty set** meaning we have **no recommendations** for her.  \n",
    "Let us see what went wrong:"
   ]
  },
  {
   "cell_type": "code",
   "execution_count": 14,
   "metadata": {
    "slideshow": {
     "slide_type": "slide"
    }
   },
   "outputs": [
    {
     "name": "stdout",
     "output_type": "stream",
     "text": [
      "Distance(Angelica, Dan) = 9.000000\n",
      "Distance(Angelica, Jordyn) = 9.500000\n",
      "Distance(Angelica, Veronica) = 3.500000\n",
      "Distance(Angelica, Chan) = 4.500000\n",
      "Distance(Angelica, Sam) = 8.000000\n",
      "Distance(Angelica, Bill) = 9.000000\n",
      "Distance(Angelica, Hailey) = 5.000000\n"
     ]
    },
    {
     "data": {
      "text/plain": [
       "[(3.5, 'Veronica'),\n",
       " (4.5, 'Chan'),\n",
       " (5.0, 'Hailey'),\n",
       " (8.0, 'Sam'),\n",
       " (9.0, 'Bill'),\n",
       " (9.0, 'Dan'),\n",
       " (9.5, 'Jordyn')]"
      ]
     },
     "execution_count": 14,
     "metadata": {},
     "output_type": "execute_result"
    }
   ],
   "source": [
    "compute_nearest_neighbor('Angelica', users) "
   ]
  },
  {
   "cell_type": "markdown",
   "metadata": {
    "slideshow": {
     "slide_type": "slide"
    }
   },
   "source": [
    "Angelica's nearest neighbor is Veronica.  \n",
    "When we look at their ratings:"
   ]
  },
  {
   "cell_type": "markdown",
   "metadata": {
    "slideshow": {
     "slide_type": "fragment"
    }
   },
   "source": [
    "* We see that **Angelica rated every band that Veronica did**. \n",
    "* We have no new ratings, so no recommendations. "
   ]
  },
  {
   "cell_type": "markdown",
   "metadata": {
    "slideshow": {
     "slide_type": "slide"
    }
   },
   "source": [
    "<div class=\"alert alert-success\">\n",
    "    \n",
    "## Practice \n",
    "1. Compute the Minkowski Distance and replace the Manhattan distance\n",
    "2. Compare some test results using different values for the \"$r$\" parameter\n",
    "</div>"
   ]
  },
  {
   "cell_type": "code",
   "execution_count": null,
   "metadata": {},
   "outputs": [],
   "source": [
    "# write your code here"
   ]
  },
  {
   "cell_type": "markdown",
   "metadata": {
    "slideshow": {
     "slide_type": "slide"
    }
   },
   "source": [
    "## User-Based Collaborative Filtering\n",
    "* To experiment with recommendation algorithms, we need **data** that contains a set of items and a set of users who have reacted to some of the items.\n",
    "* User-Based Collaborative Filtering simply put uses the \"wisdom of the crowd\" to recommend items. \n",
    "* Item based collaborative filtering uses the patterns of **users who liked the movie that I like, also liked these other movies**. \n",
    "* Recommendation based on user's input of any movie present in the dataset is done.\n",
    "* [There are a lot of datasets available to the public](https://github.com/caserec/Datasets-for-Recommender-Systems)"
   ]
  },
  {
   "cell_type": "code",
   "execution_count": 1,
   "metadata": {
    "slideshow": {
     "slide_type": "slide"
    }
   },
   "outputs": [],
   "source": [
    "import numpy as np \n",
    "import pandas as pd \n",
    "import matplotlib.pyplot as plt\n",
    "from sklearn.metrics import pairwise_distances\n",
    "from scipy.spatial.distance import cosine, correlation\n",
    "\n",
    "%matplotlib inline"
   ]
  },
  {
   "cell_type": "markdown",
   "metadata": {
    "slideshow": {
     "slide_type": "slide"
    }
   },
   "source": [
    "### Create the rating-based Utility Matrix"
   ]
  },
  {
   "cell_type": "code",
   "execution_count": 2,
   "metadata": {},
   "outputs": [],
   "source": [
    "r_cols = ['user_id', 'movie_id', 'rating', 'unix_timestamp']\n",
    "ratings = pd.read_csv('./data/ml-100k/u.data', sep='\\t', names=r_cols, encoding='latin-1')"
   ]
  },
  {
   "cell_type": "code",
   "execution_count": 3,
   "metadata": {},
   "outputs": [
    {
     "name": "stdout",
     "output_type": "stream",
     "text": [
      "Num. users: 943 \n",
      "Num. movies: 1682\n"
     ]
    }
   ],
   "source": [
    "n_users = ratings['user_id'].unique().shape[0]\n",
    "n_movies = ratings['movie_id'].unique().shape[0]\n",
    "print(\"Num. users:\", n_users, \"\\nNum. movies:\", n_movies)"
   ]
  },
  {
   "cell_type": "code",
   "execution_count": 4,
   "metadata": {
    "scrolled": true
   },
   "outputs": [
    {
     "data": {
      "text/html": [
       "<div>\n",
       "<style scoped>\n",
       "    .dataframe tbody tr th:only-of-type {\n",
       "        vertical-align: middle;\n",
       "    }\n",
       "\n",
       "    .dataframe tbody tr th {\n",
       "        vertical-align: top;\n",
       "    }\n",
       "\n",
       "    .dataframe thead th {\n",
       "        text-align: right;\n",
       "    }\n",
       "</style>\n",
       "<table border=\"1\" class=\"dataframe\">\n",
       "  <thead>\n",
       "    <tr style=\"text-align: right;\">\n",
       "      <th>movie_id</th>\n",
       "      <th>1</th>\n",
       "      <th>2</th>\n",
       "      <th>3</th>\n",
       "      <th>4</th>\n",
       "      <th>5</th>\n",
       "      <th>6</th>\n",
       "      <th>7</th>\n",
       "      <th>8</th>\n",
       "      <th>9</th>\n",
       "      <th>10</th>\n",
       "      <th>...</th>\n",
       "      <th>1673</th>\n",
       "      <th>1674</th>\n",
       "      <th>1675</th>\n",
       "      <th>1676</th>\n",
       "      <th>1677</th>\n",
       "      <th>1678</th>\n",
       "      <th>1679</th>\n",
       "      <th>1680</th>\n",
       "      <th>1681</th>\n",
       "      <th>1682</th>\n",
       "    </tr>\n",
       "  </thead>\n",
       "  <tbody>\n",
       "    <tr>\n",
       "      <th>0</th>\n",
       "      <td>5.0</td>\n",
       "      <td>3.0</td>\n",
       "      <td>4.0</td>\n",
       "      <td>3.0</td>\n",
       "      <td>3.0</td>\n",
       "      <td>5.0</td>\n",
       "      <td>4.0</td>\n",
       "      <td>1.0</td>\n",
       "      <td>5.0</td>\n",
       "      <td>3.0</td>\n",
       "      <td>...</td>\n",
       "      <td>0.0</td>\n",
       "      <td>0.0</td>\n",
       "      <td>0.0</td>\n",
       "      <td>0.0</td>\n",
       "      <td>0.0</td>\n",
       "      <td>0.0</td>\n",
       "      <td>0.0</td>\n",
       "      <td>0.0</td>\n",
       "      <td>0.0</td>\n",
       "      <td>0.0</td>\n",
       "    </tr>\n",
       "    <tr>\n",
       "      <th>1</th>\n",
       "      <td>4.0</td>\n",
       "      <td>0.0</td>\n",
       "      <td>0.0</td>\n",
       "      <td>0.0</td>\n",
       "      <td>0.0</td>\n",
       "      <td>0.0</td>\n",
       "      <td>0.0</td>\n",
       "      <td>0.0</td>\n",
       "      <td>0.0</td>\n",
       "      <td>2.0</td>\n",
       "      <td>...</td>\n",
       "      <td>0.0</td>\n",
       "      <td>0.0</td>\n",
       "      <td>0.0</td>\n",
       "      <td>0.0</td>\n",
       "      <td>0.0</td>\n",
       "      <td>0.0</td>\n",
       "      <td>0.0</td>\n",
       "      <td>0.0</td>\n",
       "      <td>0.0</td>\n",
       "      <td>0.0</td>\n",
       "    </tr>\n",
       "    <tr>\n",
       "      <th>2</th>\n",
       "      <td>0.0</td>\n",
       "      <td>0.0</td>\n",
       "      <td>0.0</td>\n",
       "      <td>0.0</td>\n",
       "      <td>0.0</td>\n",
       "      <td>0.0</td>\n",
       "      <td>0.0</td>\n",
       "      <td>0.0</td>\n",
       "      <td>0.0</td>\n",
       "      <td>0.0</td>\n",
       "      <td>...</td>\n",
       "      <td>0.0</td>\n",
       "      <td>0.0</td>\n",
       "      <td>0.0</td>\n",
       "      <td>0.0</td>\n",
       "      <td>0.0</td>\n",
       "      <td>0.0</td>\n",
       "      <td>0.0</td>\n",
       "      <td>0.0</td>\n",
       "      <td>0.0</td>\n",
       "      <td>0.0</td>\n",
       "    </tr>\n",
       "    <tr>\n",
       "      <th>3</th>\n",
       "      <td>0.0</td>\n",
       "      <td>0.0</td>\n",
       "      <td>0.0</td>\n",
       "      <td>0.0</td>\n",
       "      <td>0.0</td>\n",
       "      <td>0.0</td>\n",
       "      <td>0.0</td>\n",
       "      <td>0.0</td>\n",
       "      <td>0.0</td>\n",
       "      <td>0.0</td>\n",
       "      <td>...</td>\n",
       "      <td>0.0</td>\n",
       "      <td>0.0</td>\n",
       "      <td>0.0</td>\n",
       "      <td>0.0</td>\n",
       "      <td>0.0</td>\n",
       "      <td>0.0</td>\n",
       "      <td>0.0</td>\n",
       "      <td>0.0</td>\n",
       "      <td>0.0</td>\n",
       "      <td>0.0</td>\n",
       "    </tr>\n",
       "    <tr>\n",
       "      <th>4</th>\n",
       "      <td>4.0</td>\n",
       "      <td>3.0</td>\n",
       "      <td>0.0</td>\n",
       "      <td>0.0</td>\n",
       "      <td>0.0</td>\n",
       "      <td>0.0</td>\n",
       "      <td>0.0</td>\n",
       "      <td>0.0</td>\n",
       "      <td>0.0</td>\n",
       "      <td>0.0</td>\n",
       "      <td>...</td>\n",
       "      <td>0.0</td>\n",
       "      <td>0.0</td>\n",
       "      <td>0.0</td>\n",
       "      <td>0.0</td>\n",
       "      <td>0.0</td>\n",
       "      <td>0.0</td>\n",
       "      <td>0.0</td>\n",
       "      <td>0.0</td>\n",
       "      <td>0.0</td>\n",
       "      <td>0.0</td>\n",
       "    </tr>\n",
       "  </tbody>\n",
       "</table>\n",
       "<p>5 rows × 1682 columns</p>\n",
       "</div>"
      ],
      "text/plain": [
       "movie_id  1     2     3     4     5     6     7     8     9     10    ...  \\\n",
       "0          5.0   3.0   4.0   3.0   3.0   5.0   4.0   1.0   5.0   3.0  ...   \n",
       "1          4.0   0.0   0.0   0.0   0.0   0.0   0.0   0.0   0.0   2.0  ...   \n",
       "2          0.0   0.0   0.0   0.0   0.0   0.0   0.0   0.0   0.0   0.0  ...   \n",
       "3          0.0   0.0   0.0   0.0   0.0   0.0   0.0   0.0   0.0   0.0  ...   \n",
       "4          4.0   3.0   0.0   0.0   0.0   0.0   0.0   0.0   0.0   0.0  ...   \n",
       "\n",
       "movie_id  1673  1674  1675  1676  1677  1678  1679  1680  1681  1682  \n",
       "0          0.0   0.0   0.0   0.0   0.0   0.0   0.0   0.0   0.0   0.0  \n",
       "1          0.0   0.0   0.0   0.0   0.0   0.0   0.0   0.0   0.0   0.0  \n",
       "2          0.0   0.0   0.0   0.0   0.0   0.0   0.0   0.0   0.0   0.0  \n",
       "3          0.0   0.0   0.0   0.0   0.0   0.0   0.0   0.0   0.0   0.0  \n",
       "4          0.0   0.0   0.0   0.0   0.0   0.0   0.0   0.0   0.0   0.0  \n",
       "\n",
       "[5 rows x 1682 columns]"
      ]
     },
     "execution_count": 4,
     "metadata": {},
     "output_type": "execute_result"
    }
   ],
   "source": [
    "ratings_matrix = ratings.pivot_table(index=['user_id'],columns=['movie_id'],values='rating').reset_index(drop=True)\n",
    "ratings_matrix.fillna( 0, inplace = True )\n",
    "\n",
    "ratings_matrix.head()"
   ]
  },
  {
   "cell_type": "code",
   "execution_count": 5,
   "metadata": {
    "scrolled": false,
    "slideshow": {
     "slide_type": "slide"
    }
   },
   "outputs": [
    {
     "data": {
      "image/png": "[encoded data removed]",
      "text/plain": [
       "<Figure size 432x288 with 1 Axes>"
      ]
     },
     "metadata": {
      "needs_background": "light"
     },
     "output_type": "display_data"
    }
   ],
   "source": [
    "plt.imshow(ratings_matrix, interpolation='nearest');"
   ]
  },
  {
   "cell_type": "markdown",
   "metadata": {
    "slideshow": {
     "slide_type": "slide"
    }
   },
   "source": [
    "### Compute users similarities\n",
    "* Cosine Similarity\n",
    "* In `pairwise_distances` the shape of the ratings_matrix should be (`n_samples_X`, `n_features`) = (`n_users`, `n_movies`)."
   ]
  },
  {
   "cell_type": "code",
   "execution_count": 7,
   "metadata": {},
   "outputs": [
    {
     "data": {
      "text/html": [
       "<div>\n",
       "<style scoped>\n",
       "    .dataframe tbody tr th:only-of-type {\n",
       "        vertical-align: middle;\n",
       "    }\n",
       "\n",
       "    .dataframe tbody tr th {\n",
       "        vertical-align: top;\n",
       "    }\n",
       "\n",
       "    .dataframe thead th {\n",
       "        text-align: right;\n",
       "    }\n",
       "</style>\n",
       "<table border=\"1\" class=\"dataframe\">\n",
       "  <thead>\n",
       "    <tr style=\"text-align: right;\">\n",
       "      <th></th>\n",
       "      <th>0</th>\n",
       "      <th>1</th>\n",
       "      <th>2</th>\n",
       "      <th>3</th>\n",
       "      <th>4</th>\n",
       "      <th>5</th>\n",
       "      <th>6</th>\n",
       "      <th>7</th>\n",
       "      <th>8</th>\n",
       "      <th>9</th>\n",
       "      <th>...</th>\n",
       "      <th>933</th>\n",
       "      <th>934</th>\n",
       "      <th>935</th>\n",
       "      <th>936</th>\n",
       "      <th>937</th>\n",
       "      <th>938</th>\n",
       "      <th>939</th>\n",
       "      <th>940</th>\n",
       "      <th>941</th>\n",
       "      <th>942</th>\n",
       "    </tr>\n",
       "  </thead>\n",
       "  <tbody>\n",
       "    <tr>\n",
       "      <th>0</th>\n",
       "      <td>0.000000</td>\n",
       "      <td>0.166931</td>\n",
       "      <td>0.047460</td>\n",
       "      <td>0.064358</td>\n",
       "      <td>0.378475</td>\n",
       "      <td>0.430239</td>\n",
       "      <td>0.440367</td>\n",
       "      <td>0.319072</td>\n",
       "      <td>0.078138</td>\n",
       "      <td>0.376544</td>\n",
       "      <td>...</td>\n",
       "      <td>0.369527</td>\n",
       "      <td>0.119482</td>\n",
       "      <td>0.274876</td>\n",
       "      <td>0.189705</td>\n",
       "      <td>0.197326</td>\n",
       "      <td>0.118095</td>\n",
       "      <td>0.314072</td>\n",
       "      <td>0.148617</td>\n",
       "      <td>0.179508</td>\n",
       "      <td>0.398175</td>\n",
       "    </tr>\n",
       "    <tr>\n",
       "      <th>1</th>\n",
       "      <td>0.166931</td>\n",
       "      <td>0.000000</td>\n",
       "      <td>0.110591</td>\n",
       "      <td>0.178121</td>\n",
       "      <td>0.072979</td>\n",
       "      <td>0.245843</td>\n",
       "      <td>0.107328</td>\n",
       "      <td>0.103344</td>\n",
       "      <td>0.161048</td>\n",
       "      <td>0.159862</td>\n",
       "      <td>...</td>\n",
       "      <td>0.156986</td>\n",
       "      <td>0.307942</td>\n",
       "      <td>0.358789</td>\n",
       "      <td>0.424046</td>\n",
       "      <td>0.319889</td>\n",
       "      <td>0.228583</td>\n",
       "      <td>0.226790</td>\n",
       "      <td>0.161485</td>\n",
       "      <td>0.172268</td>\n",
       "      <td>0.105798</td>\n",
       "    </tr>\n",
       "    <tr>\n",
       "      <th>2</th>\n",
       "      <td>0.047460</td>\n",
       "      <td>0.110591</td>\n",
       "      <td>0.000000</td>\n",
       "      <td>0.344151</td>\n",
       "      <td>0.021245</td>\n",
       "      <td>0.072415</td>\n",
       "      <td>0.066137</td>\n",
       "      <td>0.083060</td>\n",
       "      <td>0.061040</td>\n",
       "      <td>0.065151</td>\n",
       "      <td>...</td>\n",
       "      <td>0.031875</td>\n",
       "      <td>0.042753</td>\n",
       "      <td>0.163829</td>\n",
       "      <td>0.069038</td>\n",
       "      <td>0.124245</td>\n",
       "      <td>0.026271</td>\n",
       "      <td>0.161890</td>\n",
       "      <td>0.101243</td>\n",
       "      <td>0.133416</td>\n",
       "      <td>0.026556</td>\n",
       "    </tr>\n",
       "    <tr>\n",
       "      <th>3</th>\n",
       "      <td>0.064358</td>\n",
       "      <td>0.178121</td>\n",
       "      <td>0.344151</td>\n",
       "      <td>0.000000</td>\n",
       "      <td>0.031804</td>\n",
       "      <td>0.068044</td>\n",
       "      <td>0.091230</td>\n",
       "      <td>0.188060</td>\n",
       "      <td>0.101284</td>\n",
       "      <td>0.060859</td>\n",
       "      <td>...</td>\n",
       "      <td>0.052107</td>\n",
       "      <td>0.036784</td>\n",
       "      <td>0.133115</td>\n",
       "      <td>0.193471</td>\n",
       "      <td>0.146058</td>\n",
       "      <td>0.030138</td>\n",
       "      <td>0.196858</td>\n",
       "      <td>0.152041</td>\n",
       "      <td>0.170086</td>\n",
       "      <td>0.058752</td>\n",
       "    </tr>\n",
       "    <tr>\n",
       "      <th>4</th>\n",
       "      <td>0.378475</td>\n",
       "      <td>0.072979</td>\n",
       "      <td>0.021245</td>\n",
       "      <td>0.031804</td>\n",
       "      <td>0.000000</td>\n",
       "      <td>0.237286</td>\n",
       "      <td>0.373600</td>\n",
       "      <td>0.248930</td>\n",
       "      <td>0.056847</td>\n",
       "      <td>0.201427</td>\n",
       "      <td>...</td>\n",
       "      <td>0.338794</td>\n",
       "      <td>0.080580</td>\n",
       "      <td>0.094924</td>\n",
       "      <td>0.079779</td>\n",
       "      <td>0.148607</td>\n",
       "      <td>0.071459</td>\n",
       "      <td>0.239955</td>\n",
       "      <td>0.139595</td>\n",
       "      <td>0.152497</td>\n",
       "      <td>0.313941</td>\n",
       "    </tr>\n",
       "  </tbody>\n",
       "</table>\n",
       "<p>5 rows × 943 columns</p>\n",
       "</div>"
      ],
      "text/plain": [
       "        0         1         2         3         4         5         6    \\\n",
       "0  0.000000  0.166931  0.047460  0.064358  0.378475  0.430239  0.440367   \n",
       "1  0.166931  0.000000  0.110591  0.178121  0.072979  0.245843  0.107328   \n",
       "2  0.047460  0.110591  0.000000  0.344151  0.021245  0.072415  0.066137   \n",
       "3  0.064358  0.178121  0.344151  0.000000  0.031804  0.068044  0.091230   \n",
       "4  0.378475  0.072979  0.021245  0.031804  0.000000  0.237286  0.373600   \n",
       "\n",
       "        7         8         9    ...       933       934       935       936  \\\n",
       "0  0.319072  0.078138  0.376544  ...  0.369527  0.119482  0.274876  0.189705   \n",
       "1  0.103344  0.161048  0.159862  ...  0.156986  0.307942  0.358789  0.424046   \n",
       "2  0.083060  0.061040  0.065151  ...  0.031875  0.042753  0.163829  0.069038   \n",
       "3  0.188060  0.101284  0.060859  ...  0.052107  0.036784  0.133115  0.193471   \n",
       "4  0.248930  0.056847  0.201427  ...  0.338794  0.080580  0.094924  0.079779   \n",
       "\n",
       "        937       938       939       940       941       942  \n",
       "0  0.197326  0.118095  0.314072  0.148617  0.179508  0.398175  \n",
       "1  0.319889  0.228583  0.226790  0.161485  0.172268  0.105798  \n",
       "2  0.124245  0.026271  0.161890  0.101243  0.133416  0.026556  \n",
       "3  0.146058  0.030138  0.196858  0.152041  0.170086  0.058752  \n",
       "4  0.148607  0.071459  0.239955  0.139595  0.152497  0.313941  \n",
       "\n",
       "[5 rows x 943 columns]"
      ]
     },
     "execution_count": 7,
     "metadata": {},
     "output_type": "execute_result"
    }
   ],
   "source": [
    "user_similarity = 1 - pairwise_distances( ratings_matrix.values, metric=\"cosine\" )\n",
    "np.fill_diagonal( user_similarity, 0 ) #Filling diagonals with 0s for future use when sorting is done\n",
    "users_similarity_matrix = pd.DataFrame( user_similarity )\n",
    "users_similarity_matrix.head(5)"
   ]
  },
  {
   "cell_type": "code",
   "execution_count": 8,
   "metadata": {
    "slideshow": {
     "slide_type": "slide"
    }
   },
   "outputs": [
    {
     "data": {
      "image/png": "[encoded data removed]",
      "text/plain": [
       "<Figure size 432x288 with 1 Axes>"
      ]
     },
     "metadata": {
      "needs_background": "light"
     },
     "output_type": "display_data"
    }
   ],
   "source": [
    "plt.imshow(users_similarity_matrix, interpolation='nearest');"
   ]
  },
  {
   "cell_type": "markdown",
   "metadata": {
    "slideshow": {
     "slide_type": "slide"
    }
   },
   "source": [
    "### Read items info"
   ]
  },
  {
   "cell_type": "code",
   "execution_count": 9,
   "metadata": {},
   "outputs": [],
   "source": [
    "m_cols = ['movie_id', 'title', 'release_date', 'video_release_date', 'imdb_url']\n",
    "movies = pd.read_csv('./data/ml-100k/u.item', sep='|', names=m_cols, usecols=range(5), encoding='latin-1')"
   ]
  },
  {
   "cell_type": "code",
   "execution_count": 10,
   "metadata": {
    "slideshow": {
     "slide_type": "-"
    }
   },
   "outputs": [],
   "source": [
    "# utility function to extract movie's title from ID\n",
    "def movie_index_to_title(idx):\n",
    "    return movies.loc[movies.movie_id == idx, 'title'].values[0]"
   ]
  },
  {
   "cell_type": "markdown",
   "metadata": {
    "slideshow": {
     "slide_type": "slide"
    }
   },
   "source": [
    "#### We can compare the ratings about two movies  "
   ]
  },
  {
   "cell_type": "code",
   "execution_count": 60,
   "metadata": {},
   "outputs": [
    {
     "data": {
      "image/png": "[encoded data removed]",
      "text/plain": [
       "<Figure size 432x288 with 1 Axes>"
      ]
     },
     "metadata": {
      "needs_background": "light"
     },
     "output_type": "display_data"
    }
   ],
   "source": [
    "m1 = 1\n",
    "m2 = 2\n",
    "title1 = movie_index_to_title(m1)\n",
    "title2 = movie_index_to_title(m2)\n",
    "users = [0,1,4,6,12,14,15,21]\n",
    "x_rating = ratings_matrix[[m1]].loc[users]\n",
    "y_rating = ratings_matrix[[m2]].loc[users]\n",
    "\n",
    "fig, ax = plt.subplots()\n",
    "ax.scatter(x_rating, y_rating)\n",
    "ax.set_xlabel(title1)\n",
    "ax.set_ylabel(title2)\n",
    "# annotate data points\n",
    "for i, u in enumerate(users):\n",
    "    ax.annotate(\"User-%d\"%u, (x_rating.iloc[i].values[0], y_rating.iloc[i].values[0]))"
   ]
  },
  {
   "cell_type": "markdown",
   "metadata": {
    "slideshow": {
     "slide_type": "slide"
    }
   },
   "source": [
    "### Recommender Engine"
   ]
  },
  {
   "cell_type": "markdown",
   "metadata": {
    "slideshow": {
     "slide_type": "-"
    }
   },
   "source": [
    "* After you have determined a list of users similar to a **user U** , you need to calculate the **rating R** that **user U** would give to a certain **item I**. \n",
    "* Again, just like similarity, you can do this in multiple ways.\n",
    "* You can **predict** that a **user’s rating $R_{Up}$** for an item $p$ will be close to the **average** of the ratings given to $p$ by the top $n=5$ or top 10 users most similar to $U$. \n",
    "* The mathematical formula for the average rating given by n users would look like this:\n",
    "$$R_{Up} = \\frac{1}{n}\\sum_{u=1}^nR_{up}$$"
   ]
  },
  {
   "cell_type": "code",
   "execution_count": 62,
   "metadata": {},
   "outputs": [
    {
     "data": {
      "text/plain": [
       "649    0.653364\n",
       "312    0.633602\n",
       "405    0.627633\n",
       "233    0.625723\n",
       "307    0.625592\n",
       "Name: 6, dtype: float64"
      ]
     },
     "execution_count": 62,
     "metadata": {},
     "output_type": "execute_result"
    }
   ],
   "source": [
    "N = 5   # first N most similar users\n",
    "user = 6 # user ID\n",
    "sorted_sim = users_similarity_matrix.sort_values(by=[user], ascending = False )[0:N].iloc[:, user]\n",
    "sorted_sim"
   ]
  },
  {
   "cell_type": "code",
   "execution_count": 63,
   "metadata": {
    "scrolled": true,
    "slideshow": {
     "slide_type": "slide"
    }
   },
   "outputs": [
    {
     "name": "stdout",
     "output_type": "stream",
     "text": [
      "most_similar_users to user 6 : [649, 312, 405, 233, 307]\n",
      "similarities: [0.6533638903675445, 0.6336023800671677, 0.6276332175480571, 0.6257228539441237, 0.6255916734046745]\n"
     ]
    }
   ],
   "source": [
    "most_similar_users = list(sorted_sim.index)\n",
    "similarities = list(sorted_sim.values)\n",
    "print(\"most_similar_users to user\", user, \":\",most_similar_users)\n",
    "print(\"similarities:\", similarities)"
   ]
  },
  {
   "cell_type": "code",
   "execution_count": 64,
   "metadata": {},
   "outputs": [
    {
     "name": "stdout",
     "output_type": "stream",
     "text": [
      "Movie title: Toy Story (1995)\n"
     ]
    }
   ],
   "source": [
    "item = 1\n",
    "movie_title = movie_index_to_title(item)\n",
    "print('Movie title:', movie_title)"
   ]
  },
  {
   "cell_type": "code",
   "execution_count": 65,
   "metadata": {
    "slideshow": {
     "slide_type": "slide"
    }
   },
   "outputs": [
    {
     "name": "stdout",
     "output_type": "stream",
     "text": [
      "ratings of similar users: [3.0, 0.0, 0.0, 2.0, 0.0]\n",
      "PREDICTION: the rating that user 6 would give to the item 'Toy Story (1995)' is 2\n"
     ]
    }
   ],
   "source": [
    "# calculate the rating R that U would give to a certain item I\n",
    "ratings_ui = [ratings_matrix.iloc[x, item] for x in  most_similar_users]\n",
    "print(\"ratings of similar users:\", ratings_ui)\n",
    "avg = sum(ratings_ui)/(0.01 + sum(x > 0 for x in ratings_ui))\n",
    "print(\"PREDICTION: the rating that user %d would give to the item '%s' is %d\" % (user, movie_title, round(avg,2)))"
   ]
  },
  {
   "cell_type": "markdown",
   "metadata": {
    "slideshow": {
     "slide_type": "slide"
    }
   },
   "source": [
    "#### Weighted average rating\n",
    "* There will be situations where the N similar users that you found are not equally similar to the target user U.\n",
    "* The weighted average using the **similarity factor S** can help us\n",
    "$$R_U = \\left( \\sum_{u=1}^nR_u S_u\\right) / \\sum_{u=1}^nS_u$$\n",
    "* With a weighted average, you give more consideration to the **ratings of similar users** in order of their similarity."
   ]
  },
  {
   "cell_type": "code",
   "execution_count": 66,
   "metadata": {},
   "outputs": [
    {
     "name": "stdout",
     "output_type": "stream",
     "text": [
      "ratings of similar users: [3.0, 0.0, 0.0, 2.0, 0.0]\n",
      "similarities between users: [0.6533638903675445, 0.6336023800671677, 0.6276332175480571, 0.6257228539441237, 0.6255916734046745]\n",
      "PREDICTION: the rating that user 6 would give to the item 'Toy Story (1995)' is 1\n"
     ]
    }
   ],
   "source": [
    "print(\"ratings of similar users:\", ratings_ui)\n",
    "print(\"similarities between users:\", similarities)\n",
    "dot_prod = sum([x*y for x,y in zip(ratings_ui, similarities)])\n",
    "avg = dot_prod / sum(similarities)\n",
    "print(\"PREDICTION: the rating that user %d would give to the item '%s' is %d\" % (user, movie_title, round(avg,2)))"
   ]
  },
  {
   "cell_type": "markdown",
   "metadata": {
    "slideshow": {
     "slide_type": "slide"
    }
   },
   "source": [
    "<div class=\"alert alert-success\">\n",
    "    \n",
    "## Practice \n",
    "1. Build a new Recommender Engine, by adding to the Weighted average rating the average of all the user's ratings\n",
    "2. Compare some test results\n",
    "</div>"
   ]
  },
  {
   "cell_type": "code",
   "execution_count": 67,
   "metadata": {},
   "outputs": [],
   "source": [
    "# write your code here\n"
   ]
  },
  {
   "cell_type": "markdown",
   "metadata": {
    "slideshow": {
     "slide_type": "slide"
    }
   },
   "source": [
    "## Item-Based Collaborative Filtering\n",
    "* For an **item I**, with a set of **similar items** determined based on rating vectors consisting of received user ratings, \n",
    "* the rating by a user U, who hasn’t rated it, is found by picking out N items from the similarity list that have been rated by U and calculating the rating based on these N ratings.\n",
    "* Intuition: `Two items are similar if they are rated in the same way by many users`."
   ]
  },
  {
   "cell_type": "markdown",
   "metadata": {},
   "source": [
    "### Compute items similarities\n",
    "* Cosine Similarity"
   ]
  },
  {
   "cell_type": "code",
   "execution_count": 68,
   "metadata": {},
   "outputs": [
    {
     "data": {
      "image/png": "[encoded data removed]",
      "text/plain": [
       "<Figure size 432x288 with 1 Axes>"
      ]
     },
     "metadata": {
      "needs_background": "light"
     },
     "output_type": "display_data"
    }
   ],
   "source": [
    "items_ratings_matrix = ratings.pivot_table(index=['movie_id'],columns=['user_id'],values='rating').reset_index(drop=True)\n",
    "items_ratings_matrix.fillna( 0, inplace = True )\n",
    "\n",
    "plt.imshow(items_ratings_matrix, interpolation='nearest');"
   ]
  },
  {
   "cell_type": "code",
   "execution_count": 69,
   "metadata": {},
   "outputs": [
    {
     "data": {
      "text/html": [
       "<div>\n",
       "<style scoped>\n",
       "    .dataframe tbody tr th:only-of-type {\n",
       "        vertical-align: middle;\n",
       "    }\n",
       "\n",
       "    .dataframe tbody tr th {\n",
       "        vertical-align: top;\n",
       "    }\n",
       "\n",
       "    .dataframe thead th {\n",
       "        text-align: right;\n",
       "    }\n",
       "</style>\n",
       "<table border=\"1\" class=\"dataframe\">\n",
       "  <thead>\n",
       "    <tr style=\"text-align: right;\">\n",
       "      <th></th>\n",
       "      <th>0</th>\n",
       "      <th>1</th>\n",
       "      <th>2</th>\n",
       "      <th>3</th>\n",
       "      <th>4</th>\n",
       "      <th>5</th>\n",
       "      <th>6</th>\n",
       "      <th>7</th>\n",
       "      <th>8</th>\n",
       "      <th>9</th>\n",
       "      <th>...</th>\n",
       "      <th>1672</th>\n",
       "      <th>1673</th>\n",
       "      <th>1674</th>\n",
       "      <th>1675</th>\n",
       "      <th>1676</th>\n",
       "      <th>1677</th>\n",
       "      <th>1678</th>\n",
       "      <th>1679</th>\n",
       "      <th>1680</th>\n",
       "      <th>1681</th>\n",
       "    </tr>\n",
       "  </thead>\n",
       "  <tbody>\n",
       "    <tr>\n",
       "      <th>0</th>\n",
       "      <td>0.000000</td>\n",
       "      <td>0.402382</td>\n",
       "      <td>0.330245</td>\n",
       "      <td>0.454938</td>\n",
       "      <td>0.286714</td>\n",
       "      <td>0.116344</td>\n",
       "      <td>0.620979</td>\n",
       "      <td>0.481114</td>\n",
       "      <td>0.496288</td>\n",
       "      <td>0.273935</td>\n",
       "      <td>...</td>\n",
       "      <td>0.035387</td>\n",
       "      <td>0.0</td>\n",
       "      <td>0.000000</td>\n",
       "      <td>0.000000</td>\n",
       "      <td>0.035387</td>\n",
       "      <td>0.0</td>\n",
       "      <td>0.0</td>\n",
       "      <td>0.0</td>\n",
       "      <td>0.047183</td>\n",
       "      <td>0.047183</td>\n",
       "    </tr>\n",
       "    <tr>\n",
       "      <th>1</th>\n",
       "      <td>0.402382</td>\n",
       "      <td>0.000000</td>\n",
       "      <td>0.273069</td>\n",
       "      <td>0.502571</td>\n",
       "      <td>0.318836</td>\n",
       "      <td>0.083563</td>\n",
       "      <td>0.383403</td>\n",
       "      <td>0.337002</td>\n",
       "      <td>0.255252</td>\n",
       "      <td>0.171082</td>\n",
       "      <td>...</td>\n",
       "      <td>0.000000</td>\n",
       "      <td>0.0</td>\n",
       "      <td>0.000000</td>\n",
       "      <td>0.000000</td>\n",
       "      <td>0.000000</td>\n",
       "      <td>0.0</td>\n",
       "      <td>0.0</td>\n",
       "      <td>0.0</td>\n",
       "      <td>0.078299</td>\n",
       "      <td>0.078299</td>\n",
       "    </tr>\n",
       "    <tr>\n",
       "      <th>2</th>\n",
       "      <td>0.330245</td>\n",
       "      <td>0.273069</td>\n",
       "      <td>0.000000</td>\n",
       "      <td>0.324866</td>\n",
       "      <td>0.212957</td>\n",
       "      <td>0.106722</td>\n",
       "      <td>0.372921</td>\n",
       "      <td>0.200794</td>\n",
       "      <td>0.273669</td>\n",
       "      <td>0.158104</td>\n",
       "      <td>...</td>\n",
       "      <td>0.000000</td>\n",
       "      <td>0.0</td>\n",
       "      <td>0.000000</td>\n",
       "      <td>0.000000</td>\n",
       "      <td>0.032292</td>\n",
       "      <td>0.0</td>\n",
       "      <td>0.0</td>\n",
       "      <td>0.0</td>\n",
       "      <td>0.000000</td>\n",
       "      <td>0.096875</td>\n",
       "    </tr>\n",
       "    <tr>\n",
       "      <th>3</th>\n",
       "      <td>0.454938</td>\n",
       "      <td>0.502571</td>\n",
       "      <td>0.324866</td>\n",
       "      <td>0.000000</td>\n",
       "      <td>0.334239</td>\n",
       "      <td>0.090308</td>\n",
       "      <td>0.489283</td>\n",
       "      <td>0.490236</td>\n",
       "      <td>0.419044</td>\n",
       "      <td>0.252561</td>\n",
       "      <td>...</td>\n",
       "      <td>0.000000</td>\n",
       "      <td>0.0</td>\n",
       "      <td>0.094022</td>\n",
       "      <td>0.094022</td>\n",
       "      <td>0.037609</td>\n",
       "      <td>0.0</td>\n",
       "      <td>0.0</td>\n",
       "      <td>0.0</td>\n",
       "      <td>0.056413</td>\n",
       "      <td>0.075218</td>\n",
       "    </tr>\n",
       "    <tr>\n",
       "      <th>4</th>\n",
       "      <td>0.286714</td>\n",
       "      <td>0.318836</td>\n",
       "      <td>0.212957</td>\n",
       "      <td>0.334239</td>\n",
       "      <td>0.000000</td>\n",
       "      <td>0.037299</td>\n",
       "      <td>0.334769</td>\n",
       "      <td>0.259161</td>\n",
       "      <td>0.272448</td>\n",
       "      <td>0.055453</td>\n",
       "      <td>...</td>\n",
       "      <td>0.000000</td>\n",
       "      <td>0.0</td>\n",
       "      <td>0.000000</td>\n",
       "      <td>0.000000</td>\n",
       "      <td>0.000000</td>\n",
       "      <td>0.0</td>\n",
       "      <td>0.0</td>\n",
       "      <td>0.0</td>\n",
       "      <td>0.000000</td>\n",
       "      <td>0.094211</td>\n",
       "    </tr>\n",
       "  </tbody>\n",
       "</table>\n",
       "<p>5 rows × 1682 columns</p>\n",
       "</div>"
      ],
      "text/plain": [
       "       0         1         2         3         4         5         6     \\\n",
       "0  0.000000  0.402382  0.330245  0.454938  0.286714  0.116344  0.620979   \n",
       "1  0.402382  0.000000  0.273069  0.502571  0.318836  0.083563  0.383403   \n",
       "2  0.330245  0.273069  0.000000  0.324866  0.212957  0.106722  0.372921   \n",
       "3  0.454938  0.502571  0.324866  0.000000  0.334239  0.090308  0.489283   \n",
       "4  0.286714  0.318836  0.212957  0.334239  0.000000  0.037299  0.334769   \n",
       "\n",
       "       7         8         9     ...      1672  1673      1674      1675  \\\n",
       "0  0.481114  0.496288  0.273935  ...  0.035387   0.0  0.000000  0.000000   \n",
       "1  0.337002  0.255252  0.171082  ...  0.000000   0.0  0.000000  0.000000   \n",
       "2  0.200794  0.273669  0.158104  ...  0.000000   0.0  0.000000  0.000000   \n",
       "3  0.490236  0.419044  0.252561  ...  0.000000   0.0  0.094022  0.094022   \n",
       "4  0.259161  0.272448  0.055453  ...  0.000000   0.0  0.000000  0.000000   \n",
       "\n",
       "       1676  1677  1678  1679      1680      1681  \n",
       "0  0.035387   0.0   0.0   0.0  0.047183  0.047183  \n",
       "1  0.000000   0.0   0.0   0.0  0.078299  0.078299  \n",
       "2  0.032292   0.0   0.0   0.0  0.000000  0.096875  \n",
       "3  0.037609   0.0   0.0   0.0  0.056413  0.075218  \n",
       "4  0.000000   0.0   0.0   0.0  0.000000  0.094211  \n",
       "\n",
       "[5 rows x 1682 columns]"
      ]
     },
     "execution_count": 69,
     "metadata": {},
     "output_type": "execute_result"
    }
   ],
   "source": [
    "item_similarity = 1 - pairwise_distances( items_ratings_matrix.values, metric=\"cosine\" )\n",
    "np.fill_diagonal( item_similarity, 0 ) #Filling diagonals with 0s for future use when sorting is done\n",
    "items_similarity_matrix = pd.DataFrame( item_similarity )\n",
    "items_similarity_matrix.head(5)"
   ]
  },
  {
   "cell_type": "markdown",
   "metadata": {
    "slideshow": {
     "slide_type": "slide"
    }
   },
   "source": [
    "### Recommender Engine\n",
    "* After you have determined a list of items similar to a **item I** , you need to calculate the **rating $R_{UI}$** that **user U** would give to a certain **item I**. \n",
    "* You can **predict** a **user’s rating $R_{UI}$** for an item I  \n",
    "  * Finding the set of **most similar items $p$ to item I** that have been rated by user U.\n",
    "  * Aggregating their ratings $R_{Up}$ to predict the rating for $R_{UI}$ item $I$\n",
    "* The mathematical formula for the average rating given by n users would look like this:\n",
    "$$R_{UI} = \\frac{1}{n}\\sum_{p=1}^nR_{Up}$$"
   ]
  },
  {
   "cell_type": "code",
   "execution_count": 70,
   "metadata": {
    "slideshow": {
     "slide_type": "slide"
    }
   },
   "outputs": [
    {
     "data": {
      "text/plain": [
       "232    0.659619\n",
       "160    0.623544\n",
       "384    0.617274\n",
       "402    0.616143\n",
       "61     0.604969\n",
       "575    0.601960\n",
       "225    0.597083\n",
       "230    0.595684\n",
       "549    0.590124\n",
       "95     0.584100\n",
       "Name: 1, dtype: float64"
      ]
     },
     "execution_count": 70,
     "metadata": {},
     "output_type": "execute_result"
    }
   ],
   "source": [
    "N = 10   # first N most similar items\n",
    "item = 1 # Item ID\n",
    "sorted_sim = items_similarity_matrix.sort_values(by=[item], ascending = False )[0:N].iloc[:, item]\n",
    "sorted_sim"
   ]
  },
  {
   "cell_type": "code",
   "execution_count": 71,
   "metadata": {},
   "outputs": [
    {
     "name": "stdout",
     "output_type": "stream",
     "text": [
      "Movie title: Toy Story (1995)\n"
     ]
    }
   ],
   "source": [
    "movie_title = movie_index_to_title(item) \n",
    "print('Movie title:', movie_title)"
   ]
  },
  {
   "cell_type": "code",
   "execution_count": 72,
   "metadata": {
    "slideshow": {
     "slide_type": "slide"
    }
   },
   "outputs": [
    {
     "name": "stdout",
     "output_type": "stream",
     "text": [
      "most_similar_items to movie '' Toy Story (1995) '': ['Young Guns (1988)', 'Glengarry Glen Ross (1992)', 'Naked Gun 33 1/3: The Final Insult (1994)', 'Ghost (1990)', 'Three Colors: White (1994)', \"City Slickers II: The Legend of Curly's Gold (1994)\", '101 Dalmatians (1996)', 'Star Trek IV: The Voyage Home (1986)', 'Rob Roy (1995)', 'Aladdin (1992)']\n",
      "similarities: [0.6596186220255105, 0.6235435842660795, 0.617273683459067, 0.6161431166917779, 0.6049690376155201, 0.6019595420661139, 0.5970826652116645, 0.595684463428062, 0.5901235125559376, 0.5841003612680911]\n"
     ]
    }
   ],
   "source": [
    "most_similar_items = list(sorted_sim.index)\n",
    "similarities = list(sorted_sim.values)\n",
    "print(\"most_similar_items to movie ''\", movie_title, \"'':\",[movie_index_to_title(i) for i in most_similar_items])\n",
    "print(\"similarities:\", similarities)"
   ]
  },
  {
   "cell_type": "code",
   "execution_count": 73,
   "metadata": {},
   "outputs": [
    {
     "name": "stdout",
     "output_type": "stream",
     "text": [
      "ratings of similar items: [4.0, 0.0, 4.0, 3.0, 4.0, 0.0, 3.0, 2.0, 0.0, 0.0]\n",
      "PREDICTION: the rating that user 4 would give to the item 'Toy Story (1995)' is 3\n"
     ]
    }
   ],
   "source": [
    "user = 4\n",
    "# calculate the rating R that U would give to a certain item I\n",
    "ratings_ui = [items_ratings_matrix.iloc[x, user] for x in  most_similar_items]\n",
    "print(\"ratings of similar items:\", ratings_ui)\n",
    "avg = sum(ratings_ui)/(0.01 + sum(x > 0 for x in ratings_ui))\n",
    "print(\"PREDICTION: the rating that user %d would give to the item '%s' is %d\" % (user, movie_title, round(avg,2)))"
   ]
  },
  {
   "cell_type": "markdown",
   "metadata": {
    "slideshow": {
     "slide_type": "slide"
    }
   },
   "source": [
    "<div class=\"alert alert-success\">\n",
    "    \n",
    "## Practice \n",
    "1. Build a new Recommender Engine, by changing the similarity metric ('jaccard', 'correlation', 'cityblock', 'euclidean', 'minkowski'). See more [here](https://docs.scipy.org/doc/scipy/reference/generated/scipy.spatial.distance.pdist.html).\n",
    "2. Compare some test results\n",
    "</div>"
   ]
  },
  {
   "cell_type": "code",
   "execution_count": 74,
   "metadata": {},
   "outputs": [],
   "source": [
    "# write your code here\n"
   ]
  }
 ],
 "metadata": {
  "celltoolbar": "Slideshow",
  "kernelspec": {
   "display_name": "Python 3",
   "language": "python",
   "name": "python3"
  },
  "language_info": {
   "codemirror_mode": {
    "name": "ipython",
    "version": 3
   },
   "file_extension": ".py",
   "mimetype": "text/x-python",
   "name": "python",
   "nbconvert_exporter": "python",
   "pygments_lexer": "ipython3",
   "version": "3.5.2"
  }
 },
 "nbformat": 4,
 "nbformat_minor": 1
}
